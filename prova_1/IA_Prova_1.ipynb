{
  "cells": [
    {
      "cell_type": "markdown",
      "metadata": {
        "id": "view-in-github",
        "colab_type": "text"
      },
      "source": [
        "<a href=\"https://colab.research.google.com/github/mthonorio/IA/blob/main/prova_1/IA_Prova_1.ipynb\" target=\"_parent\"><img src=\"https://colab.research.google.com/assets/colab-badge.svg\" alt=\"Open In Colab\"/></a>"
      ]
    },
    {
      "cell_type": "markdown",
      "source": [
        "# 1º Prova de Inteligência Artificial 2021.2\n",
        "#### **Aluno:** Matheus B. Honório\n",
        "#### **Matrícula:** 20190097098"
      ],
      "metadata": {
        "id": "oLrH5XfRL-2q"
      }
    },
    {
      "cell_type": "markdown",
      "source": [
        "## Questão 1:"
      ],
      "metadata": {
        "id": "Z8s1h4_R9p8J"
      }
    },
    {
      "cell_type": "markdown",
      "source": [
        "**(1 Ponto)** Para cada um dos agentes a seguir, desenvolva uma descrição completando a tabela abaixo sobre o ambiente de tarefas de cada um. \n",
        "\n",
        "(a) Agente comentarista de jogo. \n",
        "\n",
        "(b) Agente sugestor de vinho.\n",
        "\n",
        "(c) Agente treinador de time (como de basquete).\n",
        "\n",
        "*Obs:* Para o preenchimento da tabela abaixo foi escolhido como esporte dos itens **a** e **c** o basquete.\n",
        "\n",
        "| Agente | Medida de desempenho | Ambiente | Atuadores | Sensores |\n",
        "| :----: | :------------------ | :------- | :-------- | :------- |\n",
        "| a | Deve falar sobre a pontuação e movimento dos jogadores <br/> e das torcidas | Quadra, Times, Pontuação e Arbitragem | Microfone e Caixas de Som | Câmeras, Placar e Movimento |\n",
        "| b | Notificar o cliente sobre o melhor vinho para o evento proposto,<br/> suas principais características e preços | Restaurantes, Vinícolas, Vinhos e <br/> Eventos de amostra | Monitor e Caixa de Som | Câmera, Odômetro e Microfone |\n",
        "| c | Maximizar as estratégias e treinamento do time por completo e <br/> individualmente, imprimir exercícios e estatísticas dos jogadores | Quadra e Conjunto de jogadores | Monitor, Impressora e Caixa de Som | Câmera, Odômetro e Microfone |\n",
        " "
      ],
      "metadata": {
        "id": "SPvyt5zWLx2l"
      }
    },
    {
      "cell_type": "markdown",
      "source": [
        "## Questão 2:"
      ],
      "metadata": {
        "id": "9rcbGUHV9yzz"
      }
    },
    {
      "cell_type": "markdown",
      "source": [
        "**(2 Pontos)** Diferencie os 4 tipos de aprendizado de máquina. Para tanto, escolha uma base de dados do Kaggle e explique como aplicar os 4 métodos nessa mesma base."
      ],
      "metadata": {
        "id": "miuP8g13SFzC"
      }
    },
    {
      "cell_type": "markdown",
      "source": [
        "A base escolhida para a questão foi a [MovieLens 20M Dataset](https://www.kaggle.com/datasets/grouplens/movielens-20m-dataset)."
      ],
      "metadata": {
        "id": "liTzm76AuGj8"
      }
    },
    {
      "cell_type": "markdown",
      "source": [
        "### Aprendizagem supervisionada\n"
      ],
      "metadata": {
        "id": "SjmNKZ0IxLA8"
      }
    },
    {
      "cell_type": "markdown",
      "source": [
        "O algoritmo de aprendizado (indutor) recebe um conjunto de exemplos de treinamento no qual os rótulos das classes são conhecidos para construir um classificador que possa determinar corretamente a classe de novos exemplos ainda não rotulados. Portanto, aplicando o método de aprendizagem supervisionada na nossa base de dados abordando como objetivo principal um modelo de **classificação** de gêneros de filmes de forma que ao submeter uma descrição e seu título é possível obter os seus gêneros."
      ],
      "metadata": {
        "id": "3quhN_Crqz6G"
      }
    },
    {
      "cell_type": "markdown",
      "source": [
        "### Aprendizagem não supervisionada"
      ],
      "metadata": {
        "id": "UmDnufXaPNMN"
      }
    },
    {
      "cell_type": "markdown",
      "source": [
        "O método de aprendizagem não supervisionada busca analisar e induzir os exemplos fornecidos determinando se alguns deles podem ser agrupados de alguma maneira, formando agrupamentos ou clusters, ou seja, em nossa base de dados ao submetermos os filmes da base de dados, o algoritmo separará os filmes e agrupá-los em gêneros ou outra categoria. "
      ],
      "metadata": {
        "id": "hyeukBZHq_LN"
      }
    },
    {
      "cell_type": "markdown",
      "source": [
        "### Aprendizagem semi-supervisionada"
      ],
      "metadata": {
        "id": "-0CuXaVFPRSL"
      }
    },
    {
      "cell_type": "markdown",
      "source": [
        "O método de aprendizagem semi-supervisionada é o treinamento de classificadores quando uma grande de exemplos não rotulados está disponível acompanhado de um pequeno conjunto de exemplos rotulados. Portanto, em nossa base de dados poucos dados são conhecidos e uma grande parte desconhecida, podemos utilizar o aprendizado para classificar, por exemplo, classificação dos filmes utilizando semelhanças observáveis pela descrição, título ou direção."
      ],
      "metadata": {
        "id": "1euRCzzlwm4J"
      }
    },
    {
      "cell_type": "markdown",
      "source": [
        "### Aprendizagem por reforço"
      ],
      "metadata": {
        "id": "_WPLhlcNPdEV"
      }
    },
    {
      "cell_type": "markdown",
      "source": [
        "A aprendizagem por reforço trata de situações onde um agente aprende por tentativa e erro ao atuar sobre um ambiente dinâmico, ou seja, no nosso caso através da tentativa e erro a IA pode rotular a classificação etária do filme através de seu gênero devido ao diretor do título, descrição e gênero."
      ],
      "metadata": {
        "id": "5zEMKmmV3Jct"
      }
    },
    {
      "cell_type": "markdown",
      "source": [
        "## Questão 3:"
      ],
      "metadata": {
        "id": "Ti-tQ_it99LU"
      }
    },
    {
      "cell_type": "markdown",
      "source": [
        "**(5 Pontos)** Em um Jupyter Notebook (link do collab, GitHub ou arquivo), utilize o método K vizinhos mais próximos na base escolhida na questão anterior para um contexto SUPERVISIONADO e para classificação:\n",
        "\n",
        "1. Aplique processos de pré-processamento e os necessários para execução do método K-NN.\n",
        "2. Aplique correlação ou PCA e selecione um número menor de atributos com esses métodos e justifique sua decisão.\n",
        "3. Escolha 5 valores de K e mostre os resultados (escolha 3 métricas de avaliação e mostre a matriz de confusão) e explique os resultados encontrados.\n",
        "4. Escolha 2 métricas de similaridade (diferentes distâncias ou outras métricas - correlação, por exemplo) para definir o(s) vizinho(s) mais próximos e explique os resultados encontrados.\n",
        "5. Melhor K e melhor distância e testar com o conjunto de atributos do item 2.\n"
      ],
      "metadata": {
        "id": "DRuQ2qqXUJuM"
      }
    },
    {
      "cell_type": "code",
      "source": [
        "#bibliotecas necessárias para ler/manipular/visualizar dados\n",
        "import pandas as pd\n",
        "import numpy as np\n",
        "import matplotlib.pyplot as plt\n",
        "\n",
        "#bibliotecas para criar o modelo de ML\n",
        "from scipy.sparse import csr_matrix\n",
        "from sklearn.neighbors import NearestNeighbors\n",
        "from sklearn import preprocessing\n",
        "from sklearn.model_selection import train_test_split\n",
        "from sklearn.preprocessing import StandardScaler\n",
        "from sklearn.metrics import accuracy_score\n",
        "from sklearn.decomposition import PCA\n",
        "from sklearn import metrics\n",
        "from sklearn.metrics import confusion_matrix"
      ],
      "metadata": {
        "id": "UFA3y4hrSLCM"
      },
      "execution_count": 40,
      "outputs": []
    },
    {
      "cell_type": "code",
      "execution_count": 41,
      "metadata": {
        "_cell_guid": "79c7e3d0-c299-4dcb-8224-4455121ee9b0",
        "_uuid": "d629ff2d2480ee46fbb7e2d37f6b5fab8052498a",
        "id": "NS8XI4DboKUw"
      },
      "outputs": [],
      "source": [
        "# Lendo a base de dados e atribuindo a uma variável\n",
        "data_movie = pd.read_csv(\"movie.csv\")\n",
        "data_rating = pd.read_csv(\"rating.csv\")"
      ]
    },
    {
      "cell_type": "code",
      "execution_count": 33,
      "metadata": {
        "id": "w6AMRZUIoKUx"
      },
      "outputs": [],
      "source": [
        "# Acessando o grupo de colunas e atribuindo a variável\n",
        "movie = data_movie.loc[:,{\"movieId\",\"title\"}]\n",
        "rating = data_rating.loc[:,{\"userId\",\"movieId\",\"rating\"}]"
      ]
    },
    {
      "cell_type": "code",
      "execution_count": 34,
      "metadata": {
        "colab": {
          "base_uri": "https://localhost:8080/",
          "height": 800
        },
        "id": "NDNyFrWvoKUx",
        "outputId": "6b338622-04bd-4dfb-c4fe-f096923d4d1c"
      },
      "outputs": [
        {
          "output_type": "execute_result",
          "data": {
            "text/plain": [
              "userId                                 1       2       3       4       5       \\\n",
              "title                                                                           \n",
              "Ace Ventura: When Nature Calls (1995)     0.0     0.0     0.0     3.0     0.0   \n",
              "Across the Sea of Time (1995)             0.0     0.0     0.0     0.0     0.0   \n",
              "Amazing Panda Adventure, The (1995)       0.0     0.0     0.0     0.0     0.0   \n",
              "American President, The (1995)            0.0     0.0     0.0     0.0     5.0   \n",
              "Angela (1995)                             0.0     0.0     0.0     0.0     0.0   \n",
              "Angels and Insects (1995)                 0.0     0.0     0.0     0.0     0.0   \n",
              "Anne Frank Remembered (1995)              0.0     0.0     0.0     0.0     0.0   \n",
              "Antonia's Line (Antonia) (1995)           0.0     0.0     0.0     0.0     0.0   \n",
              "Assassins (1995)                          0.0     0.0     0.0     0.0     0.0   \n",
              "Babe (1995)                               0.0     0.0     0.0     0.0     0.0   \n",
              "\n",
              "userId                                 6       7       8       10      11      \\\n",
              "title                                                                           \n",
              "Ace Ventura: When Nature Calls (1995)     0.0     0.0     1.0     0.0     3.5   \n",
              "Across the Sea of Time (1995)             0.0     0.0     0.0     0.0     0.0   \n",
              "Amazing Panda Adventure, The (1995)       0.0     0.0     0.0     0.0     0.0   \n",
              "American President, The (1995)            0.0     4.0     0.0     4.0     0.0   \n",
              "Angela (1995)                             0.0     0.0     0.0     0.0     0.0   \n",
              "Angels and Insects (1995)                 0.0     0.0     0.0     0.0     0.0   \n",
              "Anne Frank Remembered (1995)              0.0     0.0     0.0     0.0     0.0   \n",
              "Antonia's Line (Antonia) (1995)           0.0     0.0     0.0     0.0     0.0   \n",
              "Assassins (1995)                          0.0     0.0     0.0     0.0     0.0   \n",
              "Babe (1995)                               0.0     0.0     0.0     0.0     0.0   \n",
              "\n",
              "userId                                 ...  138484  138485  138486  138487  \\\n",
              "title                                  ...                                   \n",
              "Ace Ventura: When Nature Calls (1995)  ...     2.0     0.0     0.0     0.0   \n",
              "Across the Sea of Time (1995)          ...     0.0     0.0     0.0     0.0   \n",
              "Amazing Panda Adventure, The (1995)    ...     0.0     0.0     0.0     0.0   \n",
              "American President, The (1995)         ...     4.0     0.0     0.0     0.0   \n",
              "Angela (1995)                          ...     0.0     0.0     0.0     0.0   \n",
              "Angels and Insects (1995)              ...     0.0     0.0     0.0     0.0   \n",
              "Anne Frank Remembered (1995)           ...     0.0     0.0     0.0     0.0   \n",
              "Antonia's Line (Antonia) (1995)        ...     0.0     0.0     0.0     0.0   \n",
              "Assassins (1995)                       ...     4.0     0.0     0.0     0.0   \n",
              "Babe (1995)                            ...     0.0     0.0     3.5     0.0   \n",
              "\n",
              "userId                                 138488  138489  138490  138491  138492  \\\n",
              "title                                                                           \n",
              "Ace Ventura: When Nature Calls (1995)     0.0     0.0     0.0     0.0     0.0   \n",
              "Across the Sea of Time (1995)             0.0     0.0     0.0     0.0     0.0   \n",
              "Amazing Panda Adventure, The (1995)       0.0     0.0     0.0     0.0     0.0   \n",
              "American President, The (1995)            0.0     0.0     0.0     0.0     0.0   \n",
              "Angela (1995)                             0.0     0.0     0.0     0.0     0.0   \n",
              "Angels and Insects (1995)                 0.0     0.0     4.0     0.0     0.0   \n",
              "Anne Frank Remembered (1995)              0.0     0.0     0.0     0.0     0.0   \n",
              "Antonia's Line (Antonia) (1995)           0.0     0.0     3.0     0.0     0.0   \n",
              "Assassins (1995)                          0.0     0.0     0.0     0.0     0.0   \n",
              "Babe (1995)                               0.0     0.0     5.0     0.0     0.0   \n",
              "\n",
              "userId                                 138493  \n",
              "title                                          \n",
              "Ace Ventura: When Nature Calls (1995)     4.0  \n",
              "Across the Sea of Time (1995)             0.0  \n",
              "Amazing Panda Adventure, The (1995)       0.0  \n",
              "American President, The (1995)            0.0  \n",
              "Angela (1995)                             0.0  \n",
              "Angels and Insects (1995)                 0.0  \n",
              "Anne Frank Remembered (1995)              0.0  \n",
              "Antonia's Line (Antonia) (1995)           0.0  \n",
              "Assassins (1995)                          0.0  \n",
              "Babe (1995)                               3.0  \n",
              "\n",
              "[10 rows x 123161 columns]"
            ],
            "text/html": [
              "\n",
              "  <div id=\"df-d9e300c3-bb31-4204-a10a-776e07984ad2\">\n",
              "    <div class=\"colab-df-container\">\n",
              "      <div>\n",
              "<style scoped>\n",
              "    .dataframe tbody tr th:only-of-type {\n",
              "        vertical-align: middle;\n",
              "    }\n",
              "\n",
              "    .dataframe tbody tr th {\n",
              "        vertical-align: top;\n",
              "    }\n",
              "\n",
              "    .dataframe thead th {\n",
              "        text-align: right;\n",
              "    }\n",
              "</style>\n",
              "<table border=\"1\" class=\"dataframe\">\n",
              "  <thead>\n",
              "    <tr style=\"text-align: right;\">\n",
              "      <th>userId</th>\n",
              "      <th>1</th>\n",
              "      <th>2</th>\n",
              "      <th>3</th>\n",
              "      <th>4</th>\n",
              "      <th>5</th>\n",
              "      <th>6</th>\n",
              "      <th>7</th>\n",
              "      <th>8</th>\n",
              "      <th>10</th>\n",
              "      <th>11</th>\n",
              "      <th>...</th>\n",
              "      <th>138484</th>\n",
              "      <th>138485</th>\n",
              "      <th>138486</th>\n",
              "      <th>138487</th>\n",
              "      <th>138488</th>\n",
              "      <th>138489</th>\n",
              "      <th>138490</th>\n",
              "      <th>138491</th>\n",
              "      <th>138492</th>\n",
              "      <th>138493</th>\n",
              "    </tr>\n",
              "    <tr>\n",
              "      <th>title</th>\n",
              "      <th></th>\n",
              "      <th></th>\n",
              "      <th></th>\n",
              "      <th></th>\n",
              "      <th></th>\n",
              "      <th></th>\n",
              "      <th></th>\n",
              "      <th></th>\n",
              "      <th></th>\n",
              "      <th></th>\n",
              "      <th></th>\n",
              "      <th></th>\n",
              "      <th></th>\n",
              "      <th></th>\n",
              "      <th></th>\n",
              "      <th></th>\n",
              "      <th></th>\n",
              "      <th></th>\n",
              "      <th></th>\n",
              "      <th></th>\n",
              "      <th></th>\n",
              "    </tr>\n",
              "  </thead>\n",
              "  <tbody>\n",
              "    <tr>\n",
              "      <th>Ace Ventura: When Nature Calls (1995)</th>\n",
              "      <td>0.0</td>\n",
              "      <td>0.0</td>\n",
              "      <td>0.0</td>\n",
              "      <td>3.0</td>\n",
              "      <td>0.0</td>\n",
              "      <td>0.0</td>\n",
              "      <td>0.0</td>\n",
              "      <td>1.0</td>\n",
              "      <td>0.0</td>\n",
              "      <td>3.5</td>\n",
              "      <td>...</td>\n",
              "      <td>2.0</td>\n",
              "      <td>0.0</td>\n",
              "      <td>0.0</td>\n",
              "      <td>0.0</td>\n",
              "      <td>0.0</td>\n",
              "      <td>0.0</td>\n",
              "      <td>0.0</td>\n",
              "      <td>0.0</td>\n",
              "      <td>0.0</td>\n",
              "      <td>4.0</td>\n",
              "    </tr>\n",
              "    <tr>\n",
              "      <th>Across the Sea of Time (1995)</th>\n",
              "      <td>0.0</td>\n",
              "      <td>0.0</td>\n",
              "      <td>0.0</td>\n",
              "      <td>0.0</td>\n",
              "      <td>0.0</td>\n",
              "      <td>0.0</td>\n",
              "      <td>0.0</td>\n",
              "      <td>0.0</td>\n",
              "      <td>0.0</td>\n",
              "      <td>0.0</td>\n",
              "      <td>...</td>\n",
              "      <td>0.0</td>\n",
              "      <td>0.0</td>\n",
              "      <td>0.0</td>\n",
              "      <td>0.0</td>\n",
              "      <td>0.0</td>\n",
              "      <td>0.0</td>\n",
              "      <td>0.0</td>\n",
              "      <td>0.0</td>\n",
              "      <td>0.0</td>\n",
              "      <td>0.0</td>\n",
              "    </tr>\n",
              "    <tr>\n",
              "      <th>Amazing Panda Adventure, The (1995)</th>\n",
              "      <td>0.0</td>\n",
              "      <td>0.0</td>\n",
              "      <td>0.0</td>\n",
              "      <td>0.0</td>\n",
              "      <td>0.0</td>\n",
              "      <td>0.0</td>\n",
              "      <td>0.0</td>\n",
              "      <td>0.0</td>\n",
              "      <td>0.0</td>\n",
              "      <td>0.0</td>\n",
              "      <td>...</td>\n",
              "      <td>0.0</td>\n",
              "      <td>0.0</td>\n",
              "      <td>0.0</td>\n",
              "      <td>0.0</td>\n",
              "      <td>0.0</td>\n",
              "      <td>0.0</td>\n",
              "      <td>0.0</td>\n",
              "      <td>0.0</td>\n",
              "      <td>0.0</td>\n",
              "      <td>0.0</td>\n",
              "    </tr>\n",
              "    <tr>\n",
              "      <th>American President, The (1995)</th>\n",
              "      <td>0.0</td>\n",
              "      <td>0.0</td>\n",
              "      <td>0.0</td>\n",
              "      <td>0.0</td>\n",
              "      <td>5.0</td>\n",
              "      <td>0.0</td>\n",
              "      <td>4.0</td>\n",
              "      <td>0.0</td>\n",
              "      <td>4.0</td>\n",
              "      <td>0.0</td>\n",
              "      <td>...</td>\n",
              "      <td>4.0</td>\n",
              "      <td>0.0</td>\n",
              "      <td>0.0</td>\n",
              "      <td>0.0</td>\n",
              "      <td>0.0</td>\n",
              "      <td>0.0</td>\n",
              "      <td>0.0</td>\n",
              "      <td>0.0</td>\n",
              "      <td>0.0</td>\n",
              "      <td>0.0</td>\n",
              "    </tr>\n",
              "    <tr>\n",
              "      <th>Angela (1995)</th>\n",
              "      <td>0.0</td>\n",
              "      <td>0.0</td>\n",
              "      <td>0.0</td>\n",
              "      <td>0.0</td>\n",
              "      <td>0.0</td>\n",
              "      <td>0.0</td>\n",
              "      <td>0.0</td>\n",
              "      <td>0.0</td>\n",
              "      <td>0.0</td>\n",
              "      <td>0.0</td>\n",
              "      <td>...</td>\n",
              "      <td>0.0</td>\n",
              "      <td>0.0</td>\n",
              "      <td>0.0</td>\n",
              "      <td>0.0</td>\n",
              "      <td>0.0</td>\n",
              "      <td>0.0</td>\n",
              "      <td>0.0</td>\n",
              "      <td>0.0</td>\n",
              "      <td>0.0</td>\n",
              "      <td>0.0</td>\n",
              "    </tr>\n",
              "    <tr>\n",
              "      <th>Angels and Insects (1995)</th>\n",
              "      <td>0.0</td>\n",
              "      <td>0.0</td>\n",
              "      <td>0.0</td>\n",
              "      <td>0.0</td>\n",
              "      <td>0.0</td>\n",
              "      <td>0.0</td>\n",
              "      <td>0.0</td>\n",
              "      <td>0.0</td>\n",
              "      <td>0.0</td>\n",
              "      <td>0.0</td>\n",
              "      <td>...</td>\n",
              "      <td>0.0</td>\n",
              "      <td>0.0</td>\n",
              "      <td>0.0</td>\n",
              "      <td>0.0</td>\n",
              "      <td>0.0</td>\n",
              "      <td>0.0</td>\n",
              "      <td>4.0</td>\n",
              "      <td>0.0</td>\n",
              "      <td>0.0</td>\n",
              "      <td>0.0</td>\n",
              "    </tr>\n",
              "    <tr>\n",
              "      <th>Anne Frank Remembered (1995)</th>\n",
              "      <td>0.0</td>\n",
              "      <td>0.0</td>\n",
              "      <td>0.0</td>\n",
              "      <td>0.0</td>\n",
              "      <td>0.0</td>\n",
              "      <td>0.0</td>\n",
              "      <td>0.0</td>\n",
              "      <td>0.0</td>\n",
              "      <td>0.0</td>\n",
              "      <td>0.0</td>\n",
              "      <td>...</td>\n",
              "      <td>0.0</td>\n",
              "      <td>0.0</td>\n",
              "      <td>0.0</td>\n",
              "      <td>0.0</td>\n",
              "      <td>0.0</td>\n",
              "      <td>0.0</td>\n",
              "      <td>0.0</td>\n",
              "      <td>0.0</td>\n",
              "      <td>0.0</td>\n",
              "      <td>0.0</td>\n",
              "    </tr>\n",
              "    <tr>\n",
              "      <th>Antonia's Line (Antonia) (1995)</th>\n",
              "      <td>0.0</td>\n",
              "      <td>0.0</td>\n",
              "      <td>0.0</td>\n",
              "      <td>0.0</td>\n",
              "      <td>0.0</td>\n",
              "      <td>0.0</td>\n",
              "      <td>0.0</td>\n",
              "      <td>0.0</td>\n",
              "      <td>0.0</td>\n",
              "      <td>0.0</td>\n",
              "      <td>...</td>\n",
              "      <td>0.0</td>\n",
              "      <td>0.0</td>\n",
              "      <td>0.0</td>\n",
              "      <td>0.0</td>\n",
              "      <td>0.0</td>\n",
              "      <td>0.0</td>\n",
              "      <td>3.0</td>\n",
              "      <td>0.0</td>\n",
              "      <td>0.0</td>\n",
              "      <td>0.0</td>\n",
              "    </tr>\n",
              "    <tr>\n",
              "      <th>Assassins (1995)</th>\n",
              "      <td>0.0</td>\n",
              "      <td>0.0</td>\n",
              "      <td>0.0</td>\n",
              "      <td>0.0</td>\n",
              "      <td>0.0</td>\n",
              "      <td>0.0</td>\n",
              "      <td>0.0</td>\n",
              "      <td>0.0</td>\n",
              "      <td>0.0</td>\n",
              "      <td>0.0</td>\n",
              "      <td>...</td>\n",
              "      <td>4.0</td>\n",
              "      <td>0.0</td>\n",
              "      <td>0.0</td>\n",
              "      <td>0.0</td>\n",
              "      <td>0.0</td>\n",
              "      <td>0.0</td>\n",
              "      <td>0.0</td>\n",
              "      <td>0.0</td>\n",
              "      <td>0.0</td>\n",
              "      <td>0.0</td>\n",
              "    </tr>\n",
              "    <tr>\n",
              "      <th>Babe (1995)</th>\n",
              "      <td>0.0</td>\n",
              "      <td>0.0</td>\n",
              "      <td>0.0</td>\n",
              "      <td>0.0</td>\n",
              "      <td>0.0</td>\n",
              "      <td>0.0</td>\n",
              "      <td>0.0</td>\n",
              "      <td>0.0</td>\n",
              "      <td>0.0</td>\n",
              "      <td>0.0</td>\n",
              "      <td>...</td>\n",
              "      <td>0.0</td>\n",
              "      <td>0.0</td>\n",
              "      <td>3.5</td>\n",
              "      <td>0.0</td>\n",
              "      <td>0.0</td>\n",
              "      <td>0.0</td>\n",
              "      <td>5.0</td>\n",
              "      <td>0.0</td>\n",
              "      <td>0.0</td>\n",
              "      <td>3.0</td>\n",
              "    </tr>\n",
              "  </tbody>\n",
              "</table>\n",
              "<p>10 rows × 123161 columns</p>\n",
              "</div>\n",
              "      <button class=\"colab-df-convert\" onclick=\"convertToInteractive('df-d9e300c3-bb31-4204-a10a-776e07984ad2')\"\n",
              "              title=\"Convert this dataframe to an interactive table.\"\n",
              "              style=\"display:none;\">\n",
              "        \n",
              "  <svg xmlns=\"http://www.w3.org/2000/svg\" height=\"24px\"viewBox=\"0 0 24 24\"\n",
              "       width=\"24px\">\n",
              "    <path d=\"M0 0h24v24H0V0z\" fill=\"none\"/>\n",
              "    <path d=\"M18.56 5.44l.94 2.06.94-2.06 2.06-.94-2.06-.94-.94-2.06-.94 2.06-2.06.94zm-11 1L8.5 8.5l.94-2.06 2.06-.94-2.06-.94L8.5 2.5l-.94 2.06-2.06.94zm10 10l.94 2.06.94-2.06 2.06-.94-2.06-.94-.94-2.06-.94 2.06-2.06.94z\"/><path d=\"M17.41 7.96l-1.37-1.37c-.4-.4-.92-.59-1.43-.59-.52 0-1.04.2-1.43.59L10.3 9.45l-7.72 7.72c-.78.78-.78 2.05 0 2.83L4 21.41c.39.39.9.59 1.41.59.51 0 1.02-.2 1.41-.59l7.78-7.78 2.81-2.81c.8-.78.8-2.07 0-2.86zM5.41 20L4 18.59l7.72-7.72 1.47 1.35L5.41 20z\"/>\n",
              "  </svg>\n",
              "      </button>\n",
              "      \n",
              "  <style>\n",
              "    .colab-df-container {\n",
              "      display:flex;\n",
              "      flex-wrap:wrap;\n",
              "      gap: 12px;\n",
              "    }\n",
              "\n",
              "    .colab-df-convert {\n",
              "      background-color: #E8F0FE;\n",
              "      border: none;\n",
              "      border-radius: 50%;\n",
              "      cursor: pointer;\n",
              "      display: none;\n",
              "      fill: #1967D2;\n",
              "      height: 32px;\n",
              "      padding: 0 0 0 0;\n",
              "      width: 32px;\n",
              "    }\n",
              "\n",
              "    .colab-df-convert:hover {\n",
              "      background-color: #E2EBFA;\n",
              "      box-shadow: 0px 1px 2px rgba(60, 64, 67, 0.3), 0px 1px 3px 1px rgba(60, 64, 67, 0.15);\n",
              "      fill: #174EA6;\n",
              "    }\n",
              "\n",
              "    [theme=dark] .colab-df-convert {\n",
              "      background-color: #3B4455;\n",
              "      fill: #D2E3FC;\n",
              "    }\n",
              "\n",
              "    [theme=dark] .colab-df-convert:hover {\n",
              "      background-color: #434B5C;\n",
              "      box-shadow: 0px 1px 3px 1px rgba(0, 0, 0, 0.15);\n",
              "      filter: drop-shadow(0px 1px 2px rgba(0, 0, 0, 0.3));\n",
              "      fill: #FFFFFF;\n",
              "    }\n",
              "  </style>\n",
              "\n",
              "      <script>\n",
              "        const buttonEl =\n",
              "          document.querySelector('#df-d9e300c3-bb31-4204-a10a-776e07984ad2 button.colab-df-convert');\n",
              "        buttonEl.style.display =\n",
              "          google.colab.kernel.accessAllowed ? 'block' : 'none';\n",
              "\n",
              "        async function convertToInteractive(key) {\n",
              "          const element = document.querySelector('#df-d9e300c3-bb31-4204-a10a-776e07984ad2');\n",
              "          const dataTable =\n",
              "            await google.colab.kernel.invokeFunction('convertToInteractive',\n",
              "                                                     [key], {});\n",
              "          if (!dataTable) return;\n",
              "\n",
              "          const docLinkHtml = 'Like what you see? Visit the ' +\n",
              "            '<a target=\"_blank\" href=https://colab.research.google.com/notebooks/data_table.ipynb>data table notebook</a>'\n",
              "            + ' to learn more about interactive tables.';\n",
              "          element.innerHTML = '';\n",
              "          dataTable['output_type'] = 'display_data';\n",
              "          await google.colab.output.renderOutput(dataTable, element);\n",
              "          const docLink = document.createElement('div');\n",
              "          docLink.innerHTML = docLinkHtml;\n",
              "          element.appendChild(docLink);\n",
              "        }\n",
              "      </script>\n",
              "    </div>\n",
              "  </div>\n",
              "  "
            ]
          },
          "metadata": {},
          "execution_count": 34
        }
      ],
      "source": [
        "# Juntando(Mergeando) nossas bases de dados em uma única variável\n",
        "data = pd.merge(movie,rating)\n",
        "# Indexando nossa base \n",
        "data = data.iloc[:1000000,:]\n",
        "# Criando uma tabela dinâmica como um DataFrame.\n",
        "user_movie_table = data.pivot_table(index = [\"title\"],columns = [\"userId\"],values = \"rating\").fillna(0)\n",
        "user_movie_table.head(10)"
      ]
    },
    {
      "cell_type": "code",
      "source": [
        "data.head()"
      ],
      "metadata": {
        "colab": {
          "base_uri": "https://localhost:8080/",
          "height": 206
        },
        "id": "ViSmE_gjF5pN",
        "outputId": "407f6abb-cec3-4d26-9c6c-be285895e7ce"
      },
      "execution_count": 42,
      "outputs": [
        {
          "output_type": "execute_result",
          "data": {
            "text/plain": [
              "   movieId             title  rating  userId\n",
              "0        1  Toy Story (1995)     4.0       3\n",
              "1        1  Toy Story (1995)     5.0       6\n",
              "2        1  Toy Story (1995)     4.0       8\n",
              "3        1  Toy Story (1995)     4.0      10\n",
              "4        1  Toy Story (1995)     4.5      11"
            ],
            "text/html": [
              "\n",
              "  <div id=\"df-f08d990b-f01e-4c57-b1cb-292eb059b6f9\">\n",
              "    <div class=\"colab-df-container\">\n",
              "      <div>\n",
              "<style scoped>\n",
              "    .dataframe tbody tr th:only-of-type {\n",
              "        vertical-align: middle;\n",
              "    }\n",
              "\n",
              "    .dataframe tbody tr th {\n",
              "        vertical-align: top;\n",
              "    }\n",
              "\n",
              "    .dataframe thead th {\n",
              "        text-align: right;\n",
              "    }\n",
              "</style>\n",
              "<table border=\"1\" class=\"dataframe\">\n",
              "  <thead>\n",
              "    <tr style=\"text-align: right;\">\n",
              "      <th></th>\n",
              "      <th>movieId</th>\n",
              "      <th>title</th>\n",
              "      <th>rating</th>\n",
              "      <th>userId</th>\n",
              "    </tr>\n",
              "  </thead>\n",
              "  <tbody>\n",
              "    <tr>\n",
              "      <th>0</th>\n",
              "      <td>1</td>\n",
              "      <td>Toy Story (1995)</td>\n",
              "      <td>4.0</td>\n",
              "      <td>3</td>\n",
              "    </tr>\n",
              "    <tr>\n",
              "      <th>1</th>\n",
              "      <td>1</td>\n",
              "      <td>Toy Story (1995)</td>\n",
              "      <td>5.0</td>\n",
              "      <td>6</td>\n",
              "    </tr>\n",
              "    <tr>\n",
              "      <th>2</th>\n",
              "      <td>1</td>\n",
              "      <td>Toy Story (1995)</td>\n",
              "      <td>4.0</td>\n",
              "      <td>8</td>\n",
              "    </tr>\n",
              "    <tr>\n",
              "      <th>3</th>\n",
              "      <td>1</td>\n",
              "      <td>Toy Story (1995)</td>\n",
              "      <td>4.0</td>\n",
              "      <td>10</td>\n",
              "    </tr>\n",
              "    <tr>\n",
              "      <th>4</th>\n",
              "      <td>1</td>\n",
              "      <td>Toy Story (1995)</td>\n",
              "      <td>4.5</td>\n",
              "      <td>11</td>\n",
              "    </tr>\n",
              "  </tbody>\n",
              "</table>\n",
              "</div>\n",
              "      <button class=\"colab-df-convert\" onclick=\"convertToInteractive('df-f08d990b-f01e-4c57-b1cb-292eb059b6f9')\"\n",
              "              title=\"Convert this dataframe to an interactive table.\"\n",
              "              style=\"display:none;\">\n",
              "        \n",
              "  <svg xmlns=\"http://www.w3.org/2000/svg\" height=\"24px\"viewBox=\"0 0 24 24\"\n",
              "       width=\"24px\">\n",
              "    <path d=\"M0 0h24v24H0V0z\" fill=\"none\"/>\n",
              "    <path d=\"M18.56 5.44l.94 2.06.94-2.06 2.06-.94-2.06-.94-.94-2.06-.94 2.06-2.06.94zm-11 1L8.5 8.5l.94-2.06 2.06-.94-2.06-.94L8.5 2.5l-.94 2.06-2.06.94zm10 10l.94 2.06.94-2.06 2.06-.94-2.06-.94-.94-2.06-.94 2.06-2.06.94z\"/><path d=\"M17.41 7.96l-1.37-1.37c-.4-.4-.92-.59-1.43-.59-.52 0-1.04.2-1.43.59L10.3 9.45l-7.72 7.72c-.78.78-.78 2.05 0 2.83L4 21.41c.39.39.9.59 1.41.59.51 0 1.02-.2 1.41-.59l7.78-7.78 2.81-2.81c.8-.78.8-2.07 0-2.86zM5.41 20L4 18.59l7.72-7.72 1.47 1.35L5.41 20z\"/>\n",
              "  </svg>\n",
              "      </button>\n",
              "      \n",
              "  <style>\n",
              "    .colab-df-container {\n",
              "      display:flex;\n",
              "      flex-wrap:wrap;\n",
              "      gap: 12px;\n",
              "    }\n",
              "\n",
              "    .colab-df-convert {\n",
              "      background-color: #E8F0FE;\n",
              "      border: none;\n",
              "      border-radius: 50%;\n",
              "      cursor: pointer;\n",
              "      display: none;\n",
              "      fill: #1967D2;\n",
              "      height: 32px;\n",
              "      padding: 0 0 0 0;\n",
              "      width: 32px;\n",
              "    }\n",
              "\n",
              "    .colab-df-convert:hover {\n",
              "      background-color: #E2EBFA;\n",
              "      box-shadow: 0px 1px 2px rgba(60, 64, 67, 0.3), 0px 1px 3px 1px rgba(60, 64, 67, 0.15);\n",
              "      fill: #174EA6;\n",
              "    }\n",
              "\n",
              "    [theme=dark] .colab-df-convert {\n",
              "      background-color: #3B4455;\n",
              "      fill: #D2E3FC;\n",
              "    }\n",
              "\n",
              "    [theme=dark] .colab-df-convert:hover {\n",
              "      background-color: #434B5C;\n",
              "      box-shadow: 0px 1px 3px 1px rgba(0, 0, 0, 0.15);\n",
              "      filter: drop-shadow(0px 1px 2px rgba(0, 0, 0, 0.3));\n",
              "      fill: #FFFFFF;\n",
              "    }\n",
              "  </style>\n",
              "\n",
              "      <script>\n",
              "        const buttonEl =\n",
              "          document.querySelector('#df-f08d990b-f01e-4c57-b1cb-292eb059b6f9 button.colab-df-convert');\n",
              "        buttonEl.style.display =\n",
              "          google.colab.kernel.accessAllowed ? 'block' : 'none';\n",
              "\n",
              "        async function convertToInteractive(key) {\n",
              "          const element = document.querySelector('#df-f08d990b-f01e-4c57-b1cb-292eb059b6f9');\n",
              "          const dataTable =\n",
              "            await google.colab.kernel.invokeFunction('convertToInteractive',\n",
              "                                                     [key], {});\n",
              "          if (!dataTable) return;\n",
              "\n",
              "          const docLinkHtml = 'Like what you see? Visit the ' +\n",
              "            '<a target=\"_blank\" href=https://colab.research.google.com/notebooks/data_table.ipynb>data table notebook</a>'\n",
              "            + ' to learn more about interactive tables.';\n",
              "          element.innerHTML = '';\n",
              "          dataTable['output_type'] = 'display_data';\n",
              "          await google.colab.output.renderOutput(dataTable, element);\n",
              "          const docLink = document.createElement('div');\n",
              "          docLink.innerHTML = docLinkHtml;\n",
              "          element.appendChild(docLink);\n",
              "        }\n",
              "      </script>\n",
              "    </div>\n",
              "  </div>\n",
              "  "
            ]
          },
          "metadata": {},
          "execution_count": 42
        }
      ]
    },
    {
      "cell_type": "code",
      "execution_count": 12,
      "metadata": {
        "colab": {
          "base_uri": "https://localhost:8080/"
        },
        "id": "DX8qYRssoKUy",
        "outputId": "6cdab3f3-5c25-4b3c-ee67-c676a546c9b9"
      },
      "outputs": [
        {
          "output_type": "stream",
          "name": "stdout",
          "text": [
            "O filme selecionado é:  Unforgettable (1996)\n"
          ]
        }
      ],
      "source": [
        "# Escolhendo um filme aleatoriamente\n",
        "query_index = np.random.choice(user_movie_table.shape[0])\n",
        "print(\"O filme selecionado é: \",user_movie_table.index[query_index])"
      ]
    },
    {
      "cell_type": "code",
      "execution_count": 46,
      "metadata": {
        "id": "xQ-xOeNQoKUz"
      },
      "outputs": [],
      "source": [
        "# Criando uma matriz de valores a partir da tabela\n",
        "user_movie_table_matrix = csr_matrix(user_movie_table.values)\n",
        "# Utilizando a métrica do coseno para a classificação e algoritmo automático\n",
        "model_knn = NearestNeighbors(metric = 'cosine', algorithm = 'auto')\n",
        "# Iniciando o algoritmo de treinamento\n",
        "model_knn.fit(user_movie_table_matrix)\n",
        "# Atribuindo as variáveis valores do modelo e buscando pelos 6 vizinhos mais próximos\n",
        "distances, indices = model_knn.kneighbors(user_movie_table.iloc[query_index,:].values.reshape(1,-1), n_neighbors = 6)"
      ]
    },
    {
      "cell_type": "code",
      "execution_count": 56,
      "metadata": {
        "colab": {
          "base_uri": "https://localhost:8080/"
        },
        "id": "qN4lDkOxoKU0",
        "outputId": "2c3cfbcd-0042-4743-d3c7-a2e2e12292ae"
      },
      "outputs": [
        {
          "output_type": "stream",
          "name": "stdout",
          "text": [
            "Recomendações para Unforgettable (1996):\n",
            "\n",
            "0: Mary Reilly (1996), com a distância de 0.8183690340547402\n",
            "1: Before and After (1996), com a distância de 0.8140652234565855\n",
            "2: Juror, The (1996), com a distância de 0.8089523799680194\n",
            "3: City Hall (1996), com a distância de 0.8044178662544587\n",
            "4: Eye for an Eye (1996), com a distância de 0.7781912617093903\n"
          ]
        }
      ],
      "source": [
        "# Criando a lista vazia\n",
        "movie = []\n",
        "distance = []\n",
        "\n",
        "for i in range(0, len(distances.flatten())):\n",
        "    if i != 0:\n",
        "        movie.append(user_movie_table.index[indices.flatten()[i]])\n",
        "        distance.append(distances.flatten()[i])    \n",
        "\n",
        "m=pd.Series(movie,name='movie')\n",
        "d=pd.Series(distance,name='distance')\n",
        "recommend = pd.concat([m,d], axis=1)\n",
        "recommend = recommend.sort_values('distance',ascending=False)\n",
        "\n",
        "# Printa os 5 vizinhos mais próximos\n",
        "print('Recomendações para {0}:\\n'.format(user_movie_table.index[query_index]))\n",
        "for i in range(0,recommend.shape[0]):\n",
        "    print('{0}: {1}, com a distância de {2}'.format(i, recommend[\"movie\"].iloc[i], recommend[\"distance\"].iloc[i]))"
      ]
    },
    {
      "cell_type": "markdown",
      "source": [
        "## Questão 4:"
      ],
      "metadata": {
        "id": "KXcAhzYQ-CMZ"
      }
    },
    {
      "cell_type": "markdown",
      "source": [
        "**(2 Pontos)** Considerando a matriz de confusão abaixo, quais são os valores das métricas listadas abaixo?\n",
        "\n",
        "Obs: **Classe verdadeira - Coluna | Classe predita - Linha**\n",
        "\n",
        "| **CLASSES** | Maçã | Laranja | Limão | Manga |\n",
        "| ------- | :--: | :-----: | :---: | :---: |\n",
        "| Maçã | 70 | 20 | 5 | 5 |\n",
        "| Laranja | 10 | 67 | 3 | 20 | \n",
        "| Limão | 5 | 30 | 55 | 10 | \n",
        "| Manga | 5 | 4 | 2 | 1000 |\n",
        "\n",
        "Maçã:\n",
        "\n",
        "| **CLASSES** | Maçã | Laranja | Limão | Manga |\n",
        "| ------- | :--: | :-----: | :---: | :---: | \n",
        "| Maçã | VP | FP | FP | FP |\n",
        "| Laranja | FN | VN | VN | VN |\n",
        "| Limão | FN | VN | VN | VN |\n",
        "| Manga | FN | VN | VN | VN |\n",
        "\n",
        "Laranja:\n",
        "\n",
        "| **CLASSES** | Maçã | Laranja | Limão | Manga |\n",
        "| ------- | :--: | :-----: | :---: | :---: | \n",
        "| Maçã | VN | FN | VN | VN |\n",
        "| Laranja | FP | VP | FP | FP |\n",
        "| Limão | VN | FN | VN | VN |\n",
        "| Manga | VN | FN | VN | VN |\n",
        "\n",
        "Limão:\n",
        "\n",
        "| **CLASSES** | Maçã | Laranja | Limão | Manga |\n",
        "| ------- | :--: | :-----: | :---: | :---: | \n",
        "| Maçã | VN | VN | FN | VN |\n",
        "| Laranja | VN | VN| FN | VN |\n",
        "| Limão | FP | FP | VP | FP |\n",
        "| Manga | VN | VN | FN | VN |\n",
        "\n",
        "Manga:\n",
        "\n",
        "| **CLASSES** | Maçã | Laranja | Limão | Manga |\n",
        "| ------- | :--: | :-----: | :---: | :---: | \n",
        "| Maçã | VN | VN | VN | FN |\n",
        "| Laranja | VN | VN | VN | FN |\n",
        "| Limão | VN | VN | VN | FN |\n",
        "| Manga | FP | FP | FP | VP |\n",
        "\n",
        "Organizando nossos valores em uma tabela, temos:\n",
        "\n",
        "| **CLASSES** | VP | VN | FP | FN |\n",
        "| ------- | :--: | :-----: | :---: | :---: | \n",
        "| Maçã | 70 | 1191 | 30 | 20 |\n",
        "| Laranja | 67 | 1157 | 33 | 54 | \n",
        "| Limão | 55 | 1201 | 45 | 10 | \n",
        "| Manga | 1000 | 265 | 11 | 35 |\n",
        "\n",
        "* Sensibilidade\n",
        "* Especificidade\n",
        "* Precisão\n",
        "* Medida F1 \n",
        "* Acurácia\n",
        "* Coeficiente de Matthews\n",
        "* AUC\n",
        "\n",
        "Como você resolveria o problema dessa base de dados observando as métricas de avaliação?\n"
      ],
      "metadata": {
        "id": "_vlnIs69VcTL"
      }
    },
    {
      "cell_type": "code",
      "source": [
        "#Criando uma classe Fruta com os parâmetros\n",
        "#Verdadeiro Positivo, Verdadeiro Negativo, Falso Positivo, Falso Negativo\n",
        "\n",
        "class Fruta:\n",
        "  def __init__(self, vp, vn, fp, fn):\n",
        "    self.vp = vp\n",
        "    self.vn = vn\n",
        "    self.fp = fp\n",
        "    self.fn = fn\n",
        "\n",
        "#Inicializando os objetos com seus valores \n",
        "maca = Fruta(70,1191,30,20)\n",
        "laranja = Fruta(67,1157,33,54)\n",
        "limao = Fruta(55,1201,45,10)\n",
        "manga = Fruta(1000,265,11,35)"
      ],
      "metadata": {
        "id": "VxTWQfmrbHhE"
      },
      "execution_count": 15,
      "outputs": []
    },
    {
      "cell_type": "markdown",
      "source": [
        "### Métricas de Desempenho:"
      ],
      "metadata": {
        "id": "wHEaLSaB6PG2"
      }
    },
    {
      "cell_type": "markdown",
      "source": [
        "#### Sensibilidade:\n",
        "\n",
        "<img src=\"https://latex.codecogs.com/svg.image?sens(\\hat{f})&space;=&space;rev(\\hat{f})&space;=&space;TVP(\\hat{f})&space;=&space;\\frac{VP}{VP&plus;FN}\" title=\"https://latex.codecogs.com/svg.image?sens(\\hat{f}) = rev(\\hat{f}) = TVP(\\hat{f}) = \\frac{VP}{VP+FN}\" />\n"
      ],
      "metadata": {
        "id": "rJVs4pvxZWLL"
      }
    },
    {
      "cell_type": "code",
      "source": [
        "#Função para calcular a sensibilidade\n",
        "def sens(VP, FN):\n",
        "  sensibilidade = (VP/(VP+FN))\n",
        "  return sensibilidade\n"
      ],
      "metadata": {
        "id": "KRkDWB1HabvK"
      },
      "execution_count": 16,
      "outputs": []
    },
    {
      "cell_type": "code",
      "source": [
        "#Sensibilidade de Maçã, Laranja, Limão e Manga respectivamente.\n",
        "sens_maca = sens(maca.vp, maca.fn)\n",
        "sens_laranja = sens(laranja.vp, laranja.fn)\n",
        "sens_limao = sens(limao.vp, limao.fn)\n",
        "sens_manga = sens(manga.vp, manga.fn)\n",
        "\n",
        "#Printando as sensibilidades:\n",
        "print('A sensibilidade de maçã:{:.2f}'.format(sens_maca))\n",
        "print('A sensibilidade de laranja:{:.2f}'.format(sens_laranja))\n",
        "print('A sensibilidade de limão:{:.2f}'.format(sens_limao))\n",
        "print('A sensibilidade de manga:{:.2f}'.format(sens_manga))\n",
        "\n",
        "#Printando a média de Sensibilidade:\n",
        "sens_media = (sens_maca + sens_laranja + sens_limao + sens_manga ) / 4\n",
        "print('\\nA média de sensibilidade da Matriz de Confusão é:{:.2f}\\n'.format(sens_media))"
      ],
      "metadata": {
        "id": "7VTt2tODdHHX",
        "colab": {
          "base_uri": "https://localhost:8080/"
        },
        "outputId": "51558a3f-8f4d-4e5d-ea1a-940e01e1c03b"
      },
      "execution_count": 17,
      "outputs": [
        {
          "output_type": "stream",
          "name": "stdout",
          "text": [
            "A sensibilidade de maçã:0.78\n",
            "A sensibilidade de laranja:0.55\n",
            "A sensibilidade de limão:0.85\n",
            "A sensibilidade de manga:0.97\n",
            "\n",
            "A média de sensibilidade da Matriz de Confusão é:0.79\n",
            "\n"
          ]
        }
      ]
    },
    {
      "cell_type": "markdown",
      "source": [
        "#### Especificidade: \n",
        "\n",
        "<img src=\"https://latex.codecogs.com/svg.image?esp(\\hat{f})&space;=&space;\\frac{VN}{VN&plus;FP}&space;=&space;1-TFP(\\hat{f})\" title=\"https://latex.codecogs.com/svg.image?esp(\\hat{f}) = \\frac{VN}{VN+FP} = 1-TFP(\\hat{f})\" />"
      ],
      "metadata": {
        "id": "G0WUKsavZdGj"
      }
    },
    {
      "cell_type": "code",
      "source": [
        "#Função para calcular a especificidade\n",
        "def esp(VN, FP):\n",
        "  especificidade = VN/(VN+FP)\n",
        "  return especificidade"
      ],
      "metadata": {
        "id": "2yqdO9gPhRT2"
      },
      "execution_count": 18,
      "outputs": []
    },
    {
      "cell_type": "code",
      "source": [
        "#Especificidade de Maçã, Laranja, Limão e Manga respectivamente.\n",
        "espec_maca = esp(maca.vn, maca.fp)\n",
        "espec_laranja = esp(laranja.vn, laranja.fp)\n",
        "espec_limao = esp(limao.vn, limao.fp)\n",
        "espec_manga = esp(manga.vn, manga.fp)\n",
        "\n",
        "#Printando as especificidades\n",
        "print('A especificidade de maçã:{:.2f}'.format(espec_maca))\n",
        "print('A especificidade de laranja:{:.2f}'.format(espec_laranja))\n",
        "print('A especificidade de limão:{:.2f}'.format(espec_limao))\n",
        "print('A especificidade de manga:{:.2f}'.format(espec_manga))\n",
        "\n",
        "#Printando a média de especificidade:\n",
        "esp_media = (espec_maca + espec_laranja + espec_limao + espec_manga ) / 4\n",
        "print('\\nA média de especificidade da Matriz de Confusão é:{:.2f}\\n'.format(esp_media))"
      ],
      "metadata": {
        "id": "IBC90GC6h2LM",
        "colab": {
          "base_uri": "https://localhost:8080/"
        },
        "outputId": "fd39990a-d417-469c-dcfa-b6844c07e2c5"
      },
      "execution_count": 19,
      "outputs": [
        {
          "output_type": "stream",
          "name": "stdout",
          "text": [
            "A especificidade de maçã:0.98\n",
            "A especificidade de laranja:0.97\n",
            "A especificidade de limão:0.96\n",
            "A especificidade de manga:0.96\n",
            "\n",
            "A média de especificidade da Matriz de Confusão é:0.97\n",
            "\n"
          ]
        }
      ]
    },
    {
      "cell_type": "markdown",
      "source": [
        "#### Precisão:\n",
        "\n",
        "<img src=\"https://latex.codecogs.com/svg.image?prec(\\hat{f})&space;=&space;\\frac{VP}{VP&plus;FP}\" title=\"https://latex.codecogs.com/svg.image?prec(\\hat{f}) = \\frac{VP}{VP+FP}\" />\n"
      ],
      "metadata": {
        "id": "zV2-u3djZi5y"
      }
    },
    {
      "cell_type": "code",
      "source": [
        "#Função para calcular a precisão\n",
        "def prec(VP, FP):\n",
        "  precisao = VP/(VP+FP)\n",
        "  return precisao"
      ],
      "metadata": {
        "id": "3n86Z_6ckeAT"
      },
      "execution_count": 20,
      "outputs": []
    },
    {
      "cell_type": "code",
      "source": [
        "#Precisão de Maçã, Laranja, Limão e Manga respectivamente.\n",
        "prec_maca = prec(maca.vp, maca.fp)\n",
        "prec_laranja = prec(laranja.vp, laranja.fp)\n",
        "prec_limao = prec(limao.vp, limao.fp)\n",
        "prec_manga = prec(manga.vp, manga.fp)\n",
        "\n",
        "#Printando as precisões:\n",
        "print('A precisão de maçã:{:.2f}'.format(prec_maca))\n",
        "print('A precisão de laranja:{:.2f}'.format(prec_laranja))\n",
        "print('A precisão de limão:{:.2f}'.format(prec_limao))\n",
        "print('A precisão de manga:{:.2f}'.format(prec_manga))\n",
        "\n",
        "#Printando a média de precisão:\n",
        "prec_media = (prec_maca + prec_laranja + prec_limao + prec_manga ) / 4\n",
        "print('\\nA média de precisão da Matriz de Confusão é:{:.2f}\\n'.format(prec_media))"
      ],
      "metadata": {
        "id": "BDfSjCKTkpp5",
        "colab": {
          "base_uri": "https://localhost:8080/"
        },
        "outputId": "16937731-f4f3-4b94-bc92-2651d2c81c78"
      },
      "execution_count": 21,
      "outputs": [
        {
          "output_type": "stream",
          "name": "stdout",
          "text": [
            "A precisão de maçã:0.70\n",
            "A precisão de laranja:0.67\n",
            "A precisão de limão:0.55\n",
            "A precisão de manga:0.99\n",
            "\n",
            "A média de precisão da Matriz de Confusão é:0.73\n",
            "\n"
          ]
        }
      ]
    },
    {
      "cell_type": "markdown",
      "source": [
        "#### Medida-F1:\n",
        "\n",
        "<img src=\"https://latex.codecogs.com/svg.image?F&space;=&space;2&space;\\cdot&space;\\frac{prec&space;\\cdot&space;sens}{prec&space;&plus;&space;sens}\" title=\"https://latex.codecogs.com/svg.image?F = 2 \\cdot \\frac{prec \\cdot sens}{prec + sens}\" />"
      ],
      "metadata": {
        "id": "K_4FmJ9NZmdO"
      }
    },
    {
      "cell_type": "code",
      "source": [
        "#Função para calcular a medida-F:\n",
        "def medf(PREC, SENS):\n",
        "  medidaF = 2*((PREC*SENS)/(PREC+SENS))\n",
        "  return medidaF"
      ],
      "metadata": {
        "id": "j3kzHfHhlhAG"
      },
      "execution_count": 22,
      "outputs": []
    },
    {
      "cell_type": "code",
      "source": [
        "#Medida-F de Maçã, Laranja, Limão e Manga respectivamente.\n",
        "med_maca = medf(prec_maca, sens_maca)\n",
        "med_laranja = medf(prec_laranja, sens_laranja)\n",
        "med_limao = medf(prec_limao, sens_limao)\n",
        "med_manga = medf(prec_manga, sens_manga)\n",
        "\n",
        "#Printando as precisões:\n",
        "print('A Medida-F1 de maçã:{:.2f}'.format(med_maca))\n",
        "print('A Medida-F1 de laranja:{:.2f}'.format(med_laranja))\n",
        "print('A Medida-F1 de limão:{:.2f}'.format(med_limao))\n",
        "print('A Medida-F1 de manga:{:.2f}'.format(med_manga))\n",
        "\n",
        "#Printando a média de Medida-F1:\n",
        "med_media = (med_maca + med_laranja + med_limao + med_manga ) / 4\n",
        "print('\\nA média de Medida-F1 da Matriz de Confusão é:{:.2f}\\n'.format(med_media))"
      ],
      "metadata": {
        "id": "KU4kS2ELm2NT",
        "colab": {
          "base_uri": "https://localhost:8080/"
        },
        "outputId": "b9b703de-975f-4dd7-83ad-881e795817c6"
      },
      "execution_count": 23,
      "outputs": [
        {
          "output_type": "stream",
          "name": "stdout",
          "text": [
            "A Medida-F1 de maçã:0.74\n",
            "A Medida-F1 de laranja:0.61\n",
            "A Medida-F1 de limão:0.67\n",
            "A Medida-F1 de manga:0.98\n",
            "\n",
            "A média de Medida-F1 da Matriz de Confusão é:0.75\n",
            "\n"
          ]
        }
      ]
    },
    {
      "cell_type": "markdown",
      "source": [
        "#### Acurácia Total:\n",
        "\n",
        "<img src=\"https://latex.codecogs.com/svg.image?ac(\\hat{f})&space;=&space;\\frac{VP&plus;VN}{n}\" title=\"https://latex.codecogs.com/svg.image?ac(\\hat{f}) = \\frac{VP+VN}{n}\" />"
      ],
      "metadata": {
        "id": "_KhNrBg6ZqSk"
      }
    },
    {
      "cell_type": "code",
      "source": [
        "#Função para calcular a medida-F:\n",
        "def ac(VP, VN, FP, FN):\n",
        "  acuracia = (VP+VN)/(VP+VN+FP+FN)\n",
        "  return acuracia"
      ],
      "metadata": {
        "id": "2_IcjB48pPfQ"
      },
      "execution_count": 24,
      "outputs": []
    },
    {
      "cell_type": "code",
      "source": [
        "#Acurácia total de Maçã, Laranja, Limão e Manga respectivamente.\n",
        "act_maca = ac(maca.vp, maca.vn, maca.fp, maca.fn)\n",
        "act_laranja = ac(laranja.vp, laranja.vn, laranja.fp, laranja.fn)\n",
        "act_limao = ac(limao.vp, limao.vn, limao.fp, limao.fn)\n",
        "act_manga = ac(manga.vp, manga.vn, manga.fp, manga.fn)\n",
        "\n",
        "#Printando as acurácias:\n",
        "print('A acurácia total de maçã:{:.2f}'.format(act_maca))\n",
        "print('A acurácia total de laranja:{:.2f}'.format(act_laranja))\n",
        "print('A acurácia total de limão:{:.2f}'.format(act_limao))\n",
        "print('A acurácia total de manga:{:.2f}'.format(act_manga))\n",
        "\n",
        "#Printando a média de Acurácia total:\n",
        "act_media = (act_maca + act_laranja + act_limao + act_manga ) / 4\n",
        "print('\\nA média de Acurácia Total da Matriz de Confusão é:{:.2f}\\n'.format(act_media))"
      ],
      "metadata": {
        "id": "UdFVs8gNq-8m",
        "colab": {
          "base_uri": "https://localhost:8080/"
        },
        "outputId": "d3a5b9d9-543a-4688-e055-e91796043287"
      },
      "execution_count": 25,
      "outputs": [
        {
          "output_type": "stream",
          "name": "stdout",
          "text": [
            "A acurácia total de maçã:0.96\n",
            "A acurácia total de laranja:0.93\n",
            "A acurácia total de limão:0.96\n",
            "A acurácia total de manga:0.96\n",
            "\n",
            "A média de Acurácia Total da Matriz de Confusão é:0.95\n",
            "\n"
          ]
        }
      ]
    },
    {
      "cell_type": "markdown",
      "source": [
        "#### Coeficiente Matthews:\n",
        "\n",
        "<img src=\"https://latex.codecogs.com/svg.image?phi&space;=&space;\\frac{(VP\\cdot&space;VN&space;-&space;FP\\cdot&space;FN)}{\\sqrt{(VP&plus;FP)\\cdot&space;(VP&plus;FN)\\cdot&space;(VN&plus;FP)\\cdot&space;(VN&plus;FN)}}&space;\" title=\"https://latex.codecogs.com/svg.image?phi = \\frac{(VP\\cdot VN - FP\\cdot FN)}{\\sqrt{(VP+FP)\\cdot (VP+FN)\\cdot (VN+FP)\\cdot (VN+FN)}} \" />\n"
      ],
      "metadata": {
        "id": "RKQ0pE8JZs4R"
      }
    },
    {
      "cell_type": "code",
      "source": [
        "#Função para calcular o Coeficiente Matthews:\n",
        "import math\n",
        "def matthews(VP, VN, FP, FN):\n",
        "  phi = ((VP*VN)-(FP*FN)) / math.sqrt(((VP+FP)*(VP+FN)*(VN+FP)*(VN+FN)))\n",
        "  return phi"
      ],
      "metadata": {
        "id": "LnWNnyHTNkos"
      },
      "execution_count": 26,
      "outputs": []
    },
    {
      "cell_type": "code",
      "source": [
        "#Coeficiente Matthews de Maçã, Laranja, Limão e Manga respectivamente.\n",
        "matthews_maca = matthews(maca.vp, maca.vn, maca.fp, maca.fn)\n",
        "matthews_laranja = matthews(laranja.vp, laranja.vn, laranja.fp, laranja.fn)\n",
        "matthews_limao = matthews(limao.vp, limao.vn, limao.fp, limao.fn)\n",
        "matthews_manga = matthews(manga.vp, manga.vn, manga.fp, manga.fn)\n",
        "\n",
        "#Printando a média de Coeficiente Matthews:\n",
        "phi = (matthews_maca + matthews_laranja + matthews_limao + matthews_manga ) / 4\n",
        "print('\\nO Coeficiente Matthews da Matriz de Confusão é:{:.2f}\\n'.format(phi))"
      ],
      "metadata": {
        "id": "IHAlz_fbQVHk",
        "colab": {
          "base_uri": "https://localhost:8080/"
        },
        "outputId": "646a2b1a-6ee1-42dc-a764-ac957a576b24"
      },
      "execution_count": 27,
      "outputs": [
        {
          "output_type": "stream",
          "name": "stdout",
          "text": [
            "\n",
            "O Coeficiente Matthews da Matriz de Confusão é:0.71\n",
            "\n"
          ]
        }
      ]
    },
    {
      "cell_type": "markdown",
      "source": [
        "#### AUC:"
      ],
      "metadata": {
        "id": "FF50rNAlp-ZW"
      }
    },
    {
      "cell_type": "code",
      "source": [
        "import numpy as np\n",
        "\n",
        "def auc(SENS, ESPEC):\n",
        "  tvp = SENS\n",
        "  tfp = (1-ESPEC)\n",
        "\n",
        "  x = np.array([0, tvp, 1])\n",
        "  y = np.array([0, tfp, 1])\n",
        "\n",
        "  auc = np.trapz(x, y)\n",
        "  return auc"
      ],
      "metadata": {
        "id": "AFAkgCABqle_"
      },
      "execution_count": 28,
      "outputs": []
    },
    {
      "cell_type": "code",
      "source": [
        "#Printando a média de Coeficiente Matthews:\n",
        "AUC = auc(sens_media, esp_media)\n",
        "print('\\nO AUC da Matriz de Confusão é:{:.2f}\\n'.format(AUC))"
      ],
      "metadata": {
        "id": "cwfXeR7TsjWR",
        "colab": {
          "base_uri": "https://localhost:8080/"
        },
        "outputId": "480219b0-e50e-44e3-923e-25b013f6c3f1"
      },
      "execution_count": 29,
      "outputs": [
        {
          "output_type": "stream",
          "name": "stdout",
          "text": [
            "\n",
            "O AUC da Matriz de Confusão é:0.88\n",
            "\n"
          ]
        }
      ]
    },
    {
      "cell_type": "markdown",
      "source": [
        "#### Conclusão:"
      ],
      "metadata": {
        "id": "ic2Cdd4VU6oX"
      }
    },
    {
      "cell_type": "markdown",
      "source": [
        "* Sensibilidade = 0.79\n",
        "* Especificidade = 0.97\n",
        "* Precisão = 0.73\n",
        "* Medida F1 = 0.75\n",
        "* Acurácia = 0.95\n",
        "* Coeficiente de Matthews = 0.71\n",
        "* AUC = 0.88"
      ],
      "metadata": {
        "id": "u2LfMUdLVB2Z"
      }
    },
    {
      "cell_type": "markdown",
      "source": [
        "Para melhorar as métricas de avaliação, é necessário melhorar a fase de pré-processamento do banco de dados, portanto, executar uma limpeza na base de dados e re-treinar o modelo de classificação."
      ],
      "metadata": {
        "id": "CJpZ4TKOeKnS"
      }
    },
    {
      "cell_type": "markdown",
      "source": [
        "## Questão Extra: "
      ],
      "metadata": {
        "id": "Pl-D2wFGZpwJ"
      }
    },
    {
      "cell_type": "markdown",
      "source": [
        "Elabore uma pergunta e responda sobre \"Preconceito e Inteligência Artificial\", refletindo aspectos importantes do método que uma pessoa engenheiro de dados/cientista de dados deve conhecer e se preocupar garantindo ética nos modelos criados."
      ],
      "metadata": {
        "id": "ckFlZsMYdLlj"
      }
    },
    {
      "cell_type": "markdown",
      "source": [
        "### A Inteligência Artificial é capaz de expor preconceitos e atacar minorias?"
      ],
      "metadata": {
        "id": "mT6QQGXl941j"
      }
    },
    {
      "cell_type": "markdown",
      "source": [
        "A Inteligência Artificial serve para beneficiar a humanidade e está presente diariamente em nosso cotídiano, porém a tecnologia não está isenta de falhas. Uma base de dados mal desenvolvida pode ocasionar em modelos mal projetados para o mundo exterior, como por exemplo: Uma IA de classificação do Google com uma base de dados despreparada, ocasionou em um modelo onde indicou dois adolescentes negros como gorilas e, além disso, um chatbot criado pela Microsoft se tornou racista em 24h após sua ativação e exposição ao Twitter, rede onde o chatbot permaneceu mais ativo.\n",
        "\n",
        "Entretanto, situações como essa não foram planejadas por seus desenvolvedores, mas ocasionada por eles. A Inteligência Artificial deve ter banco de dados bem planejados com a diversidade de seres humanos e medidas de segurança programadas por seus engenheiro/cientista de dados para evitar uma má aprendizagem de máquina."
      ],
      "metadata": {
        "id": "rGkHVg2j3ak6"
      }
    }
  ],
  "metadata": {
    "kernelspec": {
      "display_name": "Python 3",
      "language": "python",
      "name": "python3"
    },
    "language_info": {
      "codemirror_mode": {
        "name": "ipython",
        "version": 3
      },
      "file_extension": ".py",
      "mimetype": "text/x-python",
      "name": "python",
      "nbconvert_exporter": "python",
      "pygments_lexer": "ipython3",
      "version": "3.7.6"
    },
    "colab": {
      "name": "IA_Prova-1.ipynb",
      "provenance": [],
      "include_colab_link": true
    }
  },
  "nbformat": 4,
  "nbformat_minor": 0
}