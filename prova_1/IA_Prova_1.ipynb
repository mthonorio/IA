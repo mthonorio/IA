{
  "nbformat": 4,
  "nbformat_minor": 0,
  "metadata": {
    "colab": {
      "name": "IA-Prova-1.ipynb",
      "provenance": [],
      "collapsed_sections": [
        "Z8s1h4_R9p8J",
        "9rcbGUHV9yzz"
      ],
      "authorship_tag": "ABX9TyM0W2CWKDEzuC4Jp8jjp3Mb",
      "include_colab_link": true
    },
    "kernelspec": {
      "name": "python3",
      "display_name": "Python 3"
    },
    "language_info": {
      "name": "python"
    }
  },
  "cells": [
    {
      "cell_type": "markdown",
      "metadata": {
        "id": "view-in-github",
        "colab_type": "text"
      },
      "source": [
        "<a href=\"https://colab.research.google.com/github/mthonorio/IA/blob/develop/prova_1/IA_Prova_1.ipynb\" target=\"_parent\"><img src=\"https://colab.research.google.com/assets/colab-badge.svg\" alt=\"Open In Colab\"/></a>"
      ]
    },
    {
      "cell_type": "markdown",
      "source": [
        "# 1º Prova de Inteligência Artificial 2021.2\n",
        "#### **Aluno:** Matheus B. Honório\n",
        "#### **Matrícula:** 20190097098"
      ],
      "metadata": {
        "id": "oLrH5XfRL-2q"
      }
    },
    {
      "cell_type": "markdown",
      "source": [
        "## Questão 1:"
      ],
      "metadata": {
        "id": "Z8s1h4_R9p8J"
      }
    },
    {
      "cell_type": "markdown",
      "source": [
        "**(1 Ponto)** Para cada um dos agentes a seguir, desenvolva uma descrição completando a tabela abaixo sobre o ambiente de tarefas de cada um. \n",
        "\n",
        "(a) Agente comentarista de jogo. \n",
        "\n",
        "(b) Agente sugestor de vinho.\n",
        "\n",
        "(c) Agente treinador de time (como de basquete).\n",
        "\n",
        "*Obs:* Para o preenchimento da tabela abaixo foi escolhido como esporte dos itens **a** e **c** o basquete.\n",
        "\n",
        "| Agente | Medida de desempenho | Ambiente | Atuadores | Sensores |\n",
        "| :----: | :------------------ | :------- | :-------- | :------- |\n",
        "| a | Deve falar sobre a pontuação e movimento dos jogadores <br/> e das torcidas | Quadra, Times, Pontuação e Arbitragem | Microfone e Caixas de Som | Câmeras, Placar e Movimento |\n",
        "| b | Deve falar qual o melhor vinho para o evento proposto,<br/> seus principais detalhes e preços | Restaurantes, Vinícolas, Vinhos e <br/> Eventos de amostra | Monitor e Caixa de Som | Câmera, Odômetro e Microfone |\n",
        "| c | Maximizar as estratégias e treinamento do time por completo e <br/> individualmente, imprimir exercícios e estatísticas dos jogadores | Quadra e Conjunto de jogadores | Monitor, Impressora e Caixa de Som | Câmera, Odômetro e Microfone |\n",
        " "
      ],
      "metadata": {
        "id": "SPvyt5zWLx2l"
      }
    },
    {
      "cell_type": "markdown",
      "source": [
        "## Questão 2:"
      ],
      "metadata": {
        "id": "9rcbGUHV9yzz"
      }
    },
    {
      "cell_type": "markdown",
      "source": [
        "**(2 Pontos)** Diferencie os 4 tipos de aprendizado de máquina. Para tanto, escolha uma base de dados do Kaggle e explique como aplicar os 4 métodos nessa mesma base."
      ],
      "metadata": {
        "id": "miuP8g13SFzC"
      }
    },
    {
      "cell_type": "markdown",
      "source": [
        "A base escolhida para a questão foi a [TMDB 5000 Movies Dataset](https://www.kaggle.com/datasets/tmdb/tmdb-movie-metadata). <br/>\n",
        "*Atualizada no dia 15/04/2022.*"
      ],
      "metadata": {
        "id": "liTzm76AuGj8"
      }
    },
    {
      "cell_type": "markdown",
      "source": [
        "### Aprendizagem supervisionada\n"
      ],
      "metadata": {
        "id": "SjmNKZ0IxLA8"
      }
    },
    {
      "cell_type": "markdown",
      "source": [
        "O algoritmo de aprendizado (indutor) recebe um conjunto de exemplos de treinamento no qual os rótulos das classes são conhecidos para construir um classificador que possa determinar corretamente a classe de novos exemplos ainda não rotulados. Portanto, aplicando o método de aprendizagem supervisionada na nossa base de dados abordando como objetivo principal um modelo de **classificação** de gêneros de filmes de forma que ao submeter uma descrição e seu título é possível obter os seus gêneros."
      ],
      "metadata": {
        "id": "3quhN_Crqz6G"
      }
    },
    {
      "cell_type": "markdown",
      "source": [
        "### Aprendizagem não supervisionada"
      ],
      "metadata": {
        "id": "UmDnufXaPNMN"
      }
    },
    {
      "cell_type": "markdown",
      "source": [
        "O método de aprendizagem não supervisionada busca analisar e induzir os exemplos fornecidos determinando se alguns deles podem ser agrupados de alguma maneira, formando agrupamentos ou clusters, ou seja, em nossa base de dados ao submetermos os filmes da TMDB, o algoritmo separará os filmes e agrupá-los em gêneros ou outra categoria. "
      ],
      "metadata": {
        "id": "hyeukBZHq_LN"
      }
    },
    {
      "cell_type": "markdown",
      "source": [
        "### Aprendizagem semi-supervisionada"
      ],
      "metadata": {
        "id": "-0CuXaVFPRSL"
      }
    },
    {
      "cell_type": "markdown",
      "source": [
        "O método de aprendizagem semi-supervisionada é o treinamento de classificadores quando uma grande de exemplos não rotulados está disponível acompanhado de um pequeno conjunto de exemplos rotulados. Portanto, em nossa base de dados poucos dados são conhecidos e uma grande parte desconhecida, podemos utilizar o aprendizado para classificar, por exemplo, classificação dos filmes utilizando semelhanças observáveis pela descrição, título ou direção."
      ],
      "metadata": {
        "id": "1euRCzzlwm4J"
      }
    },
    {
      "cell_type": "markdown",
      "source": [
        "### Aprendizagem por reforço"
      ],
      "metadata": {
        "id": "_WPLhlcNPdEV"
      }
    },
    {
      "cell_type": "markdown",
      "source": [
        "A aprendizagem por reforço trata de situações onde um agente aprende por tentativa e erro ao atuar sobre um ambiente dinâmico, ou seja, no nosso caso através da tentativa e erro a IA pode rotular a classificação etária do filme através de seu gênero devido ao diretor do título, descrição e gênero."
      ],
      "metadata": {
        "id": "5zEMKmmV3Jct"
      }
    },
    {
      "cell_type": "markdown",
      "source": [
        "## Questão 3:"
      ],
      "metadata": {
        "id": "Ti-tQ_it99LU"
      }
    },
    {
      "cell_type": "markdown",
      "source": [
        "**(5 Pontos)** Em um Jupyter Notebook (link do collab, GitHub ou arquivo), utilize o método K vizinhos mais próximos na base escolhida na questão anterior para um contexto SUPERVISIONADO e para classificação:\n",
        "\n",
        "1. Aplique processos de pré-processamento e os necessários para execução do método K-NN.\n",
        "2. Aplique correlação ou PCA e selecione um número menor de atributos com esses métodos e justifique sua decisão.\n",
        "3. Escolha 5 valores de K e mostre os resultados (escolha 3 métricas de avaliação e mostre a matriz de confusão) e explique os resultados encontrados.\n",
        "4. Escolha 2 métricas de similaridade (diferentes distâncias ou outras métricas - correlação, por exemplo) para definir o(s) vizinho(s) mais próximos e explique os resultados encontrados.\n",
        "5. Melhor K e melhor distância e testar com o conjunto de atributos do item 2.\n"
      ],
      "metadata": {
        "id": "DRuQ2qqXUJuM"
      }
    },
    {
      "cell_type": "code",
      "source": [
        "#bibliotecas necessárias para ler/manipular/visualizar dados\n",
        "import pandas as pd\n",
        "import numpy as np\n",
        "import seaborn as sns\n",
        "import matplotlib.pyplot as plt\n",
        "import json\n",
        "\n",
        "#bibliotecas para criar o modelo de ML\n",
        "from sklearn import preprocessing\n",
        "from sklearn import utils\n",
        "from sklearn.neighbors import KNeighborsClassifier\n",
        "from sklearn.model_selection import train_test_split\n",
        "from sklearn.preprocessing import StandardScaler\n",
        "from sklearn.metrics import accuracy_score\n",
        "from sklearn.decomposition import PCA\n",
        "from sklearn import metrics\n",
        "from sklearn.metrics import confusion_matrix"
      ],
      "metadata": {
        "id": "UFA3y4hrSLCM"
      },
      "execution_count": 567,
      "outputs": []
    },
    {
      "cell_type": "code",
      "source": [
        "# Lendo arquivo e visualizando \n",
        "movies = pd.read_csv('tmdb_5000_movies.csv')\n",
        "credits = pd.read_csv('tmdb_5000_credits.csv')\n",
        "movies = movies.dropna()\n",
        "credits = credits.dropna()\n"
      ],
      "metadata": {
        "id": "us2AFhj8uYQY"
      },
      "execution_count": 568,
      "outputs": []
    },
    {
      "cell_type": "code",
      "source": [
        "#printando os primeiros 2 índices da base de dados de filmes\n",
        "movies.head()[:2]"
      ],
      "metadata": {
        "colab": {
          "base_uri": "https://localhost:8080/",
          "height": 350
        },
        "id": "JTiGR2P_kKo4",
        "outputId": "2a6e04b6-1bb2-451d-d84d-49135a605caa"
      },
      "execution_count": 569,
      "outputs": [
        {
          "output_type": "execute_result",
          "data": {
            "text/plain": [
              "      budget                                             genres  \\\n",
              "0  237000000  [{\"id\": 28, \"name\": \"Action\"}, {\"id\": 12, \"nam...   \n",
              "1  300000000  [{\"id\": 12, \"name\": \"Adventure\"}, {\"id\": 14, \"...   \n",
              "\n",
              "                                       homepage     id  \\\n",
              "0                   http://www.avatarmovie.com/  19995   \n",
              "1  http://disney.go.com/disneypictures/pirates/    285   \n",
              "\n",
              "                                            keywords original_language  \\\n",
              "0  [{\"id\": 1463, \"name\": \"culture clash\"}, {\"id\":...                en   \n",
              "1  [{\"id\": 270, \"name\": \"ocean\"}, {\"id\": 726, \"na...                en   \n",
              "\n",
              "                             original_title  \\\n",
              "0                                    Avatar   \n",
              "1  Pirates of the Caribbean: At World's End   \n",
              "\n",
              "                                            overview  popularity  \\\n",
              "0  In the 22nd century, a paraplegic Marine is di...  150.437577   \n",
              "1  Captain Barbossa, long believed to be dead, ha...  139.082615   \n",
              "\n",
              "                                production_companies  \\\n",
              "0  [{\"name\": \"Ingenious Film Partners\", \"id\": 289...   \n",
              "1  [{\"name\": \"Walt Disney Pictures\", \"id\": 2}, {\"...   \n",
              "\n",
              "                                production_countries release_date     revenue  \\\n",
              "0  [{\"iso_3166_1\": \"US\", \"name\": \"United States o...   2009-12-10  2787965087   \n",
              "1  [{\"iso_3166_1\": \"US\", \"name\": \"United States o...   2007-05-19   961000000   \n",
              "\n",
              "   runtime                                   spoken_languages    status  \\\n",
              "0    162.0  [{\"iso_639_1\": \"en\", \"name\": \"English\"}, {\"iso...  Released   \n",
              "1    169.0           [{\"iso_639_1\": \"en\", \"name\": \"English\"}]  Released   \n",
              "\n",
              "                                          tagline  \\\n",
              "0                     Enter the World of Pandora.   \n",
              "1  At the end of the world, the adventure begins.   \n",
              "\n",
              "                                      title  vote_average  vote_count  \n",
              "0                                    Avatar           7.2       11800  \n",
              "1  Pirates of the Caribbean: At World's End           6.9        4500  "
            ],
            "text/html": [
              "\n",
              "  <div id=\"df-fa2a606e-ed49-4c9b-a8b1-d66e417c07ff\">\n",
              "    <div class=\"colab-df-container\">\n",
              "      <div>\n",
              "<style scoped>\n",
              "    .dataframe tbody tr th:only-of-type {\n",
              "        vertical-align: middle;\n",
              "    }\n",
              "\n",
              "    .dataframe tbody tr th {\n",
              "        vertical-align: top;\n",
              "    }\n",
              "\n",
              "    .dataframe thead th {\n",
              "        text-align: right;\n",
              "    }\n",
              "</style>\n",
              "<table border=\"1\" class=\"dataframe\">\n",
              "  <thead>\n",
              "    <tr style=\"text-align: right;\">\n",
              "      <th></th>\n",
              "      <th>budget</th>\n",
              "      <th>genres</th>\n",
              "      <th>homepage</th>\n",
              "      <th>id</th>\n",
              "      <th>keywords</th>\n",
              "      <th>original_language</th>\n",
              "      <th>original_title</th>\n",
              "      <th>overview</th>\n",
              "      <th>popularity</th>\n",
              "      <th>production_companies</th>\n",
              "      <th>production_countries</th>\n",
              "      <th>release_date</th>\n",
              "      <th>revenue</th>\n",
              "      <th>runtime</th>\n",
              "      <th>spoken_languages</th>\n",
              "      <th>status</th>\n",
              "      <th>tagline</th>\n",
              "      <th>title</th>\n",
              "      <th>vote_average</th>\n",
              "      <th>vote_count</th>\n",
              "    </tr>\n",
              "  </thead>\n",
              "  <tbody>\n",
              "    <tr>\n",
              "      <th>0</th>\n",
              "      <td>237000000</td>\n",
              "      <td>[{\"id\": 28, \"name\": \"Action\"}, {\"id\": 12, \"nam...</td>\n",
              "      <td>http://www.avatarmovie.com/</td>\n",
              "      <td>19995</td>\n",
              "      <td>[{\"id\": 1463, \"name\": \"culture clash\"}, {\"id\":...</td>\n",
              "      <td>en</td>\n",
              "      <td>Avatar</td>\n",
              "      <td>In the 22nd century, a paraplegic Marine is di...</td>\n",
              "      <td>150.437577</td>\n",
              "      <td>[{\"name\": \"Ingenious Film Partners\", \"id\": 289...</td>\n",
              "      <td>[{\"iso_3166_1\": \"US\", \"name\": \"United States o...</td>\n",
              "      <td>2009-12-10</td>\n",
              "      <td>2787965087</td>\n",
              "      <td>162.0</td>\n",
              "      <td>[{\"iso_639_1\": \"en\", \"name\": \"English\"}, {\"iso...</td>\n",
              "      <td>Released</td>\n",
              "      <td>Enter the World of Pandora.</td>\n",
              "      <td>Avatar</td>\n",
              "      <td>7.2</td>\n",
              "      <td>11800</td>\n",
              "    </tr>\n",
              "    <tr>\n",
              "      <th>1</th>\n",
              "      <td>300000000</td>\n",
              "      <td>[{\"id\": 12, \"name\": \"Adventure\"}, {\"id\": 14, \"...</td>\n",
              "      <td>http://disney.go.com/disneypictures/pirates/</td>\n",
              "      <td>285</td>\n",
              "      <td>[{\"id\": 270, \"name\": \"ocean\"}, {\"id\": 726, \"na...</td>\n",
              "      <td>en</td>\n",
              "      <td>Pirates of the Caribbean: At World's End</td>\n",
              "      <td>Captain Barbossa, long believed to be dead, ha...</td>\n",
              "      <td>139.082615</td>\n",
              "      <td>[{\"name\": \"Walt Disney Pictures\", \"id\": 2}, {\"...</td>\n",
              "      <td>[{\"iso_3166_1\": \"US\", \"name\": \"United States o...</td>\n",
              "      <td>2007-05-19</td>\n",
              "      <td>961000000</td>\n",
              "      <td>169.0</td>\n",
              "      <td>[{\"iso_639_1\": \"en\", \"name\": \"English\"}]</td>\n",
              "      <td>Released</td>\n",
              "      <td>At the end of the world, the adventure begins.</td>\n",
              "      <td>Pirates of the Caribbean: At World's End</td>\n",
              "      <td>6.9</td>\n",
              "      <td>4500</td>\n",
              "    </tr>\n",
              "  </tbody>\n",
              "</table>\n",
              "</div>\n",
              "      <button class=\"colab-df-convert\" onclick=\"convertToInteractive('df-fa2a606e-ed49-4c9b-a8b1-d66e417c07ff')\"\n",
              "              title=\"Convert this dataframe to an interactive table.\"\n",
              "              style=\"display:none;\">\n",
              "        \n",
              "  <svg xmlns=\"http://www.w3.org/2000/svg\" height=\"24px\"viewBox=\"0 0 24 24\"\n",
              "       width=\"24px\">\n",
              "    <path d=\"M0 0h24v24H0V0z\" fill=\"none\"/>\n",
              "    <path d=\"M18.56 5.44l.94 2.06.94-2.06 2.06-.94-2.06-.94-.94-2.06-.94 2.06-2.06.94zm-11 1L8.5 8.5l.94-2.06 2.06-.94-2.06-.94L8.5 2.5l-.94 2.06-2.06.94zm10 10l.94 2.06.94-2.06 2.06-.94-2.06-.94-.94-2.06-.94 2.06-2.06.94z\"/><path d=\"M17.41 7.96l-1.37-1.37c-.4-.4-.92-.59-1.43-.59-.52 0-1.04.2-1.43.59L10.3 9.45l-7.72 7.72c-.78.78-.78 2.05 0 2.83L4 21.41c.39.39.9.59 1.41.59.51 0 1.02-.2 1.41-.59l7.78-7.78 2.81-2.81c.8-.78.8-2.07 0-2.86zM5.41 20L4 18.59l7.72-7.72 1.47 1.35L5.41 20z\"/>\n",
              "  </svg>\n",
              "      </button>\n",
              "      \n",
              "  <style>\n",
              "    .colab-df-container {\n",
              "      display:flex;\n",
              "      flex-wrap:wrap;\n",
              "      gap: 12px;\n",
              "    }\n",
              "\n",
              "    .colab-df-convert {\n",
              "      background-color: #E8F0FE;\n",
              "      border: none;\n",
              "      border-radius: 50%;\n",
              "      cursor: pointer;\n",
              "      display: none;\n",
              "      fill: #1967D2;\n",
              "      height: 32px;\n",
              "      padding: 0 0 0 0;\n",
              "      width: 32px;\n",
              "    }\n",
              "\n",
              "    .colab-df-convert:hover {\n",
              "      background-color: #E2EBFA;\n",
              "      box-shadow: 0px 1px 2px rgba(60, 64, 67, 0.3), 0px 1px 3px 1px rgba(60, 64, 67, 0.15);\n",
              "      fill: #174EA6;\n",
              "    }\n",
              "\n",
              "    [theme=dark] .colab-df-convert {\n",
              "      background-color: #3B4455;\n",
              "      fill: #D2E3FC;\n",
              "    }\n",
              "\n",
              "    [theme=dark] .colab-df-convert:hover {\n",
              "      background-color: #434B5C;\n",
              "      box-shadow: 0px 1px 3px 1px rgba(0, 0, 0, 0.15);\n",
              "      filter: drop-shadow(0px 1px 2px rgba(0, 0, 0, 0.3));\n",
              "      fill: #FFFFFF;\n",
              "    }\n",
              "  </style>\n",
              "\n",
              "      <script>\n",
              "        const buttonEl =\n",
              "          document.querySelector('#df-fa2a606e-ed49-4c9b-a8b1-d66e417c07ff button.colab-df-convert');\n",
              "        buttonEl.style.display =\n",
              "          google.colab.kernel.accessAllowed ? 'block' : 'none';\n",
              "\n",
              "        async function convertToInteractive(key) {\n",
              "          const element = document.querySelector('#df-fa2a606e-ed49-4c9b-a8b1-d66e417c07ff');\n",
              "          const dataTable =\n",
              "            await google.colab.kernel.invokeFunction('convertToInteractive',\n",
              "                                                     [key], {});\n",
              "          if (!dataTable) return;\n",
              "\n",
              "          const docLinkHtml = 'Like what you see? Visit the ' +\n",
              "            '<a target=\"_blank\" href=https://colab.research.google.com/notebooks/data_table.ipynb>data table notebook</a>'\n",
              "            + ' to learn more about interactive tables.';\n",
              "          element.innerHTML = '';\n",
              "          dataTable['output_type'] = 'display_data';\n",
              "          await google.colab.output.renderOutput(dataTable, element);\n",
              "          const docLink = document.createElement('div');\n",
              "          docLink.innerHTML = docLinkHtml;\n",
              "          element.appendChild(docLink);\n",
              "        }\n",
              "      </script>\n",
              "    </div>\n",
              "  </div>\n",
              "  "
            ]
          },
          "metadata": {},
          "execution_count": 569
        }
      ]
    },
    {
      "cell_type": "code",
      "source": [
        "#printando os primeiros 2 índices da base de dados de créditos\n",
        "credits.head()[:2]"
      ],
      "metadata": {
        "id": "kZffLhYzhxG8",
        "colab": {
          "base_uri": "https://localhost:8080/",
          "height": 112
        },
        "outputId": "51a398a4-67cb-4505-a552-917ffe2d4d5e"
      },
      "execution_count": 570,
      "outputs": [
        {
          "output_type": "execute_result",
          "data": {
            "text/plain": [
              "   movie_id                                     title  \\\n",
              "0     19995                                    Avatar   \n",
              "1       285  Pirates of the Caribbean: At World's End   \n",
              "\n",
              "                                                cast  \\\n",
              "0  [{\"cast_id\": 242, \"character\": \"Jake Sully\", \"...   \n",
              "1  [{\"cast_id\": 4, \"character\": \"Captain Jack Spa...   \n",
              "\n",
              "                                                crew  \n",
              "0  [{\"credit_id\": \"52fe48009251416c750aca23\", \"de...  \n",
              "1  [{\"credit_id\": \"52fe4232c3a36847f800b579\", \"de...  "
            ],
            "text/html": [
              "\n",
              "  <div id=\"df-a563065d-ff1e-4ded-9adf-b95821df49cf\">\n",
              "    <div class=\"colab-df-container\">\n",
              "      <div>\n",
              "<style scoped>\n",
              "    .dataframe tbody tr th:only-of-type {\n",
              "        vertical-align: middle;\n",
              "    }\n",
              "\n",
              "    .dataframe tbody tr th {\n",
              "        vertical-align: top;\n",
              "    }\n",
              "\n",
              "    .dataframe thead th {\n",
              "        text-align: right;\n",
              "    }\n",
              "</style>\n",
              "<table border=\"1\" class=\"dataframe\">\n",
              "  <thead>\n",
              "    <tr style=\"text-align: right;\">\n",
              "      <th></th>\n",
              "      <th>movie_id</th>\n",
              "      <th>title</th>\n",
              "      <th>cast</th>\n",
              "      <th>crew</th>\n",
              "    </tr>\n",
              "  </thead>\n",
              "  <tbody>\n",
              "    <tr>\n",
              "      <th>0</th>\n",
              "      <td>19995</td>\n",
              "      <td>Avatar</td>\n",
              "      <td>[{\"cast_id\": 242, \"character\": \"Jake Sully\", \"...</td>\n",
              "      <td>[{\"credit_id\": \"52fe48009251416c750aca23\", \"de...</td>\n",
              "    </tr>\n",
              "    <tr>\n",
              "      <th>1</th>\n",
              "      <td>285</td>\n",
              "      <td>Pirates of the Caribbean: At World's End</td>\n",
              "      <td>[{\"cast_id\": 4, \"character\": \"Captain Jack Spa...</td>\n",
              "      <td>[{\"credit_id\": \"52fe4232c3a36847f800b579\", \"de...</td>\n",
              "    </tr>\n",
              "  </tbody>\n",
              "</table>\n",
              "</div>\n",
              "      <button class=\"colab-df-convert\" onclick=\"convertToInteractive('df-a563065d-ff1e-4ded-9adf-b95821df49cf')\"\n",
              "              title=\"Convert this dataframe to an interactive table.\"\n",
              "              style=\"display:none;\">\n",
              "        \n",
              "  <svg xmlns=\"http://www.w3.org/2000/svg\" height=\"24px\"viewBox=\"0 0 24 24\"\n",
              "       width=\"24px\">\n",
              "    <path d=\"M0 0h24v24H0V0z\" fill=\"none\"/>\n",
              "    <path d=\"M18.56 5.44l.94 2.06.94-2.06 2.06-.94-2.06-.94-.94-2.06-.94 2.06-2.06.94zm-11 1L8.5 8.5l.94-2.06 2.06-.94-2.06-.94L8.5 2.5l-.94 2.06-2.06.94zm10 10l.94 2.06.94-2.06 2.06-.94-2.06-.94-.94-2.06-.94 2.06-2.06.94z\"/><path d=\"M17.41 7.96l-1.37-1.37c-.4-.4-.92-.59-1.43-.59-.52 0-1.04.2-1.43.59L10.3 9.45l-7.72 7.72c-.78.78-.78 2.05 0 2.83L4 21.41c.39.39.9.59 1.41.59.51 0 1.02-.2 1.41-.59l7.78-7.78 2.81-2.81c.8-.78.8-2.07 0-2.86zM5.41 20L4 18.59l7.72-7.72 1.47 1.35L5.41 20z\"/>\n",
              "  </svg>\n",
              "      </button>\n",
              "      \n",
              "  <style>\n",
              "    .colab-df-container {\n",
              "      display:flex;\n",
              "      flex-wrap:wrap;\n",
              "      gap: 12px;\n",
              "    }\n",
              "\n",
              "    .colab-df-convert {\n",
              "      background-color: #E8F0FE;\n",
              "      border: none;\n",
              "      border-radius: 50%;\n",
              "      cursor: pointer;\n",
              "      display: none;\n",
              "      fill: #1967D2;\n",
              "      height: 32px;\n",
              "      padding: 0 0 0 0;\n",
              "      width: 32px;\n",
              "    }\n",
              "\n",
              "    .colab-df-convert:hover {\n",
              "      background-color: #E2EBFA;\n",
              "      box-shadow: 0px 1px 2px rgba(60, 64, 67, 0.3), 0px 1px 3px 1px rgba(60, 64, 67, 0.15);\n",
              "      fill: #174EA6;\n",
              "    }\n",
              "\n",
              "    [theme=dark] .colab-df-convert {\n",
              "      background-color: #3B4455;\n",
              "      fill: #D2E3FC;\n",
              "    }\n",
              "\n",
              "    [theme=dark] .colab-df-convert:hover {\n",
              "      background-color: #434B5C;\n",
              "      box-shadow: 0px 1px 3px 1px rgba(0, 0, 0, 0.15);\n",
              "      filter: drop-shadow(0px 1px 2px rgba(0, 0, 0, 0.3));\n",
              "      fill: #FFFFFF;\n",
              "    }\n",
              "  </style>\n",
              "\n",
              "      <script>\n",
              "        const buttonEl =\n",
              "          document.querySelector('#df-a563065d-ff1e-4ded-9adf-b95821df49cf button.colab-df-convert');\n",
              "        buttonEl.style.display =\n",
              "          google.colab.kernel.accessAllowed ? 'block' : 'none';\n",
              "\n",
              "        async function convertToInteractive(key) {\n",
              "          const element = document.querySelector('#df-a563065d-ff1e-4ded-9adf-b95821df49cf');\n",
              "          const dataTable =\n",
              "            await google.colab.kernel.invokeFunction('convertToInteractive',\n",
              "                                                     [key], {});\n",
              "          if (!dataTable) return;\n",
              "\n",
              "          const docLinkHtml = 'Like what you see? Visit the ' +\n",
              "            '<a target=\"_blank\" href=https://colab.research.google.com/notebooks/data_table.ipynb>data table notebook</a>'\n",
              "            + ' to learn more about interactive tables.';\n",
              "          element.innerHTML = '';\n",
              "          dataTable['output_type'] = 'display_data';\n",
              "          await google.colab.output.renderOutput(dataTable, element);\n",
              "          const docLink = document.createElement('div');\n",
              "          docLink.innerHTML = docLinkHtml;\n",
              "          element.appendChild(docLink);\n",
              "        }\n",
              "      </script>\n",
              "    </div>\n",
              "  </div>\n",
              "  "
            ]
          },
          "metadata": {},
          "execution_count": 570
        }
      ]
    },
    {
      "cell_type": "markdown",
      "source": [
        "### Converte a coluna de genres, keywords, cast e crew para uma String, pois o sistema não itera se for array"
      ],
      "metadata": {
        "id": "kVmd4MF6FM92"
      }
    },
    {
      "cell_type": "code",
      "source": [
        "# Trocando a coluna de JSON para String\n",
        "movies['genres'] = movies['genres'].apply(json.loads)\n",
        "for index,i in zip(movies.index,movies['genres']):\n",
        "    list1 = []\n",
        "    for j in range(len(i)):\n",
        "        list1.append((i[j]['name'])) # A chave 'name' contêm o nome de um gênero\n",
        "    movies.loc[index,'genres'] = str(list1)\n",
        "\n",
        "movies['keywords'] = movies['keywords'].apply(json.loads)\n",
        "for index,i in zip(movies.index,movies['keywords']):\n",
        "    list1 = []\n",
        "    for j in range(len(i)):\n",
        "        list1.append((i[j]['name'])) # A chave 'name' contêm o nome de um gênero\n",
        "    movies.loc[index,'keywords'] = str(list1)"
      ],
      "metadata": {
        "id": "hOCEfp0VaTR6",
        "colab": {
          "base_uri": "https://localhost:8080/"
        },
        "outputId": "874a617d-1140-40b4-a645-5c1e72199db6"
      },
      "execution_count": 571,
      "outputs": [
        {
          "output_type": "stream",
          "name": "stderr",
          "text": [
            "/usr/local/lib/python3.7/dist-packages/ipykernel_launcher.py:2: SettingWithCopyWarning: \n",
            "A value is trying to be set on a copy of a slice from a DataFrame.\n",
            "Try using .loc[row_indexer,col_indexer] = value instead\n",
            "\n",
            "See the caveats in the documentation: https://pandas.pydata.org/pandas-docs/stable/user_guide/indexing.html#returning-a-view-versus-a-copy\n",
            "  \n",
            "/usr/local/lib/python3.7/dist-packages/pandas/core/indexing.py:1817: SettingWithCopyWarning: \n",
            "A value is trying to be set on a copy of a slice from a DataFrame.\n",
            "Try using .loc[row_indexer,col_indexer] = value instead\n",
            "\n",
            "See the caveats in the documentation: https://pandas.pydata.org/pandas-docs/stable/user_guide/indexing.html#returning-a-view-versus-a-copy\n",
            "  self._setitem_single_column(loc, value, pi)\n"
          ]
        }
      ]
    },
    {
      "cell_type": "code",
      "source": [
        "# Trocando a coluna de JSON para STRING\n",
        "credits['cast'] = credits['cast'].apply(json.loads)\n",
        "for index,i in zip(credits.index,credits['cast']):\n",
        "    list1 = []\n",
        "    for j in range(len(i)):\n",
        "        list1.append((i[j]['name'])) # A chave 'name' contêm o nome dos atores\n",
        "    credits.loc[index,'cast'] = str(list1)\n"
      ],
      "metadata": {
        "id": "qI4KoGumhMD1"
      },
      "execution_count": 572,
      "outputs": []
    },
    {
      "cell_type": "code",
      "source": [
        "# mudando a coluna de JSON para STRING\n",
        "credits['crew'] = credits['crew'].apply(json.loads)\n",
        "for index,i in zip(credits.index,credits['crew']):\n",
        "    list1 = []\n",
        "    for j in range(len(i)):\n",
        "      if i[j]['job'] == 'Director': # Verifica se o trabalho corresponde a diretor do filme\n",
        "        list1.append((i[j]['name'])) # A chave 'name' contêm o nome dos diretores\n",
        "    credits.loc[index,'crew'] = str(list1)"
      ],
      "metadata": {
        "id": "zKf8rI0ojIek"
      },
      "execution_count": 573,
      "outputs": []
    },
    {
      "cell_type": "markdown",
      "source": [
        "Juntando as bases de dados em uma única base:"
      ],
      "metadata": {
        "id": "Oagw8To1IywS"
      }
    },
    {
      "cell_type": "code",
      "source": [
        "# mergeando(mesclando) as bases de dados\n",
        "movies = movies.merge(credits, left_on='id', right_on='movie_id', how='left')\n",
        "movies = movies[['id', 'original_title', 'genres', 'cast', 'crew', 'vote_average', 'keywords']]"
      ],
      "metadata": {
        "id": "4uHlFUWbZnY5"
      },
      "execution_count": 574,
      "outputs": []
    },
    {
      "cell_type": "markdown",
      "source": [
        "Removendo caracteres indesejados dos dados e convertendo as colunas **genres**, **keywords**, **cast** e **crew** de *string* para *list*:"
      ],
      "metadata": {
        "id": "OlQwpjygJEmC"
      }
    },
    {
      "cell_type": "code",
      "source": [
        "movies['genres'] = movies['genres'].str.strip('[]').str.replace(' ','').str.replace(\"'\",'').str.replace('\"','')\n",
        "movies['genres'] = movies['genres'].str.split(',')\n",
        "\n",
        "movies['keywords'] = movies['keywords'].str.strip('[]').str.replace(' ','').str.replace(\"'\",'').str.replace('\"','')\n",
        "movies['keywords'] = movies['keywords'].str.split(',')\n",
        "\n",
        "movies['cast'] = movies['cast'].str.strip('[]').str.replace(' ','').str.replace(\"'\",'').str.replace('\"','')\n",
        "movies['cast'] = movies['cast'].str.split(',')\n",
        "\n",
        "movies['crew'] = movies['crew'].str.strip('[]').str.replace(' ','').str.replace(\"'\",'').str.replace('\"','')\n",
        "movies['crew'] = movies['crew'].str.split(',')"
      ],
      "metadata": {
        "id": "fGz3egWjcb5h"
      },
      "execution_count": 575,
      "outputs": []
    },
    {
      "cell_type": "markdown",
      "source": [
        "A base de dados está com a coluna de **cast** ordenada com os atores por seu protagonismo no filme, ou seja, está ordenado do protagonista e principais atores até os menos importantes, por isso, limitamos a lista de atores do filme para focarmos somente nos 5 primeiros:"
      ],
      "metadata": {
        "id": "nQTTku5wNNJ7"
      }
    },
    {
      "cell_type": "code",
      "source": [
        "#Salvando na coluna de Cast os 9 atores mais importantes de cada índice\n",
        "\n",
        "for index,i in enumerate(movies['cast']):\n",
        "  list1 = []\n",
        "  if len(i) > 5:\n",
        "    for j in range(5):\n",
        "      list1.append(str(i[j]))\n",
        "  else:\n",
        "    list1.append(str(i))\n",
        "  #print(list1[1])\n",
        "  movies.loc[index,'cast'] = str(list1)"
      ],
      "metadata": {
        "id": "xE8ahyVdr2er"
      },
      "execution_count": 576,
      "outputs": []
    },
    {
      "cell_type": "code",
      "source": [
        "movies['cast'] = movies['cast'].astype(str).str.strip('[]').str.replace(' ','').str.replace(\"'\",'').str.replace('\"','').str.replace('/','')\n",
        "movies['cast'] = movies['cast'].str.split(',')"
      ],
      "metadata": {
        "id": "rY3GpLVuIRrE"
      },
      "execution_count": 577,
      "outputs": []
    },
    {
      "cell_type": "code",
      "source": [
        "# gerando estatísticas descritivas de nossa base de dados de filmes\n",
        "movies.describe()"
      ],
      "metadata": {
        "id": "on9ZLq-9A1y1",
        "colab": {
          "base_uri": "https://localhost:8080/",
          "height": 300
        },
        "outputId": "c839e93f-77e8-46dc-bc60-c53fa493b8fd"
      },
      "execution_count": 578,
      "outputs": [
        {
          "output_type": "execute_result",
          "data": {
            "text/plain": [
              "                  id  vote_average\n",
              "count    1493.000000   1493.000000\n",
              "mean    65498.552579      6.272873\n",
              "std     89841.824027      0.970480\n",
              "min        11.000000      0.000000\n",
              "25%      8090.000000      5.800000\n",
              "50%     26320.000000      6.300000\n",
              "75%     76341.000000      6.900000\n",
              "max    426469.000000      8.400000"
            ],
            "text/html": [
              "\n",
              "  <div id=\"df-86399057-fa04-4367-bc53-c8b219fba226\">\n",
              "    <div class=\"colab-df-container\">\n",
              "      <div>\n",
              "<style scoped>\n",
              "    .dataframe tbody tr th:only-of-type {\n",
              "        vertical-align: middle;\n",
              "    }\n",
              "\n",
              "    .dataframe tbody tr th {\n",
              "        vertical-align: top;\n",
              "    }\n",
              "\n",
              "    .dataframe thead th {\n",
              "        text-align: right;\n",
              "    }\n",
              "</style>\n",
              "<table border=\"1\" class=\"dataframe\">\n",
              "  <thead>\n",
              "    <tr style=\"text-align: right;\">\n",
              "      <th></th>\n",
              "      <th>id</th>\n",
              "      <th>vote_average</th>\n",
              "    </tr>\n",
              "  </thead>\n",
              "  <tbody>\n",
              "    <tr>\n",
              "      <th>count</th>\n",
              "      <td>1493.000000</td>\n",
              "      <td>1493.000000</td>\n",
              "    </tr>\n",
              "    <tr>\n",
              "      <th>mean</th>\n",
              "      <td>65498.552579</td>\n",
              "      <td>6.272873</td>\n",
              "    </tr>\n",
              "    <tr>\n",
              "      <th>std</th>\n",
              "      <td>89841.824027</td>\n",
              "      <td>0.970480</td>\n",
              "    </tr>\n",
              "    <tr>\n",
              "      <th>min</th>\n",
              "      <td>11.000000</td>\n",
              "      <td>0.000000</td>\n",
              "    </tr>\n",
              "    <tr>\n",
              "      <th>25%</th>\n",
              "      <td>8090.000000</td>\n",
              "      <td>5.800000</td>\n",
              "    </tr>\n",
              "    <tr>\n",
              "      <th>50%</th>\n",
              "      <td>26320.000000</td>\n",
              "      <td>6.300000</td>\n",
              "    </tr>\n",
              "    <tr>\n",
              "      <th>75%</th>\n",
              "      <td>76341.000000</td>\n",
              "      <td>6.900000</td>\n",
              "    </tr>\n",
              "    <tr>\n",
              "      <th>max</th>\n",
              "      <td>426469.000000</td>\n",
              "      <td>8.400000</td>\n",
              "    </tr>\n",
              "  </tbody>\n",
              "</table>\n",
              "</div>\n",
              "      <button class=\"colab-df-convert\" onclick=\"convertToInteractive('df-86399057-fa04-4367-bc53-c8b219fba226')\"\n",
              "              title=\"Convert this dataframe to an interactive table.\"\n",
              "              style=\"display:none;\">\n",
              "        \n",
              "  <svg xmlns=\"http://www.w3.org/2000/svg\" height=\"24px\"viewBox=\"0 0 24 24\"\n",
              "       width=\"24px\">\n",
              "    <path d=\"M0 0h24v24H0V0z\" fill=\"none\"/>\n",
              "    <path d=\"M18.56 5.44l.94 2.06.94-2.06 2.06-.94-2.06-.94-.94-2.06-.94 2.06-2.06.94zm-11 1L8.5 8.5l.94-2.06 2.06-.94-2.06-.94L8.5 2.5l-.94 2.06-2.06.94zm10 10l.94 2.06.94-2.06 2.06-.94-2.06-.94-.94-2.06-.94 2.06-2.06.94z\"/><path d=\"M17.41 7.96l-1.37-1.37c-.4-.4-.92-.59-1.43-.59-.52 0-1.04.2-1.43.59L10.3 9.45l-7.72 7.72c-.78.78-.78 2.05 0 2.83L4 21.41c.39.39.9.59 1.41.59.51 0 1.02-.2 1.41-.59l7.78-7.78 2.81-2.81c.8-.78.8-2.07 0-2.86zM5.41 20L4 18.59l7.72-7.72 1.47 1.35L5.41 20z\"/>\n",
              "  </svg>\n",
              "      </button>\n",
              "      \n",
              "  <style>\n",
              "    .colab-df-container {\n",
              "      display:flex;\n",
              "      flex-wrap:wrap;\n",
              "      gap: 12px;\n",
              "    }\n",
              "\n",
              "    .colab-df-convert {\n",
              "      background-color: #E8F0FE;\n",
              "      border: none;\n",
              "      border-radius: 50%;\n",
              "      cursor: pointer;\n",
              "      display: none;\n",
              "      fill: #1967D2;\n",
              "      height: 32px;\n",
              "      padding: 0 0 0 0;\n",
              "      width: 32px;\n",
              "    }\n",
              "\n",
              "    .colab-df-convert:hover {\n",
              "      background-color: #E2EBFA;\n",
              "      box-shadow: 0px 1px 2px rgba(60, 64, 67, 0.3), 0px 1px 3px 1px rgba(60, 64, 67, 0.15);\n",
              "      fill: #174EA6;\n",
              "    }\n",
              "\n",
              "    [theme=dark] .colab-df-convert {\n",
              "      background-color: #3B4455;\n",
              "      fill: #D2E3FC;\n",
              "    }\n",
              "\n",
              "    [theme=dark] .colab-df-convert:hover {\n",
              "      background-color: #434B5C;\n",
              "      box-shadow: 0px 1px 3px 1px rgba(0, 0, 0, 0.15);\n",
              "      filter: drop-shadow(0px 1px 2px rgba(0, 0, 0, 0.3));\n",
              "      fill: #FFFFFF;\n",
              "    }\n",
              "  </style>\n",
              "\n",
              "      <script>\n",
              "        const buttonEl =\n",
              "          document.querySelector('#df-86399057-fa04-4367-bc53-c8b219fba226 button.colab-df-convert');\n",
              "        buttonEl.style.display =\n",
              "          google.colab.kernel.accessAllowed ? 'block' : 'none';\n",
              "\n",
              "        async function convertToInteractive(key) {\n",
              "          const element = document.querySelector('#df-86399057-fa04-4367-bc53-c8b219fba226');\n",
              "          const dataTable =\n",
              "            await google.colab.kernel.invokeFunction('convertToInteractive',\n",
              "                                                     [key], {});\n",
              "          if (!dataTable) return;\n",
              "\n",
              "          const docLinkHtml = 'Like what you see? Visit the ' +\n",
              "            '<a target=\"_blank\" href=https://colab.research.google.com/notebooks/data_table.ipynb>data table notebook</a>'\n",
              "            + ' to learn more about interactive tables.';\n",
              "          element.innerHTML = '';\n",
              "          dataTable['output_type'] = 'display_data';\n",
              "          await google.colab.output.renderOutput(dataTable, element);\n",
              "          const docLink = document.createElement('div');\n",
              "          docLink.innerHTML = docLinkHtml;\n",
              "          element.appendChild(docLink);\n",
              "        }\n",
              "      </script>\n",
              "    </div>\n",
              "  </div>\n",
              "  "
            ]
          },
          "metadata": {},
          "execution_count": 578
        }
      ]
    },
    {
      "cell_type": "code",
      "source": [
        "# exibe a média dos valores disponíveis \n",
        "movies.mean()"
      ],
      "metadata": {
        "id": "2ZuvJrNZlmxm",
        "colab": {
          "base_uri": "https://localhost:8080/"
        },
        "outputId": "8097f8b0-8b60-481b-bc81-7be2d799ff0a"
      },
      "execution_count": 579,
      "outputs": [
        {
          "output_type": "stream",
          "name": "stderr",
          "text": [
            "/usr/local/lib/python3.7/dist-packages/ipykernel_launcher.py:2: FutureWarning: Dropping of nuisance columns in DataFrame reductions (with 'numeric_only=None') is deprecated; in a future version this will raise TypeError.  Select only valid columns before calling the reduction.\n",
            "  \n"
          ]
        },
        {
          "output_type": "execute_result",
          "data": {
            "text/plain": [
              "id              65498.552579\n",
              "vote_average        6.272873\n",
              "dtype: float64"
            ]
          },
          "metadata": {},
          "execution_count": 579
        }
      ]
    },
    {
      "cell_type": "markdown",
      "source": [
        "### Tratando a coluna de \"**genres**\":"
      ],
      "metadata": {
        "id": "WOwy8tI8TH9g"
      }
    },
    {
      "cell_type": "code",
      "source": [
        "# Plotando o gráfico que indica a quantidade de cada filme classificado por gênero\n",
        "plt.subplots(figsize=(12,10))\n",
        "list1 = []\n",
        "for i in movies['genres']:\n",
        "    list1.extend(i)\n",
        "ax = pd.Series(list1).value_counts()[:10].sort_values(ascending=True).plot.barh(width=0.9,color=sns.color_palette('hls',10))\n",
        "for i, v in enumerate(pd.Series(list1).value_counts()[:10].sort_values(ascending=True).values): \n",
        "    ax.text(.8, i, v,fontsize=12,color='white',weight='bold')\n",
        "plt.title('Top Gêneros')\n",
        "plt.show()"
      ],
      "metadata": {
        "colab": {
          "base_uri": "https://localhost:8080/",
          "height": 607
        },
        "id": "jX0dbK8bcfs3",
        "outputId": "b0e9411d-4dea-4c93-b5d1-eb561d9b134b"
      },
      "execution_count": 580,
      "outputs": [
        {
          "output_type": "display_data",
          "data": {
            "text/plain": [
              "<Figure size 864x720 with 1 Axes>"
            ],
            "image/png": "[encoded data removed]"
          },
          "metadata": {
            "needs_background": "light"
          }
        }
      ]
    },
    {
      "cell_type": "code",
      "source": [
        "genreList = []\n",
        "for index, row in movies.iterrows():\n",
        "    genres = row[\"genres\"]\n",
        "    \n",
        "    for genre in genres:\n",
        "        if genre not in genreList:\n",
        "            genreList.append(genre)\n",
        "genreList[:10] #Agora nós temos uma lista com os únicos gêneros "
      ],
      "metadata": {
        "colab": {
          "base_uri": "https://localhost:8080/"
        },
        "id": "pxgV0thFcleI",
        "outputId": "139a9bf1-bcc2-43ad-f37c-8a4080c93a19"
      },
      "execution_count": 581,
      "outputs": [
        {
          "output_type": "execute_result",
          "data": {
            "text/plain": [
              "['Action',\n",
              " 'Adventure',\n",
              " 'Fantasy',\n",
              " 'ScienceFiction',\n",
              " 'Crime',\n",
              " 'Drama',\n",
              " 'Thriller',\n",
              " 'Animation',\n",
              " 'Family',\n",
              " 'Western']"
            ]
          },
          "metadata": {},
          "execution_count": 581
        }
      ]
    },
    {
      "cell_type": "code",
      "source": [
        "print(genreList)"
      ],
      "metadata": {
        "colab": {
          "base_uri": "https://localhost:8080/"
        },
        "id": "2wM5hLn6cLsb",
        "outputId": "7d9c22fd-09c4-42e9-f88e-1a14c925ca27"
      },
      "execution_count": 582,
      "outputs": [
        {
          "output_type": "stream",
          "name": "stdout",
          "text": [
            "['Action', 'Adventure', 'Fantasy', 'ScienceFiction', 'Crime', 'Drama', 'Thriller', 'Animation', 'Family', 'Western', 'Comedy', 'Romance', 'Horror', 'Mystery', 'War', 'History', 'Music', 'Documentary', 'Foreign', 'TVMovie', '']\n"
          ]
        }
      ]
    },
    {
      "cell_type": "code",
      "source": [
        "def binary(genre_list):\n",
        "    binaryList = []\n",
        "    \n",
        "    for genre in genreList:\n",
        "        if genre in genre_list:\n",
        "            binaryList.append(1)\n",
        "        else:\n",
        "            binaryList.append(0)\n",
        "    \n",
        "    return binaryList"
      ],
      "metadata": {
        "id": "mYEVJSRBcoho"
      },
      "execution_count": 583,
      "outputs": []
    },
    {
      "cell_type": "code",
      "source": [
        "movies['genres_bin'] = movies['genres'].apply(lambda x: binary(x))\n",
        "movies['genres_bin'].head()"
      ],
      "metadata": {
        "colab": {
          "base_uri": "https://localhost:8080/"
        },
        "id": "ctviWHCac1-Y",
        "outputId": "5e32817c-e753-41af-c784-69ffe4a4c881"
      },
      "execution_count": 584,
      "outputs": [
        {
          "output_type": "execute_result",
          "data": {
            "text/plain": [
              "0    [1, 1, 1, 1, 0, 0, 0, 0, 0, 0, 0, 0, 0, 0, 0, ...\n",
              "1    [1, 1, 1, 0, 0, 0, 0, 0, 0, 0, 0, 0, 0, 0, 0, ...\n",
              "2    [1, 1, 0, 0, 1, 0, 0, 0, 0, 0, 0, 0, 0, 0, 0, ...\n",
              "3    [1, 0, 0, 0, 1, 1, 1, 0, 0, 0, 0, 0, 0, 0, 0, ...\n",
              "4    [1, 1, 0, 1, 0, 0, 0, 0, 0, 0, 0, 0, 0, 0, 0, ...\n",
              "Name: genres_bin, dtype: object"
            ]
          },
          "metadata": {},
          "execution_count": 584
        }
      ]
    },
    {
      "cell_type": "code",
      "source": [
        "print(movies['genres_bin'][250])"
      ],
      "metadata": {
        "colab": {
          "base_uri": "https://localhost:8080/"
        },
        "id": "sGeoUQqGONQY",
        "outputId": "5c832ec1-70c0-4559-8d20-d831125670cb"
      },
      "execution_count": 585,
      "outputs": [
        {
          "output_type": "stream",
          "name": "stdout",
          "text": [
            "[0, 0, 0, 0, 1, 0, 1, 0, 0, 0, 0, 0, 0, 0, 0, 0, 0, 0, 0, 0, 0]\n"
          ]
        }
      ]
    },
    {
      "cell_type": "markdown",
      "source": [
        "### Tratando a coluna de \"**cast**\" com os atores principais"
      ],
      "metadata": {
        "id": "3GqD_896UA-S"
      }
    },
    {
      "cell_type": "code",
      "source": [
        "movies['cast'][1][1]"
      ],
      "metadata": {
        "colab": {
          "base_uri": "https://localhost:8080/",
          "height": 36
        },
        "id": "56TKniHvUxar",
        "outputId": "a4b9fd38-2534-489e-fd9a-eba298e3d5e0"
      },
      "execution_count": 586,
      "outputs": [
        {
          "output_type": "execute_result",
          "data": {
            "text/plain": [
              "'OrlandoBloom'"
            ],
            "application/vnd.google.colaboratory.intrinsic+json": {
              "type": "string"
            }
          },
          "metadata": {},
          "execution_count": 586
        }
      ]
    },
    {
      "cell_type": "code",
      "source": [
        "plt.subplots(figsize=(12,10))\n",
        "list1=[]\n",
        "for i in movies['cast']:\n",
        "    list1.extend(i)\n",
        "ax=pd.Series(list1).value_counts()[:15].sort_values(ascending=True).plot.barh(width=0.9,color=sns.color_palette('muted',40))\n",
        "for i, v in enumerate(pd.Series(list1).value_counts()[:15].sort_values(ascending=True).values): \n",
        "    ax.text(.8, i, v,fontsize=10,color='white',weight='bold')\n",
        "plt.title('Atores com maior quantidade de aparições:')\n",
        "plt.show()"
      ],
      "metadata": {
        "colab": {
          "base_uri": "https://localhost:8080/",
          "height": 607
        },
        "id": "Zug_x44Bd1hk",
        "outputId": "9b4f7085-690b-4064-fc92-46382a46eae5"
      },
      "execution_count": 587,
      "outputs": [
        {
          "output_type": "display_data",
          "data": {
            "text/plain": [
              "<Figure size 864x720 with 1 Axes>"
            ],
            "image/png": "[encoded data removed]"
          },
          "metadata": {
            "needs_background": "light"
          }
        }
      ]
    },
    {
      "cell_type": "code",
      "source": [
        "# from sklearn.preprocessing import LabelEncoder\n",
        "# new_dataset = movies.copy()\n",
        "# lb_make_cast = LabelEncoder()\n",
        "# lb_make_cast.fit(new_dataset[\"cast\"])\n",
        "# new_dataset[\"cast\"] = lb_make_cast.transform(new_dataset[\"cast\"])\n",
        "# new_dataset.head(11)"
      ],
      "metadata": {
        "id": "nZxKqzRETKDc"
      },
      "execution_count": 588,
      "outputs": []
    },
    {
      "cell_type": "code",
      "source": [
        "actorList = []\n",
        "for index, row in movies.iterrows():\n",
        "    actors = row[\"cast\"]\n",
        "    \n",
        "    for actor in actors:\n",
        "        if actor not in actorList:\n",
        "            actorList.append(actor)\n",
        "actorList[:15] #Agora nós temos uma lista com o nome de todos os Atores "
      ],
      "metadata": {
        "colab": {
          "base_uri": "https://localhost:8080/"
        },
        "id": "06guyCU-cbhy",
        "outputId": "5a7fabdd-d9da-4c78-baa0-e0a72fab7756"
      },
      "execution_count": 589,
      "outputs": [
        {
          "output_type": "execute_result",
          "data": {
            "text/plain": [
              "['SamWorthington',\n",
              " 'ZoeSaldana',\n",
              " 'SigourneyWeaver',\n",
              " 'StephenLang',\n",
              " 'MichelleRodriguez',\n",
              " 'JohnnyDepp',\n",
              " 'OrlandoBloom',\n",
              " 'KeiraKnightley',\n",
              " 'StellanSkarsgård',\n",
              " 'ChowYun-fat',\n",
              " 'DanielCraig',\n",
              " 'ChristophWaltz',\n",
              " 'LéaSeydoux',\n",
              " 'RalphFiennes',\n",
              " 'MonicaBellucci']"
            ]
          },
          "metadata": {},
          "execution_count": 589
        }
      ]
    },
    {
      "cell_type": "code",
      "source": [
        "print(movies['cast'])"
      ],
      "metadata": {
        "colab": {
          "base_uri": "https://localhost:8080/"
        },
        "id": "bI8d19eKpkRR",
        "outputId": "ec71190a-f0d4-4580-99dc-5ea4a38c36db"
      },
      "execution_count": 590,
      "outputs": [
        {
          "output_type": "stream",
          "name": "stdout",
          "text": [
            "0       [SamWorthington, ZoeSaldana, SigourneyWeaver, ...\n",
            "1       [JohnnyDepp, OrlandoBloom, KeiraKnightley, Ste...\n",
            "2       [DanielCraig, ChristophWaltz, LéaSeydoux, Ralp...\n",
            "3       [ChristianBale, MichaelCaine, GaryOldman, Anne...\n",
            "4       [TaylorKitsch, LynnCollins, SamanthaMorton, Wi...\n",
            "                              ...                        \n",
            "1488    [BrianOHalloran, JeffAnderson, JasonMewes, Kev...\n",
            "1489    [SuziLorraine, JaredDegado, HeatherDorff, Rach...\n",
            "1490    [[MichaelParle, EmmaElizaRegan, PatrickODonnel...\n",
            "1491    [ShaneCarruth, DavidSullivan, CaseyGooden, Ana...\n",
            "1492    [[DanielHenney, ElizaCoupe, BillPaxton, AlanRu...\n",
            "Name: cast, Length: 1493, dtype: object\n"
          ]
        }
      ]
    },
    {
      "cell_type": "code",
      "source": [
        "def binaryActor(actor_list):\n",
        "    binaryList = []\n",
        "    \n",
        "    for actor in actorList:\n",
        "        if actor in actor_list:\n",
        "            binaryList.append(1)\n",
        "        else:\n",
        "            binaryList.append(0)\n",
        "    \n",
        "    return binaryList"
      ],
      "metadata": {
        "id": "nxHU_Q_q4Xro"
      },
      "execution_count": 591,
      "outputs": []
    },
    {
      "cell_type": "code",
      "source": [
        "movies['cast_bin'] = movies['cast'].apply(lambda x: binaryActor(x))\n",
        "movies['cast_bin'][2]"
      ],
      "metadata": {
        "colab": {
          "base_uri": "https://localhost:8080/"
        },
        "id": "_BJigpuQ2_dZ",
        "outputId": "ad7142b2-8d1c-47a4-ed50-82e6dd76eefe"
      },
      "execution_count": 592,
      "outputs": [
        {
          "output_type": "execute_result",
          "data": {
            "text/plain": [
              "[0,\n",
              " 0,\n",
              " 0,\n",
              " 0,\n",
              " 0,\n",
              " 0,\n",
              " 0,\n",
              " 0,\n",
              " 0,\n",
              " 0,\n",
              " 1,\n",
              " 1,\n",
              " 1,\n",
              " 1,\n",
              " 1,\n",
              " 0,\n",
              " 0,\n",
              " 0,\n",
              " 0,\n",
              " 0,\n",
              " 0,\n",
              " 0,\n",
              " 0,\n",
              " 0,\n",
              " 0,\n",
              " 0,\n",
              " 0,\n",
              " 0,\n",
              " 0,\n",
              " 0,\n",
              " 0,\n",
              " 0,\n",
              " 0,\n",
              " 0,\n",
              " 0,\n",
              " 0,\n",
              " 0,\n",
              " 0,\n",
              " 0,\n",
              " 0,\n",
              " 0,\n",
              " 0,\n",
              " 0,\n",
              " 0,\n",
              " 0,\n",
              " 0,\n",
              " 0,\n",
              " 0,\n",
              " 0,\n",
              " 0,\n",
              " 0,\n",
              " 0,\n",
              " 0,\n",
              " 0,\n",
              " 0,\n",
              " 0,\n",
              " 0,\n",
              " 0,\n",
              " 0,\n",
              " 0,\n",
              " 0,\n",
              " 0,\n",
              " 0,\n",
              " 0,\n",
              " 0,\n",
              " 0,\n",
              " 0,\n",
              " 0,\n",
              " 0,\n",
              " 0,\n",
              " 0,\n",
              " 0,\n",
              " 0,\n",
              " 0,\n",
              " 0,\n",
              " 0,\n",
              " 0,\n",
              " 0,\n",
              " 0,\n",
              " 0,\n",
              " 0,\n",
              " 0,\n",
              " 0,\n",
              " 0,\n",
              " 0,\n",
              " 0,\n",
              " 0,\n",
              " 0,\n",
              " 0,\n",
              " 0,\n",
              " 0,\n",
              " 0,\n",
              " 0,\n",
              " 0,\n",
              " 0,\n",
              " 0,\n",
              " 0,\n",
              " 0,\n",
              " 0,\n",
              " 0,\n",
              " 0,\n",
              " 0,\n",
              " 0,\n",
              " 0,\n",
              " 0,\n",
              " 0,\n",
              " 0,\n",
              " 0,\n",
              " 0,\n",
              " 0,\n",
              " 0,\n",
              " 0,\n",
              " 0,\n",
              " 0,\n",
              " 0,\n",
              " 0,\n",
              " 0,\n",
              " 0,\n",
              " 0,\n",
              " 0,\n",
              " 0,\n",
              " 0,\n",
              " 0,\n",
              " 0,\n",
              " 0,\n",
              " 0,\n",
              " 0,\n",
              " 0,\n",
              " 0,\n",
              " 0,\n",
              " 0,\n",
              " 0,\n",
              " 0,\n",
              " 0,\n",
              " 0,\n",
              " 0,\n",
              " 0,\n",
              " 0,\n",
              " 0,\n",
              " 0,\n",
              " 0,\n",
              " 0,\n",
              " 0,\n",
              " 0,\n",
              " 0,\n",
              " 0,\n",
              " 0,\n",
              " 0,\n",
              " 0,\n",
              " 0,\n",
              " 0,\n",
              " 0,\n",
              " 0,\n",
              " 0,\n",
              " 0,\n",
              " 0,\n",
              " 0,\n",
              " 0,\n",
              " 0,\n",
              " 0,\n",
              " 0,\n",
              " 0,\n",
              " 0,\n",
              " 0,\n",
              " 0,\n",
              " 0,\n",
              " 0,\n",
              " 0,\n",
              " 0,\n",
              " 0,\n",
              " 0,\n",
              " 0,\n",
              " 0,\n",
              " 0,\n",
              " 0,\n",
              " 0,\n",
              " 0,\n",
              " 0,\n",
              " 0,\n",
              " 0,\n",
              " 0,\n",
              " 0,\n",
              " 0,\n",
              " 0,\n",
              " 0,\n",
              " 0,\n",
              " 0,\n",
              " 0,\n",
              " 0,\n",
              " 0,\n",
              " 0,\n",
              " 0,\n",
              " 0,\n",
              " 0,\n",
              " 0,\n",
              " 0,\n",
              " 0,\n",
              " 0,\n",
              " 0,\n",
              " 0,\n",
              " 0,\n",
              " 0,\n",
              " 0,\n",
              " 0,\n",
              " 0,\n",
              " 0,\n",
              " 0,\n",
              " 0,\n",
              " 0,\n",
              " 0,\n",
              " 0,\n",
              " 0,\n",
              " 0,\n",
              " 0,\n",
              " 0,\n",
              " 0,\n",
              " 0,\n",
              " 0,\n",
              " 0,\n",
              " 0,\n",
              " 0,\n",
              " 0,\n",
              " 0,\n",
              " 0,\n",
              " 0,\n",
              " 0,\n",
              " 0,\n",
              " 0,\n",
              " 0,\n",
              " 0,\n",
              " 0,\n",
              " 0,\n",
              " 0,\n",
              " 0,\n",
              " 0,\n",
              " 0,\n",
              " 0,\n",
              " 0,\n",
              " 0,\n",
              " 0,\n",
              " 0,\n",
              " 0,\n",
              " 0,\n",
              " 0,\n",
              " 0,\n",
              " 0,\n",
              " 0,\n",
              " 0,\n",
              " 0,\n",
              " 0,\n",
              " 0,\n",
              " 0,\n",
              " 0,\n",
              " 0,\n",
              " 0,\n",
              " 0,\n",
              " 0,\n",
              " 0,\n",
              " 0,\n",
              " 0,\n",
              " 0,\n",
              " 0,\n",
              " 0,\n",
              " 0,\n",
              " 0,\n",
              " 0,\n",
              " 0,\n",
              " 0,\n",
              " 0,\n",
              " 0,\n",
              " 0,\n",
              " 0,\n",
              " 0,\n",
              " 0,\n",
              " 0,\n",
              " 0,\n",
              " 0,\n",
              " 0,\n",
              " 0,\n",
              " 0,\n",
              " 0,\n",
              " 0,\n",
              " 0,\n",
              " 0,\n",
              " 0,\n",
              " 0,\n",
              " 0,\n",
              " 0,\n",
              " 0,\n",
              " 0,\n",
              " 0,\n",
              " 0,\n",
              " 0,\n",
              " 0,\n",
              " 0,\n",
              " 0,\n",
              " 0,\n",
              " 0,\n",
              " 0,\n",
              " 0,\n",
              " 0,\n",
              " 0,\n",
              " 0,\n",
              " 0,\n",
              " 0,\n",
              " 0,\n",
              " 0,\n",
              " 0,\n",
              " 0,\n",
              " 0,\n",
              " 0,\n",
              " 0,\n",
              " 0,\n",
              " 0,\n",
              " 0,\n",
              " 0,\n",
              " 0,\n",
              " 0,\n",
              " 0,\n",
              " 0,\n",
              " 0,\n",
              " 0,\n",
              " 0,\n",
              " 0,\n",
              " 0,\n",
              " 0,\n",
              " 0,\n",
              " 0,\n",
              " 0,\n",
              " 0,\n",
              " 0,\n",
              " 0,\n",
              " 0,\n",
              " 0,\n",
              " 0,\n",
              " 0,\n",
              " 0,\n",
              " 0,\n",
              " 0,\n",
              " 0,\n",
              " 0,\n",
              " 0,\n",
              " 0,\n",
              " 0,\n",
              " 0,\n",
              " 0,\n",
              " 0,\n",
              " 0,\n",
              " 0,\n",
              " 0,\n",
              " 0,\n",
              " 0,\n",
              " 0,\n",
              " 0,\n",
              " 0,\n",
              " 0,\n",
              " 0,\n",
              " 0,\n",
              " 0,\n",
              " 0,\n",
              " 0,\n",
              " 0,\n",
              " 0,\n",
              " 0,\n",
              " 0,\n",
              " 0,\n",
              " 0,\n",
              " 0,\n",
              " 0,\n",
              " 0,\n",
              " 0,\n",
              " 0,\n",
              " 0,\n",
              " 0,\n",
              " 0,\n",
              " 0,\n",
              " 0,\n",
              " 0,\n",
              " 0,\n",
              " 0,\n",
              " 0,\n",
              " 0,\n",
              " 0,\n",
              " 0,\n",
              " 0,\n",
              " 0,\n",
              " 0,\n",
              " 0,\n",
              " 0,\n",
              " 0,\n",
              " 0,\n",
              " 0,\n",
              " 0,\n",
              " 0,\n",
              " 0,\n",
              " 0,\n",
              " 0,\n",
              " 0,\n",
              " 0,\n",
              " 0,\n",
              " 0,\n",
              " 0,\n",
              " 0,\n",
              " 0,\n",
              " 0,\n",
              " 0,\n",
              " 0,\n",
              " 0,\n",
              " 0,\n",
              " 0,\n",
              " 0,\n",
              " 0,\n",
              " 0,\n",
              " 0,\n",
              " 0,\n",
              " 0,\n",
              " 0,\n",
              " 0,\n",
              " 0,\n",
              " 0,\n",
              " 0,\n",
              " 0,\n",
              " 0,\n",
              " 0,\n",
              " 0,\n",
              " 0,\n",
              " 0,\n",
              " 0,\n",
              " 0,\n",
              " 0,\n",
              " 0,\n",
              " 0,\n",
              " 0,\n",
              " 0,\n",
              " 0,\n",
              " 0,\n",
              " 0,\n",
              " 0,\n",
              " 0,\n",
              " 0,\n",
              " 0,\n",
              " 0,\n",
              " 0,\n",
              " 0,\n",
              " 0,\n",
              " 0,\n",
              " 0,\n",
              " 0,\n",
              " 0,\n",
              " 0,\n",
              " 0,\n",
              " 0,\n",
              " 0,\n",
              " 0,\n",
              " 0,\n",
              " 0,\n",
              " 0,\n",
              " 0,\n",
              " 0,\n",
              " 0,\n",
              " 0,\n",
              " 0,\n",
              " 0,\n",
              " 0,\n",
              " 0,\n",
              " 0,\n",
              " 0,\n",
              " 0,\n",
              " 0,\n",
              " 0,\n",
              " 0,\n",
              " 0,\n",
              " 0,\n",
              " 0,\n",
              " 0,\n",
              " 0,\n",
              " 0,\n",
              " 0,\n",
              " 0,\n",
              " 0,\n",
              " 0,\n",
              " 0,\n",
              " 0,\n",
              " 0,\n",
              " 0,\n",
              " 0,\n",
              " 0,\n",
              " 0,\n",
              " 0,\n",
              " 0,\n",
              " 0,\n",
              " 0,\n",
              " 0,\n",
              " 0,\n",
              " 0,\n",
              " 0,\n",
              " 0,\n",
              " 0,\n",
              " 0,\n",
              " 0,\n",
              " 0,\n",
              " 0,\n",
              " 0,\n",
              " 0,\n",
              " 0,\n",
              " 0,\n",
              " 0,\n",
              " 0,\n",
              " 0,\n",
              " 0,\n",
              " 0,\n",
              " 0,\n",
              " 0,\n",
              " 0,\n",
              " 0,\n",
              " 0,\n",
              " 0,\n",
              " 0,\n",
              " 0,\n",
              " 0,\n",
              " 0,\n",
              " 0,\n",
              " 0,\n",
              " 0,\n",
              " 0,\n",
              " 0,\n",
              " 0,\n",
              " 0,\n",
              " 0,\n",
              " 0,\n",
              " 0,\n",
              " 0,\n",
              " 0,\n",
              " 0,\n",
              " 0,\n",
              " 0,\n",
              " 0,\n",
              " 0,\n",
              " 0,\n",
              " 0,\n",
              " 0,\n",
              " 0,\n",
              " 0,\n",
              " 0,\n",
              " 0,\n",
              " 0,\n",
              " 0,\n",
              " 0,\n",
              " 0,\n",
              " 0,\n",
              " 0,\n",
              " 0,\n",
              " 0,\n",
              " 0,\n",
              " 0,\n",
              " 0,\n",
              " 0,\n",
              " 0,\n",
              " 0,\n",
              " 0,\n",
              " 0,\n",
              " 0,\n",
              " 0,\n",
              " 0,\n",
              " 0,\n",
              " 0,\n",
              " 0,\n",
              " 0,\n",
              " 0,\n",
              " 0,\n",
              " 0,\n",
              " 0,\n",
              " 0,\n",
              " 0,\n",
              " 0,\n",
              " 0,\n",
              " 0,\n",
              " 0,\n",
              " 0,\n",
              " 0,\n",
              " 0,\n",
              " 0,\n",
              " 0,\n",
              " 0,\n",
              " 0,\n",
              " 0,\n",
              " 0,\n",
              " 0,\n",
              " 0,\n",
              " 0,\n",
              " 0,\n",
              " 0,\n",
              " 0,\n",
              " 0,\n",
              " 0,\n",
              " 0,\n",
              " 0,\n",
              " 0,\n",
              " 0,\n",
              " 0,\n",
              " 0,\n",
              " 0,\n",
              " 0,\n",
              " 0,\n",
              " 0,\n",
              " 0,\n",
              " 0,\n",
              " 0,\n",
              " 0,\n",
              " 0,\n",
              " 0,\n",
              " 0,\n",
              " 0,\n",
              " 0,\n",
              " 0,\n",
              " 0,\n",
              " 0,\n",
              " 0,\n",
              " 0,\n",
              " 0,\n",
              " 0,\n",
              " 0,\n",
              " 0,\n",
              " 0,\n",
              " 0,\n",
              " 0,\n",
              " 0,\n",
              " 0,\n",
              " 0,\n",
              " 0,\n",
              " 0,\n",
              " 0,\n",
              " 0,\n",
              " 0,\n",
              " 0,\n",
              " 0,\n",
              " 0,\n",
              " 0,\n",
              " 0,\n",
              " 0,\n",
              " 0,\n",
              " 0,\n",
              " 0,\n",
              " 0,\n",
              " 0,\n",
              " 0,\n",
              " 0,\n",
              " 0,\n",
              " 0,\n",
              " 0,\n",
              " 0,\n",
              " 0,\n",
              " 0,\n",
              " 0,\n",
              " 0,\n",
              " 0,\n",
              " 0,\n",
              " 0,\n",
              " 0,\n",
              " 0,\n",
              " 0,\n",
              " 0,\n",
              " 0,\n",
              " 0,\n",
              " 0,\n",
              " 0,\n",
              " 0,\n",
              " 0,\n",
              " 0,\n",
              " 0,\n",
              " 0,\n",
              " 0,\n",
              " 0,\n",
              " 0,\n",
              " 0,\n",
              " 0,\n",
              " 0,\n",
              " 0,\n",
              " 0,\n",
              " 0,\n",
              " 0,\n",
              " 0,\n",
              " 0,\n",
              " 0,\n",
              " 0,\n",
              " 0,\n",
              " 0,\n",
              " 0,\n",
              " 0,\n",
              " 0,\n",
              " 0,\n",
              " 0,\n",
              " 0,\n",
              " 0,\n",
              " 0,\n",
              " 0,\n",
              " 0,\n",
              " 0,\n",
              " 0,\n",
              " 0,\n",
              " 0,\n",
              " 0,\n",
              " 0,\n",
              " 0,\n",
              " 0,\n",
              " 0,\n",
              " 0,\n",
              " 0,\n",
              " 0,\n",
              " 0,\n",
              " 0,\n",
              " 0,\n",
              " 0,\n",
              " 0,\n",
              " 0,\n",
              " 0,\n",
              " 0,\n",
              " 0,\n",
              " 0,\n",
              " 0,\n",
              " 0,\n",
              " 0,\n",
              " 0,\n",
              " 0,\n",
              " 0,\n",
              " 0,\n",
              " 0,\n",
              " 0,\n",
              " 0,\n",
              " 0,\n",
              " 0,\n",
              " 0,\n",
              " 0,\n",
              " 0,\n",
              " 0,\n",
              " 0,\n",
              " 0,\n",
              " 0,\n",
              " 0,\n",
              " 0,\n",
              " 0,\n",
              " 0,\n",
              " 0,\n",
              " 0,\n",
              " 0,\n",
              " 0,\n",
              " 0,\n",
              " 0,\n",
              " 0,\n",
              " 0,\n",
              " 0,\n",
              " 0,\n",
              " 0,\n",
              " 0,\n",
              " 0,\n",
              " 0,\n",
              " 0,\n",
              " 0,\n",
              " 0,\n",
              " 0,\n",
              " 0,\n",
              " 0,\n",
              " 0,\n",
              " 0,\n",
              " 0,\n",
              " 0,\n",
              " 0,\n",
              " 0,\n",
              " 0,\n",
              " 0,\n",
              " 0,\n",
              " 0,\n",
              " 0,\n",
              " 0,\n",
              " 0,\n",
              " 0,\n",
              " 0,\n",
              " 0,\n",
              " 0,\n",
              " 0,\n",
              " 0,\n",
              " 0,\n",
              " 0,\n",
              " 0,\n",
              " 0,\n",
              " 0,\n",
              " 0,\n",
              " 0,\n",
              " 0,\n",
              " 0,\n",
              " 0,\n",
              " 0,\n",
              " 0,\n",
              " 0,\n",
              " 0,\n",
              " 0,\n",
              " 0,\n",
              " 0,\n",
              " 0,\n",
              " 0,\n",
              " 0,\n",
              " 0,\n",
              " 0,\n",
              " 0,\n",
              " 0,\n",
              " 0,\n",
              " 0,\n",
              " 0,\n",
              " 0,\n",
              " 0,\n",
              " 0,\n",
              " 0,\n",
              " 0,\n",
              " 0,\n",
              " 0,\n",
              " 0,\n",
              " 0,\n",
              " 0,\n",
              " 0,\n",
              " 0,\n",
              " 0,\n",
              " 0,\n",
              " 0,\n",
              " 0,\n",
              " 0,\n",
              " 0,\n",
              " 0,\n",
              " 0,\n",
              " 0,\n",
              " 0,\n",
              " 0,\n",
              " 0,\n",
              " 0,\n",
              " 0,\n",
              " 0,\n",
              " 0,\n",
              " 0,\n",
              " 0,\n",
              " 0,\n",
              " 0,\n",
              " 0,\n",
              " 0,\n",
              " 0,\n",
              " 0,\n",
              " 0,\n",
              " 0,\n",
              " 0,\n",
              " 0,\n",
              " 0,\n",
              " 0,\n",
              " 0,\n",
              " 0,\n",
              " 0,\n",
              " 0,\n",
              " 0,\n",
              " 0,\n",
              " 0,\n",
              " 0,\n",
              " 0,\n",
              " 0,\n",
              " 0,\n",
              " 0,\n",
              " 0,\n",
              " 0,\n",
              " 0,\n",
              " 0,\n",
              " 0,\n",
              " 0,\n",
              " 0,\n",
              " 0,\n",
              " 0,\n",
              " 0,\n",
              " 0,\n",
              " 0,\n",
              " 0,\n",
              " 0,\n",
              " 0,\n",
              " 0,\n",
              " 0,\n",
              " 0,\n",
              " 0,\n",
              " 0,\n",
              " 0,\n",
              " 0,\n",
              " 0,\n",
              " 0,\n",
              " 0,\n",
              " 0,\n",
              " 0,\n",
              " 0,\n",
              " 0,\n",
              " 0,\n",
              " 0,\n",
              " 0,\n",
              " 0,\n",
              " 0,\n",
              " 0,\n",
              " 0,\n",
              " 0,\n",
              " 0,\n",
              " 0,\n",
              " 0,\n",
              " 0,\n",
              " 0,\n",
              " 0,\n",
              " 0,\n",
              " 0,\n",
              " 0,\n",
              " 0,\n",
              " 0,\n",
              " 0,\n",
              " 0,\n",
              " 0,\n",
              " 0,\n",
              " 0,\n",
              " 0,\n",
              " 0,\n",
              " 0,\n",
              " 0,\n",
              " 0,\n",
              " 0,\n",
              " 0,\n",
              " 0,\n",
              " 0,\n",
              " 0,\n",
              " 0,\n",
              " 0,\n",
              " 0,\n",
              " 0,\n",
              " 0,\n",
              " 0,\n",
              " 0,\n",
              " 0,\n",
              " 0,\n",
              " 0,\n",
              " 0,\n",
              " 0,\n",
              " 0,\n",
              " 0,\n",
              " 0,\n",
              " 0,\n",
              " 0,\n",
              " 0,\n",
              " 0,\n",
              " 0,\n",
              " 0,\n",
              " 0,\n",
              " 0,\n",
              " 0,\n",
              " 0,\n",
              " 0,\n",
              " 0,\n",
              " 0,\n",
              " 0,\n",
              " 0,\n",
              " 0,\n",
              " 0,\n",
              " 0,\n",
              " 0,\n",
              " 0,\n",
              " 0,\n",
              " 0,\n",
              " 0,\n",
              " 0,\n",
              " 0,\n",
              " 0,\n",
              " 0,\n",
              " 0,\n",
              " 0,\n",
              " 0,\n",
              " 0,\n",
              " 0,\n",
              " 0,\n",
              " 0,\n",
              " 0,\n",
              " 0,\n",
              " 0,\n",
              " 0,\n",
              " 0,\n",
              " 0,\n",
              " 0,\n",
              " 0,\n",
              " 0,\n",
              " 0,\n",
              " 0,\n",
              " 0,\n",
              " 0,\n",
              " 0,\n",
              " 0,\n",
              " 0,\n",
              " 0,\n",
              " 0,\n",
              " 0,\n",
              " 0,\n",
              " 0,\n",
              " 0,\n",
              " 0,\n",
              " 0,\n",
              " 0,\n",
              " 0,\n",
              " ...]"
            ]
          },
          "metadata": {},
          "execution_count": 592
        }
      ]
    },
    {
      "cell_type": "code",
      "source": [
        "print(len(movies['cast_bin'][2]))\n",
        "print(len(actorList))"
      ],
      "metadata": {
        "colab": {
          "base_uri": "https://localhost:8080/"
        },
        "id": "GRWW9Ilj_foR",
        "outputId": "be34f0e2-8c87-46fd-da27-9c8e049eb891"
      },
      "execution_count": 593,
      "outputs": [
        {
          "output_type": "stream",
          "name": "stdout",
          "text": [
            "3638\n",
            "3638\n"
          ]
        }
      ]
    },
    {
      "cell_type": "code",
      "source": [
        "print(movies['cast_bin'][3])"
      ],
      "metadata": {
        "colab": {
          "base_uri": "https://localhost:8080/"
        },
        "id": "DMKsF9kfpw2M",
        "outputId": "b8b6c39f-ef5b-4a3d-8f00-ac5e9add8228"
      },
      "execution_count": 594,
      "outputs": [
        {
          "output_type": "stream",
          "name": "stdout",
          "text": [
            "[0, 0, 0, 0, 0, 0, 0, 0, 0, 0, 0, 0, 0, 0, 0, 1, 1, 1, 1, 1, 0, 0, 0, 0, 0, 0, 0, 0, 0, 0, 0, 0, 0, 0, 0, 0, 0, 0, 0, 0, 0, 0, 0, 0, 0, 0, 0, 0, 0, 0, 0, 0, 0, 0, 0, 0, 0, 0, 0, 0, 0, 0, 0, 0, 0, 0, 0, 0, 0, 0, 0, 0, 0, 0, 0, 0, 0, 0, 0, 0, 0, 0, 0, 0, 0, 0, 0, 0, 0, 0, 0, 0, 0, 0, 0, 0, 0, 0, 0, 0, 0, 0, 0, 0, 0, 0, 0, 0, 0, 0, 0, 0, 0, 0, 0, 0, 0, 0, 0, 0, 0, 0, 0, 0, 0, 0, 0, 0, 0, 0, 0, 0, 0, 0, 0, 0, 0, 0, 0, 0, 0, 0, 0, 0, 0, 0, 0, 0, 0, 0, 0, 0, 0, 0, 0, 0, 0, 0, 0, 0, 0, 0, 0, 0, 0, 0, 0, 0, 0, 0, 0, 0, 0, 0, 0, 0, 0, 0, 0, 0, 0, 0, 0, 0, 0, 0, 0, 0, 0, 0, 0, 0, 0, 0, 0, 0, 0, 0, 0, 0, 0, 0, 0, 0, 0, 0, 0, 0, 0, 0, 0, 0, 0, 0, 0, 0, 0, 0, 0, 0, 0, 0, 0, 0, 0, 0, 0, 0, 0, 0, 0, 0, 0, 0, 0, 0, 0, 0, 0, 0, 0, 0, 0, 0, 0, 0, 0, 0, 0, 0, 0, 0, 0, 0, 0, 0, 0, 0, 0, 0, 0, 0, 0, 0, 0, 0, 0, 0, 0, 0, 0, 0, 0, 0, 0, 0, 0, 0, 0, 0, 0, 0, 0, 0, 0, 0, 0, 0, 0, 0, 0, 0, 0, 0, 0, 0, 0, 0, 0, 0, 0, 0, 0, 0, 0, 0, 0, 0, 0, 0, 0, 0, 0, 0, 0, 0, 0, 0, 0, 0, 0, 0, 0, 0, 0, 0, 0, 0, 0, 0, 0, 0, 0, 0, 0, 0, 0, 0, 0, 0, 0, 0, 0, 0, 0, 0, 0, 0, 0, 0, 0, 0, 0, 0, 0, 0, 0, 0, 0, 0, 0, 0, 0, 0, 0, 0, 0, 0, 0, 0, 0, 0, 0, 0, 0, 0, 0, 0, 0, 0, 0, 0, 0, 0, 0, 0, 0, 0, 0, 0, 0, 0, 0, 0, 0, 0, 0, 0, 0, 0, 0, 0, 0, 0, 0, 0, 0, 0, 0, 0, 0, 0, 0, 0, 0, 0, 0, 0, 0, 0, 0, 0, 0, 0, 0, 0, 0, 0, 0, 0, 0, 0, 0, 0, 0, 0, 0, 0, 0, 0, 0, 0, 0, 0, 0, 0, 0, 0, 0, 0, 0, 0, 0, 0, 0, 0, 0, 0, 0, 0, 0, 0, 0, 0, 0, 0, 0, 0, 0, 0, 0, 0, 0, 0, 0, 0, 0, 0, 0, 0, 0, 0, 0, 0, 0, 0, 0, 0, 0, 0, 0, 0, 0, 0, 0, 0, 0, 0, 0, 0, 0, 0, 0, 0, 0, 0, 0, 0, 0, 0, 0, 0, 0, 0, 0, 0, 0, 0, 0, 0, 0, 0, 0, 0, 0, 0, 0, 0, 0, 0, 0, 0, 0, 0, 0, 0, 0, 0, 0, 0, 0, 0, 0, 0, 0, 0, 0, 0, 0, 0, 0, 0, 0, 0, 0, 0, 0, 0, 0, 0, 0, 0, 0, 0, 0, 0, 0, 0, 0, 0, 0, 0, 0, 0, 0, 0, 0, 0, 0, 0, 0, 0, 0, 0, 0, 0, 0, 0, 0, 0, 0, 0, 0, 0, 0, 0, 0, 0, 0, 0, 0, 0, 0, 0, 0, 0, 0, 0, 0, 0, 0, 0, 0, 0, 0, 0, 0, 0, 0, 0, 0, 0, 0, 0, 0, 0, 0, 0, 0, 0, 0, 0, 0, 0, 0, 0, 0, 0, 0, 0, 0, 0, 0, 0, 0, 0, 0, 0, 0, 0, 0, 0, 0, 0, 0, 0, 0, 0, 0, 0, 0, 0, 0, 0, 0, 0, 0, 0, 0, 0, 0, 0, 0, 0, 0, 0, 0, 0, 0, 0, 0, 0, 0, 0, 0, 0, 0, 0, 0, 0, 0, 0, 0, 0, 0, 0, 0, 0, 0, 0, 0, 0, 0, 0, 0, 0, 0, 0, 0, 0, 0, 0, 0, 0, 0, 0, 0, 0, 0, 0, 0, 0, 0, 0, 0, 0, 0, 0, 0, 0, 0, 0, 0, 0, 0, 0, 0, 0, 0, 0, 0, 0, 0, 0, 0, 0, 0, 0, 0, 0, 0, 0, 0, 0, 0, 0, 0, 0, 0, 0, 0, 0, 0, 0, 0, 0, 0, 0, 0, 0, 0, 0, 0, 0, 0, 0, 0, 0, 0, 0, 0, 0, 0, 0, 0, 0, 0, 0, 0, 0, 0, 0, 0, 0, 0, 0, 0, 0, 0, 0, 0, 0, 0, 0, 0, 0, 0, 0, 0, 0, 0, 0, 0, 0, 0, 0, 0, 0, 0, 0, 0, 0, 0, 0, 0, 0, 0, 0, 0, 0, 0, 0, 0, 0, 0, 0, 0, 0, 0, 0, 0, 0, 0, 0, 0, 0, 0, 0, 0, 0, 0, 0, 0, 0, 0, 0, 0, 0, 0, 0, 0, 0, 0, 0, 0, 0, 0, 0, 0, 0, 0, 0, 0, 0, 0, 0, 0, 0, 0, 0, 0, 0, 0, 0, 0, 0, 0, 0, 0, 0, 0, 0, 0, 0, 0, 0, 0, 0, 0, 0, 0, 0, 0, 0, 0, 0, 0, 0, 0, 0, 0, 0, 0, 0, 0, 0, 0, 0, 0, 0, 0, 0, 0, 0, 0, 0, 0, 0, 0, 0, 0, 0, 0, 0, 0, 0, 0, 0, 0, 0, 0, 0, 0, 0, 0, 0, 0, 0, 0, 0, 0, 0, 0, 0, 0, 0, 0, 0, 0, 0, 0, 0, 0, 0, 0, 0, 0, 0, 0, 0, 0, 0, 0, 0, 0, 0, 0, 0, 0, 0, 0, 0, 0, 0, 0, 0, 0, 0, 0, 0, 0, 0, 0, 0, 0, 0, 0, 0, 0, 0, 0, 0, 0, 0, 0, 0, 0, 0, 0, 0, 0, 0, 0, 0, 0, 0, 0, 0, 0, 0, 0, 0, 0, 0, 0, 0, 0, 0, 0, 0, 0, 0, 0, 0, 0, 0, 0, 0, 0, 0, 0, 0, 0, 0, 0, 0, 0, 0, 0, 0, 0, 0, 0, 0, 0, 0, 0, 0, 0, 0, 0, 0, 0, 0, 0, 0, 0, 0, 0, 0, 0, 0, 0, 0, 0, 0, 0, 0, 0, 0, 0, 0, 0, 0, 0, 0, 0, 0, 0, 0, 0, 0, 0, 0, 0, 0, 0, 0, 0, 0, 0, 0, 0, 0, 0, 0, 0, 0, 0, 0, 0, 0, 0, 0, 0, 0, 0, 0, 0, 0, 0, 0, 0, 0, 0, 0, 0, 0, 0, 0, 0, 0, 0, 0, 0, 0, 0, 0, 0, 0, 0, 0, 0, 0, 0, 0, 0, 0, 0, 0, 0, 0, 0, 0, 0, 0, 0, 0, 0, 0, 0, 0, 0, 0, 0, 0, 0, 0, 0, 0, 0, 0, 0, 0, 0, 0, 0, 0, 0, 0, 0, 0, 0, 0, 0, 0, 0, 0, 0, 0, 0, 0, 0, 0, 0, 0, 0, 0, 0, 0, 0, 0, 0, 0, 0, 0, 0, 0, 0, 0, 0, 0, 0, 0, 0, 0, 0, 0, 0, 0, 0, 0, 0, 0, 0, 0, 0, 0, 0, 0, 0, 0, 0, 0, 0, 0, 0, 0, 0, 0, 0, 0, 0, 0, 0, 0, 0, 0, 0, 0, 0, 0, 0, 0, 0, 0, 0, 0, 0, 0, 0, 0, 0, 0, 0, 0, 0, 0, 0, 0, 0, 0, 0, 0, 0, 0, 0, 0, 0, 0, 0, 0, 0, 0, 0, 0, 0, 0, 0, 0, 0, 0, 0, 0, 0, 0, 0, 0, 0, 0, 0, 0, 0, 0, 0, 0, 0, 0, 0, 0, 0, 0, 0, 0, 0, 0, 0, 0, 0, 0, 0, 0, 0, 0, 0, 0, 0, 0, 0, 0, 0, 0, 0, 0, 0, 0, 0, 0, 0, 0, 0, 0, 0, 0, 0, 0, 0, 0, 0, 0, 0, 0, 0, 0, 0, 0, 0, 0, 0, 0, 0, 0, 0, 0, 0, 0, 0, 0, 0, 0, 0, 0, 0, 0, 0, 0, 0, 0, 0, 0, 0, 0, 0, 0, 0, 0, 0, 0, 0, 0, 0, 0, 0, 0, 0, 0, 0, 0, 0, 0, 0, 0, 0, 0, 0, 0, 0, 0, 0, 0, 0, 0, 0, 0, 0, 0, 0, 0, 0, 0, 0, 0, 0, 0, 0, 0, 0, 0, 0, 0, 0, 0, 0, 0, 0, 0, 0, 0, 0, 0, 0, 0, 0, 0, 0, 0, 0, 0, 0, 0, 0, 0, 0, 0, 0, 0, 0, 0, 0, 0, 0, 0, 0, 0, 0, 0, 0, 0, 0, 0, 0, 0, 0, 0, 0, 0, 0, 0, 0, 0, 0, 0, 0, 0, 0, 0, 0, 0, 0, 0, 0, 0, 0, 0, 0, 0, 0, 0, 0, 0, 0, 0, 0, 0, 0, 0, 0, 0, 0, 0, 0, 0, 0, 0, 0, 0, 0, 0, 0, 0, 0, 0, 0, 0, 0, 0, 0, 0, 0, 0, 0, 0, 0, 0, 0, 0, 0, 0, 0, 0, 0, 0, 0, 0, 0, 0, 0, 0, 0, 0, 0, 0, 0, 0, 0, 0, 0, 0, 0, 0, 0, 0, 0, 0, 0, 0, 0, 0, 0, 0, 0, 0, 0, 0, 0, 0, 0, 0, 0, 0, 0, 0, 0, 0, 0, 0, 0, 0, 0, 0, 0, 0, 0, 0, 0, 0, 0, 0, 0, 0, 0, 0, 0, 0, 0, 0, 0, 0, 0, 0, 0, 0, 0, 0, 0, 0, 0, 0, 0, 0, 0, 0, 0, 0, 0, 0, 0, 0, 0, 0, 0, 0, 0, 0, 0, 0, 0, 0, 0, 0, 0, 0, 0, 0, 0, 0, 0, 0, 0, 0, 0, 0, 0, 0, 0, 0, 0, 0, 0, 0, 0, 0, 0, 0, 0, 0, 0, 0, 0, 0, 0, 0, 0, 0, 0, 0, 0, 0, 0, 0, 0, 0, 0, 0, 0, 0, 0, 0, 0, 0, 0, 0, 0, 0, 0, 0, 0, 0, 0, 0, 0, 0, 0, 0, 0, 0, 0, 0, 0, 0, 0, 0, 0, 0, 0, 0, 0, 0, 0, 0, 0, 0, 0, 0, 0, 0, 0, 0, 0, 0, 0, 0, 0, 0, 0, 0, 0, 0, 0, 0, 0, 0, 0, 0, 0, 0, 0, 0, 0, 0, 0, 0, 0, 0, 0, 0, 0, 0, 0, 0, 0, 0, 0, 0, 0, 0, 0, 0, 0, 0, 0, 0, 0, 0, 0, 0, 0, 0, 0, 0, 0, 0, 0, 0, 0, 0, 0, 0, 0, 0, 0, 0, 0, 0, 0, 0, 0, 0, 0, 0, 0, 0, 0, 0, 0, 0, 0, 0, 0, 0, 0, 0, 0, 0, 0, 0, 0, 0, 0, 0, 0, 0, 0, 0, 0, 0, 0, 0, 0, 0, 0, 0, 0, 0, 0, 0, 0, 0, 0, 0, 0, 0, 0, 0, 0, 0, 0, 0, 0, 0, 0, 0, 0, 0, 0, 0, 0, 0, 0, 0, 0, 0, 0, 0, 0, 0, 0, 0, 0, 0, 0, 0, 0, 0, 0, 0, 0, 0, 0, 0, 0, 0, 0, 0, 0, 0, 0, 0, 0, 0, 0, 0, 0, 0, 0, 0, 0, 0, 0, 0, 0, 0, 0, 0, 0, 0, 0, 0, 0, 0, 0, 0, 0, 0, 0, 0, 0, 0, 0, 0, 0, 0, 0, 0, 0, 0, 0, 0, 0, 0, 0, 0, 0, 0, 0, 0, 0, 0, 0, 0, 0, 0, 0, 0, 0, 0, 0, 0, 0, 0, 0, 0, 0, 0, 0, 0, 0, 0, 0, 0, 0, 0, 0, 0, 0, 0, 0, 0, 0, 0, 0, 0, 0, 0, 0, 0, 0, 0, 0, 0, 0, 0, 0, 0, 0, 0, 0, 0, 0, 0, 0, 0, 0, 0, 0, 0, 0, 0, 0, 0, 0, 0, 0, 0, 0, 0, 0, 0, 0, 0, 0, 0, 0, 0, 0, 0, 0, 0, 0, 0, 0, 0, 0, 0, 0, 0, 0, 0, 0, 0, 0, 0, 0, 0, 0, 0, 0, 0, 0, 0, 0, 0, 0, 0, 0, 0, 0, 0, 0, 0, 0, 0, 0, 0, 0, 0, 0, 0, 0, 0, 0, 0, 0, 0, 0, 0, 0, 0, 0, 0, 0, 0, 0, 0, 0, 0, 0, 0, 0, 0, 0, 0, 0, 0, 0, 0, 0, 0, 0, 0, 0, 0, 0, 0, 0, 0, 0, 0, 0, 0, 0, 0, 0, 0, 0, 0, 0, 0, 0, 0, 0, 0, 0, 0, 0, 0, 0, 0, 0, 0, 0, 0, 0, 0, 0, 0, 0, 0, 0, 0, 0, 0, 0, 0, 0, 0, 0, 0, 0, 0, 0, 0, 0, 0, 0, 0, 0, 0, 0, 0, 0, 0, 0, 0, 0, 0, 0, 0, 0, 0, 0, 0, 0, 0, 0, 0, 0, 0, 0, 0, 0, 0, 0, 0, 0, 0, 0, 0, 0, 0, 0, 0, 0, 0, 0, 0, 0, 0, 0, 0, 0, 0, 0, 0, 0, 0, 0, 0, 0, 0, 0, 0, 0, 0, 0, 0, 0, 0, 0, 0, 0, 0, 0, 0, 0, 0, 0, 0, 0, 0, 0, 0, 0, 0, 0, 0, 0, 0, 0, 0, 0, 0, 0, 0, 0, 0, 0, 0, 0, 0, 0, 0, 0, 0, 0, 0, 0, 0, 0, 0, 0, 0, 0, 0, 0, 0, 0, 0, 0, 0, 0, 0, 0, 0, 0, 0, 0, 0, 0, 0, 0, 0, 0, 0, 0, 0, 0, 0, 0, 0, 0, 0, 0, 0, 0, 0, 0, 0, 0, 0, 0, 0, 0, 0, 0, 0, 0, 0, 0, 0, 0, 0, 0, 0, 0, 0, 0, 0, 0, 0, 0, 0, 0, 0, 0, 0, 0, 0, 0, 0, 0, 0, 0, 0, 0, 0, 0, 0, 0, 0, 0, 0, 0, 0, 0, 0, 0, 0, 0, 0, 0, 0, 0, 0, 0, 0, 0, 0, 0, 0, 0, 0, 0, 0, 0, 0, 0, 0, 0, 0, 0, 0, 0, 0, 0, 0, 0, 0, 0, 0, 0, 0, 0, 0, 0, 0, 0, 0, 0, 0, 0, 0, 0, 0, 0, 0, 0, 0, 0, 0, 0, 0, 0, 0, 0, 0, 0, 0, 0, 0, 0, 0, 0, 0, 0, 0, 0, 0, 0, 0, 0, 0, 0, 0, 0, 0, 0, 0, 0, 0, 0, 0, 0, 0, 0, 0, 0, 0, 0, 0, 0, 0, 0, 0, 0, 0, 0, 0, 0, 0, 0, 0, 0, 0, 0, 0, 0, 0, 0, 0, 0, 0, 0, 0, 0, 0, 0, 0, 0, 0, 0, 0, 0, 0, 0, 0, 0, 0, 0, 0, 0, 0, 0, 0, 0, 0, 0, 0, 0, 0, 0, 0, 0, 0, 0, 0, 0, 0, 0, 0, 0, 0, 0, 0, 0, 0, 0, 0, 0, 0, 0, 0, 0, 0, 0, 0, 0, 0, 0, 0, 0, 0, 0, 0, 0, 0, 0, 0, 0, 0, 0, 0, 0, 0, 0, 0, 0, 0, 0, 0, 0, 0, 0, 0, 0, 0, 0, 0, 0, 0, 0, 0, 0, 0, 0, 0, 0, 0, 0, 0, 0, 0, 0, 0, 0, 0, 0, 0, 0, 0, 0, 0, 0, 0, 0, 0, 0, 0, 0, 0, 0, 0, 0, 0, 0, 0, 0, 0, 0, 0, 0, 0, 0, 0, 0, 0, 0, 0, 0, 0, 0, 0, 0, 0, 0, 0, 0, 0, 0, 0, 0, 0, 0, 0, 0, 0, 0, 0, 0, 0, 0, 0, 0, 0, 0, 0, 0, 0, 0, 0, 0, 0, 0, 0, 0, 0, 0, 0, 0, 0, 0, 0, 0, 0, 0, 0, 0, 0, 0, 0, 0, 0, 0, 0, 0, 0, 0, 0, 0, 0, 0, 0, 0, 0, 0, 0, 0, 0, 0, 0, 0, 0, 0, 0, 0, 0, 0, 0, 0, 0, 0, 0, 0, 0, 0, 0, 0, 0, 0, 0, 0, 0, 0, 0, 0, 0, 0, 0, 0, 0, 0, 0, 0, 0, 0, 0, 0, 0, 0, 0, 0, 0, 0, 0, 0, 0, 0, 0, 0, 0, 0, 0, 0, 0, 0, 0, 0, 0, 0, 0, 0, 0, 0, 0, 0, 0, 0, 0, 0, 0, 0, 0, 0, 0, 0, 0, 0, 0, 0, 0, 0, 0, 0, 0, 0, 0, 0, 0, 0, 0, 0, 0, 0, 0, 0, 0, 0, 0, 0, 0, 0, 0, 0, 0, 0, 0, 0, 0, 0, 0, 0, 0, 0, 0, 0, 0, 0, 0, 0, 0, 0, 0, 0, 0, 0, 0, 0, 0, 0, 0, 0, 0, 0, 0, 0, 0, 0, 0, 0, 0, 0, 0, 0, 0, 0, 0, 0, 0, 0, 0, 0, 0, 0, 0, 0, 0, 0, 0, 0, 0, 0, 0, 0, 0, 0, 0, 0, 0, 0, 0, 0, 0, 0, 0, 0, 0, 0, 0, 0, 0, 0, 0, 0, 0, 0, 0, 0, 0, 0, 0, 0, 0, 0, 0, 0, 0, 0, 0, 0, 0, 0, 0, 0, 0, 0, 0, 0, 0, 0, 0, 0, 0, 0, 0, 0, 0, 0, 0, 0, 0, 0, 0, 0, 0, 0, 0, 0, 0, 0, 0, 0, 0, 0, 0, 0, 0, 0, 0, 0, 0, 0, 0, 0, 0, 0, 0, 0, 0, 0, 0, 0, 0, 0, 0, 0, 0, 0, 0, 0, 0, 0, 0, 0, 0, 0, 0, 0, 0, 0, 0, 0, 0, 0, 0, 0, 0, 0, 0, 0, 0, 0, 0, 0, 0, 0, 0, 0, 0, 0, 0, 0, 0, 0, 0, 0, 0, 0, 0, 0, 0, 0, 0, 0, 0, 0, 0, 0, 0, 0, 0, 0, 0, 0, 0, 0, 0, 0, 0, 0, 0, 0, 0, 0, 0, 0, 0, 0, 0, 0, 0, 0, 0, 0, 0, 0, 0, 0, 0, 0, 0, 0, 0, 0, 0, 0, 0, 0, 0, 0, 0, 0, 0, 0, 0, 0, 0, 0, 0, 0, 0, 0, 0, 0, 0, 0, 0, 0, 0, 0, 0, 0, 0, 0, 0, 0, 0, 0, 0, 0, 0, 0, 0, 0, 0, 0, 0, 0, 0, 0, 0, 0, 0, 0, 0, 0, 0, 0, 0, 0, 0, 0, 0, 0, 0, 0, 0, 0, 0, 0, 0, 0, 0, 0, 0, 0, 0, 0, 0, 0, 0, 0, 0, 0, 0, 0, 0, 0, 0, 0, 0, 0, 0, 0, 0, 0, 0, 0, 0, 0, 0, 0, 0, 0, 0, 0, 0, 0, 0, 0, 0, 0, 0, 0, 0, 0, 0, 0, 0, 0, 0, 0, 0, 0, 0, 0, 0, 0, 0, 0, 0, 0, 0, 0, 0, 0, 0, 0, 0, 0, 0, 0, 0, 0, 0, 0, 0, 0, 0, 0, 0, 0, 0, 0, 0, 0, 0, 0, 0, 0, 0, 0, 0, 0, 0, 0, 0, 0, 0, 0, 0, 0, 0, 0, 0, 0, 0, 0, 0, 0, 0, 0, 0, 0, 0, 0, 0, 0, 0, 0, 0, 0, 0, 0, 0, 0, 0, 0, 0, 0, 0, 0, 0, 0, 0, 0, 0, 0, 0, 0, 0, 0, 0, 0, 0, 0, 0, 0, 0, 0, 0, 0, 0, 0, 0, 0, 0, 0, 0, 0, 0, 0, 0, 0, 0, 0, 0, 0, 0, 0, 0, 0, 0, 0, 0, 0, 0, 0, 0, 0, 0, 0, 0, 0, 0, 0, 0, 0, 0, 0, 0, 0, 0, 0, 0, 0, 0, 0, 0, 0, 0, 0, 0, 0, 0, 0, 0, 0, 0, 0, 0, 0, 0, 0, 0, 0, 0, 0, 0, 0, 0, 0, 0, 0, 0, 0, 0, 0, 0, 0, 0, 0, 0, 0, 0, 0, 0, 0, 0, 0, 0, 0, 0, 0, 0, 0, 0, 0, 0, 0, 0, 0, 0, 0, 0, 0, 0, 0, 0, 0, 0, 0, 0, 0, 0, 0, 0, 0, 0, 0, 0, 0, 0, 0, 0, 0, 0, 0, 0, 0, 0, 0, 0, 0, 0, 0, 0, 0, 0, 0, 0, 0, 0, 0, 0, 0, 0, 0, 0, 0, 0, 0, 0, 0, 0, 0, 0, 0, 0, 0, 0, 0, 0, 0, 0, 0, 0, 0, 0, 0, 0, 0, 0, 0, 0, 0, 0, 0, 0, 0, 0, 0, 0, 0, 0, 0, 0, 0, 0, 0, 0, 0, 0, 0, 0, 0, 0, 0, 0, 0, 0, 0, 0, 0, 0, 0, 0, 0, 0, 0, 0, 0, 0, 0, 0, 0, 0, 0, 0, 0, 0, 0, 0, 0, 0, 0, 0, 0, 0, 0, 0, 0, 0, 0, 0, 0, 0, 0, 0, 0, 0, 0, 0, 0, 0, 0, 0, 0, 0, 0, 0, 0, 0, 0, 0, 0, 0, 0, 0, 0, 0, 0, 0, 0, 0, 0, 0, 0, 0, 0, 0, 0, 0, 0, 0, 0, 0, 0, 0, 0, 0, 0, 0, 0, 0, 0, 0, 0, 0, 0, 0, 0, 0, 0, 0, 0, 0, 0, 0, 0, 0, 0, 0, 0, 0, 0, 0, 0, 0, 0, 0, 0, 0, 0, 0, 0, 0, 0, 0, 0, 0, 0, 0, 0, 0, 0, 0, 0, 0, 0, 0, 0, 0, 0, 0, 0, 0, 0, 0, 0, 0, 0, 0, 0, 0, 0, 0, 0, 0, 0, 0, 0, 0, 0, 0, 0, 0, 0, 0, 0, 0, 0, 0, 0, 0, 0, 0, 0, 0, 0, 0, 0, 0, 0, 0, 0, 0, 0, 0, 0, 0, 0, 0, 0, 0, 0, 0, 0, 0, 0, 0, 0, 0, 0, 0, 0, 0, 0, 0, 0, 0, 0, 0, 0, 0, 0, 0, 0, 0, 0, 0, 0, 0, 0, 0, 0, 0, 0, 0]\n"
          ]
        }
      ]
    },
    {
      "cell_type": "markdown",
      "source": [
        "### Tratando a coluna de \"**Crew**\" com os Diretores de filmes:"
      ],
      "metadata": {
        "id": "kVBrdDpghqbX"
      }
    },
    {
      "cell_type": "code",
      "source": [
        "movies['crew'] = movies['crew'].astype(str).str.strip('[]').str.replace(' ','').str.replace(\"'\",'')\n",
        "movies['crew'][1]"
      ],
      "metadata": {
        "id": "tYagGMx8Ch2x"
      },
      "execution_count": 596,
      "outputs": []
    },
    {
      "cell_type": "code",
      "source": [
        "def xstr(s):\n",
        "    if s is None:\n",
        "        return ''\n",
        "    return str(s)\n",
        "\n",
        "movies['crew'] = movies['crew'].apply(xstr)\n",
        "\n",
        "plt.subplots(figsize=(12,10))\n",
        "ax = movies[movies['crew']!=''].crew.value_counts()[:10].sort_values(ascending=True).plot.barh(width=0.9,color=sns.color_palette('muted',40))\n",
        "\n",
        "for i, v in enumerate(movies[movies['crew']!=''].crew.value_counts()[:10].sort_values(ascending=True).values): \n",
        "    ax.text(.5, i, v,fontsize=12,color='white',weight='bold')\n",
        "plt.title('Directors with highest movies')\n",
        "plt.show()"
      ],
      "metadata": {
        "colab": {
          "base_uri": "https://localhost:8080/",
          "height": 607
        },
        "id": "yZa6LZqCBp8m",
        "outputId": "e3d5ea05-87ee-45c1-8221-b173015a635f"
      },
      "execution_count": 598,
      "outputs": [
        {
          "output_type": "display_data",
          "data": {
            "text/plain": [
              "<Figure size 864x720 with 1 Axes>"
            ],
            "image/png": "[encoded data removed]"
          },
          "metadata": {
            "needs_background": "light"
          }
        }
      ]
    },
    {
      "cell_type": "code",
      "source": [
        "directorList = []\n",
        "for index, row in movies.iterrows():\n",
        "    directors = row[\"crew\"]\n",
        "    \n",
        "    for director in directors:\n",
        "        if director not in directorList:\n",
        "            directorList.append(director)\n",
        "directorList[:15] #Agora nós temos uma lista com o nome de todos os Atores "
      ],
      "metadata": {
        "colab": {
          "base_uri": "https://localhost:8080/"
        },
        "id": "1DBw1gPGFAqE",
        "outputId": "6997eaf9-fb4b-45a8-c0a0-24458d00e4f1"
      },
      "execution_count": 599,
      "outputs": [
        {
          "output_type": "execute_result",
          "data": {
            "text/plain": [
              "['JamesCameron',\n",
              " 'GoreVerbinski',\n",
              " 'SamMendes',\n",
              " 'ChristopherNolan',\n",
              " 'AndrewStanton',\n",
              " 'SamRaimi',\n",
              " 'ByronHoward',\n",
              " 'NathanGreno',\n",
              " 'JossWhedon',\n",
              " 'DavidYates',\n",
              " 'ZackSnyder',\n",
              " 'MarcForster',\n",
              " 'RobMarshall',\n",
              " 'BarrySonnenfeld',\n",
              " 'PeterJackson']"
            ]
          },
          "metadata": {},
          "execution_count": 599
        }
      ]
    },
    {
      "cell_type": "code",
      "source": [
        "def binaryDirector(director_list):\n",
        "    binaryList = []\n",
        "    \n",
        "    for director in directorList:\n",
        "        if director in director_list:\n",
        "            binaryList.append(1)\n",
        "        else:\n",
        "            binaryList.append(0)\n",
        "    \n",
        "    return binaryList"
      ],
      "metadata": {
        "id": "SF8p54XODyl4"
      },
      "execution_count": 600,
      "outputs": []
    },
    {
      "cell_type": "code",
      "source": [
        "movies['crew_bin'] = movies['crew'].apply(lambda x: binaryDirector(x))\n",
        "movies['crew_bin'][:10]"
      ],
      "metadata": {
        "colab": {
          "base_uri": "https://localhost:8080/"
        },
        "id": "WevVq92IGQ2U",
        "outputId": "ead4d6b7-a6d3-4661-8951-b83eb458e206"
      },
      "execution_count": 602,
      "outputs": [
        {
          "output_type": "execute_result",
          "data": {
            "text/plain": [
              "0    [1, 0, 0, 0, 0, 0, 0, 0, 0, 0, 0, 0, 0, 0, 0, ...\n",
              "1    [0, 1, 0, 0, 0, 0, 0, 0, 0, 0, 0, 0, 0, 0, 0, ...\n",
              "2    [0, 0, 1, 0, 0, 0, 0, 0, 0, 0, 0, 0, 0, 0, 0, ...\n",
              "3    [0, 0, 0, 1, 0, 0, 0, 0, 0, 0, 0, 0, 0, 0, 0, ...\n",
              "4    [0, 0, 0, 0, 1, 0, 0, 0, 0, 0, 0, 0, 0, 0, 0, ...\n",
              "5    [0, 0, 0, 0, 0, 1, 0, 0, 0, 0, 0, 0, 0, 0, 0, ...\n",
              "6    [0, 0, 0, 0, 0, 0, 1, 1, 0, 0, 0, 0, 0, 0, 0, ...\n",
              "7    [0, 0, 0, 0, 0, 0, 0, 0, 1, 0, 0, 0, 0, 0, 0, ...\n",
              "8    [0, 0, 0, 0, 0, 0, 0, 0, 0, 1, 0, 0, 0, 0, 0, ...\n",
              "9    [0, 0, 0, 0, 0, 0, 0, 0, 0, 0, 1, 0, 0, 0, 0, ...\n",
              "Name: crew_bin, dtype: object"
            ]
          },
          "metadata": {},
          "execution_count": 602
        }
      ]
    },
    {
      "cell_type": "code",
      "source": [
        "movies[:10]"
      ],
      "metadata": {
        "colab": {
          "base_uri": "https://localhost:8080/",
          "height": 754
        },
        "id": "glPYFTB4HoOv",
        "outputId": "232635e8-1993-41a9-8222-6fdcc073bd5a"
      },
      "execution_count": 603,
      "outputs": [
        {
          "output_type": "execute_result",
          "data": {
            "text/plain": [
              "       id                            original_title  \\\n",
              "0   19995                                    Avatar   \n",
              "1     285  Pirates of the Caribbean: At World's End   \n",
              "2  206647                                   Spectre   \n",
              "3   49026                     The Dark Knight Rises   \n",
              "4   49529                               John Carter   \n",
              "5     559                              Spider-Man 3   \n",
              "6   38757                                   Tangled   \n",
              "7   99861                   Avengers: Age of Ultron   \n",
              "8     767    Harry Potter and the Half-Blood Prince   \n",
              "9  209112        Batman v Superman: Dawn of Justice   \n",
              "\n",
              "                                         genres  \\\n",
              "0  [Action, Adventure, Fantasy, ScienceFiction]   \n",
              "1                  [Adventure, Fantasy, Action]   \n",
              "2                    [Action, Adventure, Crime]   \n",
              "3              [Action, Crime, Drama, Thriller]   \n",
              "4           [Action, Adventure, ScienceFiction]   \n",
              "5                  [Fantasy, Action, Adventure]   \n",
              "6                           [Animation, Family]   \n",
              "7           [Action, Adventure, ScienceFiction]   \n",
              "8                  [Adventure, Fantasy, Family]   \n",
              "9                  [Action, Adventure, Fantasy]   \n",
              "\n",
              "                                                cast  \\\n",
              "0  [SamWorthington, ZoeSaldana, SigourneyWeaver, ...   \n",
              "1  [JohnnyDepp, OrlandoBloom, KeiraKnightley, Ste...   \n",
              "2  [DanielCraig, ChristophWaltz, LéaSeydoux, Ralp...   \n",
              "3  [ChristianBale, MichaelCaine, GaryOldman, Anne...   \n",
              "4  [TaylorKitsch, LynnCollins, SamanthaMorton, Wi...   \n",
              "5  [TobeyMaguire, KirstenDunst, JamesFranco, Thom...   \n",
              "6  [ZacharyLevi, MandyMoore, DonnaMurphy, RonPerl...   \n",
              "7  [RobertDowneyJr., ChrisHemsworth, MarkRuffalo,...   \n",
              "8  [DanielRadcliffe, RupertGrint, EmmaWatson, Tom...   \n",
              "9  [BenAffleck, HenryCavill, GalGadot, AmyAdams, ...   \n",
              "\n",
              "                         crew  vote_average  \\\n",
              "0              [JamesCameron]           7.2   \n",
              "1             [GoreVerbinski]           6.9   \n",
              "2                 [SamMendes]           6.3   \n",
              "3          [ChristopherNolan]           7.6   \n",
              "4             [AndrewStanton]           6.1   \n",
              "5                  [SamRaimi]           5.9   \n",
              "6  [ByronHoward, NathanGreno]           7.4   \n",
              "7                [JossWhedon]           7.3   \n",
              "8                [DavidYates]           7.4   \n",
              "9                [ZackSnyder]           5.7   \n",
              "\n",
              "                                            keywords  \\\n",
              "0  [cultureclash, future, spacewar, spacecolony, ...   \n",
              "1  [ocean, drugabuse, exoticisland, eastindiatrad...   \n",
              "2  [spy, basedonnovel, secretagent, sequel, mi6, ...   \n",
              "3  [dccomics, crimefighter, terrorist, secretiden...   \n",
              "4  [basedonnovel, mars, medallion, spacetravel, p...   \n",
              "5  [dualidentity, amnesia, sandstorm, loveofonesl...   \n",
              "6  [hostage, magic, horse, fairytale, musical, pr...   \n",
              "7  [marvelcomic, sequel, superhero, basedoncomicb...   \n",
              "8  [witch, magic, broom, schoolofwitchcraft, wiza...   \n",
              "9  [dccomics, vigilante, superhero, basedoncomicb...   \n",
              "\n",
              "                                          genres_bin  \\\n",
              "0  [1, 1, 1, 1, 0, 0, 0, 0, 0, 0, 0, 0, 0, 0, 0, ...   \n",
              "1  [1, 1, 1, 0, 0, 0, 0, 0, 0, 0, 0, 0, 0, 0, 0, ...   \n",
              "2  [1, 1, 0, 0, 1, 0, 0, 0, 0, 0, 0, 0, 0, 0, 0, ...   \n",
              "3  [1, 0, 0, 0, 1, 1, 1, 0, 0, 0, 0, 0, 0, 0, 0, ...   \n",
              "4  [1, 1, 0, 1, 0, 0, 0, 0, 0, 0, 0, 0, 0, 0, 0, ...   \n",
              "5  [1, 1, 1, 0, 0, 0, 0, 0, 0, 0, 0, 0, 0, 0, 0, ...   \n",
              "6  [0, 0, 0, 0, 0, 0, 0, 1, 1, 0, 0, 0, 0, 0, 0, ...   \n",
              "7  [1, 1, 0, 1, 0, 0, 0, 0, 0, 0, 0, 0, 0, 0, 0, ...   \n",
              "8  [0, 1, 1, 0, 0, 0, 0, 0, 1, 0, 0, 0, 0, 0, 0, ...   \n",
              "9  [1, 1, 1, 0, 0, 0, 0, 0, 0, 0, 0, 0, 0, 0, 0, ...   \n",
              "\n",
              "                                            cast_bin  \\\n",
              "0  [1, 1, 1, 1, 1, 0, 0, 0, 0, 0, 0, 0, 0, 0, 0, ...   \n",
              "1  [0, 0, 0, 0, 0, 1, 1, 1, 1, 1, 0, 0, 0, 0, 0, ...   \n",
              "2  [0, 0, 0, 0, 0, 0, 0, 0, 0, 0, 1, 1, 1, 1, 1, ...   \n",
              "3  [0, 0, 0, 0, 0, 0, 0, 0, 0, 0, 0, 0, 0, 0, 0, ...   \n",
              "4  [0, 0, 0, 0, 0, 0, 0, 0, 0, 0, 0, 0, 0, 0, 0, ...   \n",
              "5  [0, 0, 0, 0, 0, 0, 0, 0, 0, 0, 0, 0, 0, 0, 0, ...   \n",
              "6  [0, 0, 0, 0, 0, 0, 0, 0, 0, 0, 0, 0, 0, 0, 0, ...   \n",
              "7  [0, 0, 0, 0, 0, 0, 0, 0, 0, 0, 0, 0, 0, 0, 0, ...   \n",
              "8  [0, 0, 0, 0, 0, 0, 0, 0, 0, 0, 0, 0, 0, 0, 0, ...   \n",
              "9  [0, 0, 0, 0, 0, 0, 0, 0, 0, 0, 0, 0, 0, 0, 0, ...   \n",
              "\n",
              "                                            crew_bin  \n",
              "0  [1, 0, 0, 0, 0, 0, 0, 0, 0, 0, 0, 0, 0, 0, 0, ...  \n",
              "1  [0, 1, 0, 0, 0, 0, 0, 0, 0, 0, 0, 0, 0, 0, 0, ...  \n",
              "2  [0, 0, 1, 0, 0, 0, 0, 0, 0, 0, 0, 0, 0, 0, 0, ...  \n",
              "3  [0, 0, 0, 1, 0, 0, 0, 0, 0, 0, 0, 0, 0, 0, 0, ...  \n",
              "4  [0, 0, 0, 0, 1, 0, 0, 0, 0, 0, 0, 0, 0, 0, 0, ...  \n",
              "5  [0, 0, 0, 0, 0, 1, 0, 0, 0, 0, 0, 0, 0, 0, 0, ...  \n",
              "6  [0, 0, 0, 0, 0, 0, 1, 1, 0, 0, 0, 0, 0, 0, 0, ...  \n",
              "7  [0, 0, 0, 0, 0, 0, 0, 0, 1, 0, 0, 0, 0, 0, 0, ...  \n",
              "8  [0, 0, 0, 0, 0, 0, 0, 0, 0, 1, 0, 0, 0, 0, 0, ...  \n",
              "9  [0, 0, 0, 0, 0, 0, 0, 0, 0, 0, 1, 0, 0, 0, 0, ...  "
            ],
            "text/html": [
              "\n",
              "  <div id=\"df-11133bd7-379e-4755-95ca-8e50d873134f\">\n",
              "    <div class=\"colab-df-container\">\n",
              "      <div>\n",
              "<style scoped>\n",
              "    .dataframe tbody tr th:only-of-type {\n",
              "        vertical-align: middle;\n",
              "    }\n",
              "\n",
              "    .dataframe tbody tr th {\n",
              "        vertical-align: top;\n",
              "    }\n",
              "\n",
              "    .dataframe thead th {\n",
              "        text-align: right;\n",
              "    }\n",
              "</style>\n",
              "<table border=\"1\" class=\"dataframe\">\n",
              "  <thead>\n",
              "    <tr style=\"text-align: right;\">\n",
              "      <th></th>\n",
              "      <th>id</th>\n",
              "      <th>original_title</th>\n",
              "      <th>genres</th>\n",
              "      <th>cast</th>\n",
              "      <th>crew</th>\n",
              "      <th>vote_average</th>\n",
              "      <th>keywords</th>\n",
              "      <th>genres_bin</th>\n",
              "      <th>cast_bin</th>\n",
              "      <th>crew_bin</th>\n",
              "    </tr>\n",
              "  </thead>\n",
              "  <tbody>\n",
              "    <tr>\n",
              "      <th>0</th>\n",
              "      <td>19995</td>\n",
              "      <td>Avatar</td>\n",
              "      <td>[Action, Adventure, Fantasy, ScienceFiction]</td>\n",
              "      <td>[SamWorthington, ZoeSaldana, SigourneyWeaver, ...</td>\n",
              "      <td>[JamesCameron]</td>\n",
              "      <td>7.2</td>\n",
              "      <td>[cultureclash, future, spacewar, spacecolony, ...</td>\n",
              "      <td>[1, 1, 1, 1, 0, 0, 0, 0, 0, 0, 0, 0, 0, 0, 0, ...</td>\n",
              "      <td>[1, 1, 1, 1, 1, 0, 0, 0, 0, 0, 0, 0, 0, 0, 0, ...</td>\n",
              "      <td>[1, 0, 0, 0, 0, 0, 0, 0, 0, 0, 0, 0, 0, 0, 0, ...</td>\n",
              "    </tr>\n",
              "    <tr>\n",
              "      <th>1</th>\n",
              "      <td>285</td>\n",
              "      <td>Pirates of the Caribbean: At World's End</td>\n",
              "      <td>[Adventure, Fantasy, Action]</td>\n",
              "      <td>[JohnnyDepp, OrlandoBloom, KeiraKnightley, Ste...</td>\n",
              "      <td>[GoreVerbinski]</td>\n",
              "      <td>6.9</td>\n",
              "      <td>[ocean, drugabuse, exoticisland, eastindiatrad...</td>\n",
              "      <td>[1, 1, 1, 0, 0, 0, 0, 0, 0, 0, 0, 0, 0, 0, 0, ...</td>\n",
              "      <td>[0, 0, 0, 0, 0, 1, 1, 1, 1, 1, 0, 0, 0, 0, 0, ...</td>\n",
              "      <td>[0, 1, 0, 0, 0, 0, 0, 0, 0, 0, 0, 0, 0, 0, 0, ...</td>\n",
              "    </tr>\n",
              "    <tr>\n",
              "      <th>2</th>\n",
              "      <td>206647</td>\n",
              "      <td>Spectre</td>\n",
              "      <td>[Action, Adventure, Crime]</td>\n",
              "      <td>[DanielCraig, ChristophWaltz, LéaSeydoux, Ralp...</td>\n",
              "      <td>[SamMendes]</td>\n",
              "      <td>6.3</td>\n",
              "      <td>[spy, basedonnovel, secretagent, sequel, mi6, ...</td>\n",
              "      <td>[1, 1, 0, 0, 1, 0, 0, 0, 0, 0, 0, 0, 0, 0, 0, ...</td>\n",
              "      <td>[0, 0, 0, 0, 0, 0, 0, 0, 0, 0, 1, 1, 1, 1, 1, ...</td>\n",
              "      <td>[0, 0, 1, 0, 0, 0, 0, 0, 0, 0, 0, 0, 0, 0, 0, ...</td>\n",
              "    </tr>\n",
              "    <tr>\n",
              "      <th>3</th>\n",
              "      <td>49026</td>\n",
              "      <td>The Dark Knight Rises</td>\n",
              "      <td>[Action, Crime, Drama, Thriller]</td>\n",
              "      <td>[ChristianBale, MichaelCaine, GaryOldman, Anne...</td>\n",
              "      <td>[ChristopherNolan]</td>\n",
              "      <td>7.6</td>\n",
              "      <td>[dccomics, crimefighter, terrorist, secretiden...</td>\n",
              "      <td>[1, 0, 0, 0, 1, 1, 1, 0, 0, 0, 0, 0, 0, 0, 0, ...</td>\n",
              "      <td>[0, 0, 0, 0, 0, 0, 0, 0, 0, 0, 0, 0, 0, 0, 0, ...</td>\n",
              "      <td>[0, 0, 0, 1, 0, 0, 0, 0, 0, 0, 0, 0, 0, 0, 0, ...</td>\n",
              "    </tr>\n",
              "    <tr>\n",
              "      <th>4</th>\n",
              "      <td>49529</td>\n",
              "      <td>John Carter</td>\n",
              "      <td>[Action, Adventure, ScienceFiction]</td>\n",
              "      <td>[TaylorKitsch, LynnCollins, SamanthaMorton, Wi...</td>\n",
              "      <td>[AndrewStanton]</td>\n",
              "      <td>6.1</td>\n",
              "      <td>[basedonnovel, mars, medallion, spacetravel, p...</td>\n",
              "      <td>[1, 1, 0, 1, 0, 0, 0, 0, 0, 0, 0, 0, 0, 0, 0, ...</td>\n",
              "      <td>[0, 0, 0, 0, 0, 0, 0, 0, 0, 0, 0, 0, 0, 0, 0, ...</td>\n",
              "      <td>[0, 0, 0, 0, 1, 0, 0, 0, 0, 0, 0, 0, 0, 0, 0, ...</td>\n",
              "    </tr>\n",
              "    <tr>\n",
              "      <th>5</th>\n",
              "      <td>559</td>\n",
              "      <td>Spider-Man 3</td>\n",
              "      <td>[Fantasy, Action, Adventure]</td>\n",
              "      <td>[TobeyMaguire, KirstenDunst, JamesFranco, Thom...</td>\n",
              "      <td>[SamRaimi]</td>\n",
              "      <td>5.9</td>\n",
              "      <td>[dualidentity, amnesia, sandstorm, loveofonesl...</td>\n",
              "      <td>[1, 1, 1, 0, 0, 0, 0, 0, 0, 0, 0, 0, 0, 0, 0, ...</td>\n",
              "      <td>[0, 0, 0, 0, 0, 0, 0, 0, 0, 0, 0, 0, 0, 0, 0, ...</td>\n",
              "      <td>[0, 0, 0, 0, 0, 1, 0, 0, 0, 0, 0, 0, 0, 0, 0, ...</td>\n",
              "    </tr>\n",
              "    <tr>\n",
              "      <th>6</th>\n",
              "      <td>38757</td>\n",
              "      <td>Tangled</td>\n",
              "      <td>[Animation, Family]</td>\n",
              "      <td>[ZacharyLevi, MandyMoore, DonnaMurphy, RonPerl...</td>\n",
              "      <td>[ByronHoward, NathanGreno]</td>\n",
              "      <td>7.4</td>\n",
              "      <td>[hostage, magic, horse, fairytale, musical, pr...</td>\n",
              "      <td>[0, 0, 0, 0, 0, 0, 0, 1, 1, 0, 0, 0, 0, 0, 0, ...</td>\n",
              "      <td>[0, 0, 0, 0, 0, 0, 0, 0, 0, 0, 0, 0, 0, 0, 0, ...</td>\n",
              "      <td>[0, 0, 0, 0, 0, 0, 1, 1, 0, 0, 0, 0, 0, 0, 0, ...</td>\n",
              "    </tr>\n",
              "    <tr>\n",
              "      <th>7</th>\n",
              "      <td>99861</td>\n",
              "      <td>Avengers: Age of Ultron</td>\n",
              "      <td>[Action, Adventure, ScienceFiction]</td>\n",
              "      <td>[RobertDowneyJr., ChrisHemsworth, MarkRuffalo,...</td>\n",
              "      <td>[JossWhedon]</td>\n",
              "      <td>7.3</td>\n",
              "      <td>[marvelcomic, sequel, superhero, basedoncomicb...</td>\n",
              "      <td>[1, 1, 0, 1, 0, 0, 0, 0, 0, 0, 0, 0, 0, 0, 0, ...</td>\n",
              "      <td>[0, 0, 0, 0, 0, 0, 0, 0, 0, 0, 0, 0, 0, 0, 0, ...</td>\n",
              "      <td>[0, 0, 0, 0, 0, 0, 0, 0, 1, 0, 0, 0, 0, 0, 0, ...</td>\n",
              "    </tr>\n",
              "    <tr>\n",
              "      <th>8</th>\n",
              "      <td>767</td>\n",
              "      <td>Harry Potter and the Half-Blood Prince</td>\n",
              "      <td>[Adventure, Fantasy, Family]</td>\n",
              "      <td>[DanielRadcliffe, RupertGrint, EmmaWatson, Tom...</td>\n",
              "      <td>[DavidYates]</td>\n",
              "      <td>7.4</td>\n",
              "      <td>[witch, magic, broom, schoolofwitchcraft, wiza...</td>\n",
              "      <td>[0, 1, 1, 0, 0, 0, 0, 0, 1, 0, 0, 0, 0, 0, 0, ...</td>\n",
              "      <td>[0, 0, 0, 0, 0, 0, 0, 0, 0, 0, 0, 0, 0, 0, 0, ...</td>\n",
              "      <td>[0, 0, 0, 0, 0, 0, 0, 0, 0, 1, 0, 0, 0, 0, 0, ...</td>\n",
              "    </tr>\n",
              "    <tr>\n",
              "      <th>9</th>\n",
              "      <td>209112</td>\n",
              "      <td>Batman v Superman: Dawn of Justice</td>\n",
              "      <td>[Action, Adventure, Fantasy]</td>\n",
              "      <td>[BenAffleck, HenryCavill, GalGadot, AmyAdams, ...</td>\n",
              "      <td>[ZackSnyder]</td>\n",
              "      <td>5.7</td>\n",
              "      <td>[dccomics, vigilante, superhero, basedoncomicb...</td>\n",
              "      <td>[1, 1, 1, 0, 0, 0, 0, 0, 0, 0, 0, 0, 0, 0, 0, ...</td>\n",
              "      <td>[0, 0, 0, 0, 0, 0, 0, 0, 0, 0, 0, 0, 0, 0, 0, ...</td>\n",
              "      <td>[0, 0, 0, 0, 0, 0, 0, 0, 0, 0, 1, 0, 0, 0, 0, ...</td>\n",
              "    </tr>\n",
              "  </tbody>\n",
              "</table>\n",
              "</div>\n",
              "      <button class=\"colab-df-convert\" onclick=\"convertToInteractive('df-11133bd7-379e-4755-95ca-8e50d873134f')\"\n",
              "              title=\"Convert this dataframe to an interactive table.\"\n",
              "              style=\"display:none;\">\n",
              "        \n",
              "  <svg xmlns=\"http://www.w3.org/2000/svg\" height=\"24px\"viewBox=\"0 0 24 24\"\n",
              "       width=\"24px\">\n",
              "    <path d=\"M0 0h24v24H0V0z\" fill=\"none\"/>\n",
              "    <path d=\"M18.56 5.44l.94 2.06.94-2.06 2.06-.94-2.06-.94-.94-2.06-.94 2.06-2.06.94zm-11 1L8.5 8.5l.94-2.06 2.06-.94-2.06-.94L8.5 2.5l-.94 2.06-2.06.94zm10 10l.94 2.06.94-2.06 2.06-.94-2.06-.94-.94-2.06-.94 2.06-2.06.94z\"/><path d=\"M17.41 7.96l-1.37-1.37c-.4-.4-.92-.59-1.43-.59-.52 0-1.04.2-1.43.59L10.3 9.45l-7.72 7.72c-.78.78-.78 2.05 0 2.83L4 21.41c.39.39.9.59 1.41.59.51 0 1.02-.2 1.41-.59l7.78-7.78 2.81-2.81c.8-.78.8-2.07 0-2.86zM5.41 20L4 18.59l7.72-7.72 1.47 1.35L5.41 20z\"/>\n",
              "  </svg>\n",
              "      </button>\n",
              "      \n",
              "  <style>\n",
              "    .colab-df-container {\n",
              "      display:flex;\n",
              "      flex-wrap:wrap;\n",
              "      gap: 12px;\n",
              "    }\n",
              "\n",
              "    .colab-df-convert {\n",
              "      background-color: #E8F0FE;\n",
              "      border: none;\n",
              "      border-radius: 50%;\n",
              "      cursor: pointer;\n",
              "      display: none;\n",
              "      fill: #1967D2;\n",
              "      height: 32px;\n",
              "      padding: 0 0 0 0;\n",
              "      width: 32px;\n",
              "    }\n",
              "\n",
              "    .colab-df-convert:hover {\n",
              "      background-color: #E2EBFA;\n",
              "      box-shadow: 0px 1px 2px rgba(60, 64, 67, 0.3), 0px 1px 3px 1px rgba(60, 64, 67, 0.15);\n",
              "      fill: #174EA6;\n",
              "    }\n",
              "\n",
              "    [theme=dark] .colab-df-convert {\n",
              "      background-color: #3B4455;\n",
              "      fill: #D2E3FC;\n",
              "    }\n",
              "\n",
              "    [theme=dark] .colab-df-convert:hover {\n",
              "      background-color: #434B5C;\n",
              "      box-shadow: 0px 1px 3px 1px rgba(0, 0, 0, 0.15);\n",
              "      filter: drop-shadow(0px 1px 2px rgba(0, 0, 0, 0.3));\n",
              "      fill: #FFFFFF;\n",
              "    }\n",
              "  </style>\n",
              "\n",
              "      <script>\n",
              "        const buttonEl =\n",
              "          document.querySelector('#df-11133bd7-379e-4755-95ca-8e50d873134f button.colab-df-convert');\n",
              "        buttonEl.style.display =\n",
              "          google.colab.kernel.accessAllowed ? 'block' : 'none';\n",
              "\n",
              "        async function convertToInteractive(key) {\n",
              "          const element = document.querySelector('#df-11133bd7-379e-4755-95ca-8e50d873134f');\n",
              "          const dataTable =\n",
              "            await google.colab.kernel.invokeFunction('convertToInteractive',\n",
              "                                                     [key], {});\n",
              "          if (!dataTable) return;\n",
              "\n",
              "          const docLinkHtml = 'Like what you see? Visit the ' +\n",
              "            '<a target=\"_blank\" href=https://colab.research.google.com/notebooks/data_table.ipynb>data table notebook</a>'\n",
              "            + ' to learn more about interactive tables.';\n",
              "          element.innerHTML = '';\n",
              "          dataTable['output_type'] = 'display_data';\n",
              "          await google.colab.output.renderOutput(dataTable, element);\n",
              "          const docLink = document.createElement('div');\n",
              "          docLink.innerHTML = docLinkHtml;\n",
              "          element.appendChild(docLink);\n",
              "        }\n",
              "      </script>\n",
              "    </div>\n",
              "  </div>\n",
              "  "
            ]
          },
          "metadata": {},
          "execution_count": 603
        }
      ]
    },
    {
      "cell_type": "markdown",
      "source": [
        "ATÉ AQUI TÁ FUNCIONANDO"
      ],
      "metadata": {
        "id": "UqEZGeoZQNtS"
      }
    },
    {
      "cell_type": "markdown",
      "source": [
        "### Tratando a coluna de \"**Keywords**\":"
      ],
      "metadata": {
        "id": "lIy0MtjYfh12"
      }
    },
    {
      "cell_type": "code",
      "source": [
        "movies2 = movies.copy()"
      ],
      "metadata": {
        "id": "hJ_wQA3nhv__"
      },
      "execution_count": 595,
      "outputs": []
    },
    {
      "cell_type": "code",
      "source": [
        "from wordcloud import WordCloud, STOPWORDS\n",
        "import nltk\n",
        "nltk.download('punkt')"
      ],
      "metadata": {
        "id": "l1u_gYyb-Dci"
      },
      "execution_count": null,
      "outputs": []
    },
    {
      "cell_type": "code",
      "source": [
        "movies['keywords']"
      ],
      "metadata": {
        "id": "O2wn5upaApgS"
      },
      "execution_count": null,
      "outputs": []
    },
    {
      "cell_type": "code",
      "source": [
        "stop_words = set(STOPWORDS)\n",
        "stop_words.update(',',';','!','?','.','(',')','$','#','+',':','...',' ','')\n",
        "words=[] \n",
        "words = movies['keywords'].apply(str)\n",
        "words = words.dropna().apply(nltk.word_tokenize)\n",
        "word=[]\n",
        "for i in words:\n",
        "    word.extend(i)\n",
        "word=pd.Series(word)\n",
        "word=([i for i in word.str.lower() if i not in stop_words])\n",
        "wc = WordCloud(background_color=\"black\", max_words=2000, stopwords=STOPWORDS, max_font_size= 60,width=1000,height=1000)\n",
        "wc.generate(\" \".join(word))\n",
        "plt.imshow(wc)\n",
        "plt.axis('off')\n",
        "fig=plt.gcf()\n",
        "fig.set_size_inches(10,10)\n",
        "plt.show()"
      ],
      "metadata": {
        "id": "kragctnc-gSC"
      },
      "execution_count": null,
      "outputs": []
    },
    {
      "cell_type": "code",
      "source": [
        "movies['keywords']"
      ],
      "metadata": {
        "id": "B2yeN5P9DN1f"
      },
      "execution_count": null,
      "outputs": []
    },
    {
      "cell_type": "code",
      "source": [
        "for i,j in zip(movies['keywords'],movies.index):\n",
        "    list2 = []\n",
        "    list2 = i\n",
        "    movies.loc[j,'keywords'] = str(list2)\n",
        "    movies['keywords'] = movies['keywords'].str.strip('[]').str.replace(' ','').str.replace(\"'\",'')\n",
        "    movies['keywords'] = movies['keywords'].str.split(',')\n",
        "for i,j in zip(movies['keywords'],movies.index):\n",
        "    list2 = []\n",
        "    list2 = i\n",
        "    list2.sort()\n",
        "    movies.loc[j,'keywords'] = str(list2)\n",
        "    movies['keywords'] = movies['keywords'].str.strip('[]').str.replace(' ','').str.replace(\"'\",'')\n",
        "    movies['keywords'] = movies['keywords'].str.split(',')\n",
        "words_list = []\n",
        "for index, row in movies.iterrows():\n",
        "    genres = row[\"keywords\"]\n",
        "    \n",
        "    for genre in genres:\n",
        "        if genre not in words_list:\n",
        "            words_list.append(genre)\n",
        "            movies['words_bin'] = movies['keywords'].apply(lambda x: binary(x))\n",
        "#movies = movies[(movies['vote_average']!=0)] #removing the movies with 0 score and without drector names "
      ],
      "metadata": {
        "id": "o12O5-lRC2Zf"
      },
      "execution_count": null,
      "outputs": []
    },
    {
      "cell_type": "code",
      "source": [
        "movies['keywords']"
      ],
      "metadata": {
        "id": "gUa_BwP_D_8V"
      },
      "execution_count": null,
      "outputs": []
    },
    {
      "cell_type": "code",
      "source": [
        "from scipy import spatial\n",
        "\n",
        "def Similarity(movieId1, movieId2):\n",
        "    a = movies.iloc[movieId1]\n",
        "    b = movies.iloc[movieId2]\n",
        "    \n",
        "    genresA = a['genres_bin']\n",
        "    genresB = b['genres_bin']\n",
        "    \n",
        "    genreDistance = spatial.distance.cosine(genresA, genresB)\n",
        "    print(genreDistance)\n",
        "\n",
        "\n",
        "    scoreA = a['cast_bin']\n",
        "    scoreB = b['cast_bin']\n",
        "    scoreDistance = spatial.distance.cosine(scoreA, scoreB)\n",
        "    print(scoreDistance)\n",
        "    \n",
        "    wordsA = a['words_bin']\n",
        "    wordsB = b['words_bin']\n",
        "    wordsDistance = spatial.distance.cosine(wordsA, wordsB)\n",
        "    print(wordsDistance)\n",
        "    return genreDistance + scoreDistance + wordsDistance"
      ],
      "metadata": {
        "id": "36ZtS3nnEzHX"
      },
      "execution_count": null,
      "outputs": []
    },
    {
      "cell_type": "code",
      "source": [
        "print(Similarity(3, 10))"
      ],
      "metadata": {
        "id": "_Wn5IBvXFCBe"
      },
      "execution_count": null,
      "outputs": []
    },
    {
      "cell_type": "code",
      "source": [
        "print(movies.iloc[3])"
      ],
      "metadata": {
        "id": "IisbyEXYGSJN"
      },
      "execution_count": null,
      "outputs": []
    },
    {
      "cell_type": "code",
      "source": [
        "data=pd.DataFrame(movies)\n",
        "data.head()[:2]"
      ],
      "metadata": {
        "id": "3VwvZ7Pnaw_t"
      },
      "execution_count": null,
      "outputs": []
    },
    {
      "cell_type": "code",
      "source": [
        "X = movies[['popularity', 'revenue', 'runtime', 'vote_count']]\n",
        "Y = movies[['vote_average']]"
      ],
      "metadata": {
        "id": "68DhimiEk8fc"
      },
      "execution_count": null,
      "outputs": []
    },
    {
      "cell_type": "code",
      "source": [
        "X_train, X_test, y_train, y_test = train_test_split(X, np.ravel(Y), random_state = 100)"
      ],
      "metadata": {
        "id": "9tuUzdfpncIp"
      },
      "execution_count": null,
      "outputs": []
    },
    {
      "cell_type": "code",
      "source": [
        "clf = KNeighborsClassifier(p=2, n_neighbors=4, weights = 'distance', algorithm = 'auto')"
      ],
      "metadata": {
        "id": "W07px5ucnpGz"
      },
      "execution_count": null,
      "outputs": []
    },
    {
      "cell_type": "code",
      "source": [
        "X_train = X_train.drop_duplicates()"
      ],
      "metadata": {
        "id": "0nJhIx4toA8G"
      },
      "execution_count": null,
      "outputs": []
    },
    {
      "cell_type": "code",
      "source": [
        "lab_enc = preprocessing.LabelEncoder()\n",
        "encoded = lab_enc.fit_transform(y_train)"
      ],
      "metadata": {
        "id": "sNeCaDQ51m62"
      },
      "execution_count": null,
      "outputs": []
    },
    {
      "cell_type": "code",
      "source": [
        "clf.fit(X_train, encoded)"
      ],
      "metadata": {
        "id": "HbFja4HZoLA9"
      },
      "execution_count": null,
      "outputs": []
    },
    {
      "cell_type": "code",
      "source": [
        "predic = clf.predict(X_test)\n",
        "print(predic)"
      ],
      "metadata": {
        "id": "SJUOnfla2tU1"
      },
      "execution_count": null,
      "outputs": []
    },
    {
      "cell_type": "code",
      "source": [
        "from sklearn.metrics import accuracy_score\n",
        "lab_enc = preprocessing.LabelEncoder()\n",
        "y_test = lab_enc.fit_transform(y_test)\n",
        "\n",
        "print(accuracy_score(y_test, predic))"
      ],
      "metadata": {
        "id": "eioC5yB1241c"
      },
      "execution_count": null,
      "outputs": []
    },
    {
      "cell_type": "code",
      "source": [
        "X_data=data.dtypes[data.dtypes!='object'].index\n",
        "X_train=data[X_data]\n",
        "X_train.head()[:2]"
      ],
      "metadata": {
        "id": "HhkjMIDGbVUm"
      },
      "execution_count": null,
      "outputs": []
    },
    {
      "cell_type": "code",
      "source": [
        "X_train.describe()"
      ],
      "metadata": {
        "id": "m1ONH6Ohbbz6"
      },
      "execution_count": null,
      "outputs": []
    },
    {
      "cell_type": "code",
      "source": [
        "# Finding all the columns with NULL values\n",
        "\n",
        "np.sum(X_train.isnull())"
      ],
      "metadata": {
        "id": "Y3inDd5YbexI"
      },
      "execution_count": null,
      "outputs": []
    },
    {
      "cell_type": "code",
      "source": [
        "# Filling all Null values\n",
        "X_train=X_train.fillna(0)\n",
        "columns=X_train.columns.tolist()\n",
        "y=X_train['vote_average']\n",
        "X_train.drop(['vote_average'],axis=1,inplace=True)\n",
        "X_train.head()[:2]"
      ],
      "metadata": {
        "id": "Ba3r1FqYbh_K"
      },
      "execution_count": null,
      "outputs": []
    },
    {
      "cell_type": "code",
      "source": [
        "# GETTING Correllation matrix\n",
        "corr_mat=X_train.corr(method='pearson')\n",
        "plt.figure(figsize=(20,10))\n",
        "sns.heatmap(corr_mat,vmax=1,square=True,annot=True,cmap='cubehelix')"
      ],
      "metadata": {
        "id": "Cjp5QxQQdJzm"
      },
      "execution_count": null,
      "outputs": []
    },
    {
      "cell_type": "code",
      "source": [
        "X_Train=X_train.values\n",
        "X_Train=np.asarray(X_Train)\n",
        "\n",
        "# Finding normalised array of X_Train\n",
        "X_std=StandardScaler().fit_transform(X_Train)"
      ],
      "metadata": {
        "id": "OsWA1RpidQB0"
      },
      "execution_count": null,
      "outputs": []
    },
    {
      "cell_type": "code",
      "source": [
        "from sklearn.decomposition import PCA\n",
        "pca = PCA().fit(X_std)\n",
        "plt.plot(np.cumsum(pca.explained_variance_ratio_))\n",
        "plt.xlim(0,7,1)\n",
        "plt.xlabel('Number of components')\n",
        "plt.ylabel('Cumulative explained variance')"
      ],
      "metadata": {
        "id": "EDPASreFdob0"
      },
      "execution_count": null,
      "outputs": []
    },
    {
      "cell_type": "markdown",
      "source": [
        "Como 4 componentes podem explicar mais de 90% da variância, escolhemos o número de componentes como 4"
      ],
      "metadata": {
        "id": "M0m_h61nd9bR"
      }
    },
    {
      "cell_type": "code",
      "source": [
        "sklearn_pca=PCA(n_components=5)\n",
        "X_Train=sklearn_pca.fit_transform(X_std)\n",
        "\n",
        "sns.set(style='darkgrid')\n",
        "f, ax = plt.subplots(figsize=(8, 8))\n",
        "# ax.set_aspect('equal')\n",
        "ax = sns.kdeplot(X_Train[:,0], X_Train[:,1], cmap=\"Greens\",\n",
        "          shade=True, shade_lowest=False)\n",
        "ax = sns.kdeplot(X_Train[:,1], X_Train[:,2], cmap=\"Reds\",\n",
        "          shade=True, shade_lowest=False)\n",
        "ax = sns.kdeplot(X_Train[:,2], X_Train[:,3], cmap=\"Blues\",\n",
        "          shade=True, shade_lowest=False)\n",
        "red = sns.color_palette(\"Reds\")[-2]\n",
        "blue = sns.color_palette(\"Blues\")[-2]\n",
        "green = sns.color_palette(\"Greens\")[-2]\n",
        "ax.text(0.5, 0.5, \"2nd and 3rd Projection\", size=12, color=blue)\n",
        "ax.text(-4, 0.0, \"1st and 3rd Projection\", size=12, color=red)\n",
        "ax.text(2, 0, \"1st and 2nd Projection\", size=12, color=green)\n",
        "plt.xlim(-6,5)\n",
        "plt.ylim(-2,2)"
      ],
      "metadata": {
        "id": "1GKZAMandq9I"
      },
      "execution_count": null,
      "outputs": []
    },
    {
      "cell_type": "code",
      "source": [
        "number_of_samples = len(y)\n",
        "np.random.seed(0)\n",
        "random_indices = np.random.permutation(number_of_samples)\n",
        "num_training_samples = int(number_of_samples*0.75)\n",
        "x_train = X_Train[random_indices[:num_training_samples]]\n",
        "y_train=y[random_indices[:num_training_samples]]\n",
        "x_test=X_Train[random_indices[num_training_samples:]]\n",
        "y_test=y[random_indices[num_training_samples:]]\n",
        "y_Train=list(y_train)"
      ],
      "metadata": {
        "id": "9pXn4Q86eh5i"
      },
      "execution_count": null,
      "outputs": []
    },
    {
      "cell_type": "code",
      "source": [
        "model=linear_model.Ridge()\n",
        "model.fit(x_train,y_train)\n",
        "y_predict=model.predict(x_train)\n",
        "\n",
        "error=0\n",
        "for i in range(len(y_Train)):\n",
        "    error+=(abs(y_Train[i]-y_predict[i])/y_Train[i])\n",
        "train_error_ridge=error/len(y_Train)*100\n",
        "print(\"Train error = \"'{}'.format(train_error_ridge)+\" percent in Ridge Regression\")\n",
        "\n",
        "Y_test=model.predict(x_test)\n",
        "y_Predict=list(y_test)\n",
        "\n",
        "error=0\n",
        "for i in range(len(y_test)):\n",
        "    error+=(abs(y_Predict[i]-Y_test[i])/y_Predict[i])\n",
        "test_error_ridge=error/len(Y_test)*100\n",
        "print(\"Test error = \"'{}'.format(test_error_ridge)+\" percent in Ridge Regression\")"
      ],
      "metadata": {
        "id": "u_DwKRqIgx9d"
      },
      "execution_count": null,
      "outputs": []
    },
    {
      "cell_type": "markdown",
      "source": [
        "Começo do KNN"
      ],
      "metadata": {
        "id": "D3vSe69Tek4c"
      }
    },
    {
      "cell_type": "code",
      "source": [
        "from sklearn import neighbors\n",
        "from sklearn import linear_model\n",
        "%matplotlib inline\n",
        "\n",
        "n_neighbors=4\n",
        "knn=neighbors.KNeighborsRegressor(n_neighbors,weights='uniform')\n",
        "knn.fit(x_train,y_train)\n",
        "y1_knn=knn.predict(x_train)\n",
        "y1_knn=list(y1_knn)\n",
        "\n",
        "error=0\n",
        "for i in range(len(y_train)):\n",
        "    error+=(abs(y1_knn[i]-y_Train[i])/y_Train[i])\n",
        "train_error_knn=error/len(y_Train)*100\n",
        "print(\"Train error = \"+'{}'.format(train_error_knn)+\" percent\"+\" in Knn algorithm\")\n",
        "\n",
        "y2_knn=knn.predict(x_test)\n",
        "y2_knn=list(y2_knn)\n",
        "error=0\n",
        "for i in range(len(y_test)):\n",
        "    error+=(abs(y2_knn[i]-Y_test[i])/Y_test[i])\n",
        "test_error_knn=error/len(Y_test)*100\n",
        "print(\"Test error = \"'{}'.format(test_error_knn)+\" percent\"+\" in knn algorithm\")"
      ],
      "metadata": {
        "id": "XIHQf4zfeoz3"
      },
      "execution_count": null,
      "outputs": []
    },
    {
      "cell_type": "code",
      "source": [
        "plt.rcParams['figure.figsize'] = (6.0, 6.0)\n",
        "preds = pd.DataFrame({\"preds\":knn.predict(x_train), \"true\":y_train})\n",
        "preds[\"residuals\"] = preds[\"true\"] - preds[\"preds\"]\n",
        "preds.plot(x = \"preds\", y = \"residuals\",kind = \"scatter\")\n",
        "plt.title(\"Residual plot in Knn\")"
      ],
      "metadata": {
        "id": "ElQHPEViiZdo"
      },
      "execution_count": null,
      "outputs": []
    },
    {
      "cell_type": "code",
      "source": [
        "#Utilizando boxplot para visualizar nossos outliars\n",
        "#plt.boxplot(filmes['release_year'])\n",
        "\n",
        "#plt.title('Ano de lançamento')\n",
        "#plt.xlabel('a')\n",
        "#plt.ylabel('b')"
      ],
      "metadata": {
        "id": "cQJNDTcBF-DE"
      },
      "execution_count": null,
      "outputs": []
    },
    {
      "cell_type": "markdown",
      "source": [
        "## Questão 4:"
      ],
      "metadata": {
        "id": "KXcAhzYQ-CMZ"
      }
    },
    {
      "cell_type": "markdown",
      "source": [
        "**(2 Pontos)** Considerando a matriz de confusão abaixo, quais são os valores das métricas listadas abaixo?\n",
        "\n",
        "Obs: **Classe verdadeira - Coluna | Classe predita - Linha**\n",
        "\n",
        "| **CLASSES** | Maçã | Laranja | Limão | Manga |\n",
        "| ------- | :--: | :-----: | :---: | :---: |\n",
        "| Maçã | 70 | 20 | 5 | 5 |\n",
        "| Laranja | 10 | 67 | 3 | 20 | \n",
        "| Limão | 5 | 30 | 55 | 10 | \n",
        "| Manga | 5 | 4 | 2 | 1000 |\n",
        "\n",
        "Maçã:\n",
        "\n",
        "| **CLASSES** | Maçã | Laranja | Limão | Manga |\n",
        "| ------- | :--: | :-----: | :---: | :---: | \n",
        "| Maçã | VP | FP | FP | FP |\n",
        "| Laranja | FN | VN | VN | VN |\n",
        "| Limão | FN | VN | VN | VN |\n",
        "| Manga | FN | VN | VN | VN |\n",
        "\n",
        "Laranja:\n",
        "\n",
        "| **CLASSES** | Maçã | Laranja | Limão | Manga |\n",
        "| ------- | :--: | :-----: | :---: | :---: | \n",
        "| Maçã | VN | FN | VN | VN |\n",
        "| Laranja | FP | VP | FP | FP |\n",
        "| Limão | VN | FN | VN | VN |\n",
        "| Manga | VN | FN | VN | VN |\n",
        "\n",
        "Limão:\n",
        "\n",
        "| **CLASSES** | Maçã | Laranja | Limão | Manga |\n",
        "| ------- | :--: | :-----: | :---: | :---: | \n",
        "| Maçã | VN | VN | FN | VN |\n",
        "| Laranja | VN | VN| FN | VN |\n",
        "| Limão | FP | FP | VP | FP |\n",
        "| Manga | VN | VN | FN | VN |\n",
        "\n",
        "Manga:\n",
        "\n",
        "| **CLASSES** | Maçã | Laranja | Limão | Manga |\n",
        "| ------- | :--: | :-----: | :---: | :---: | \n",
        "| Maçã | VN | VN | VN | FN |\n",
        "| Laranja | VN | VN | VN | FN |\n",
        "| Limão | VN | VN | VN | FN |\n",
        "| Manga | FP | FP | FP | VP |\n",
        "\n",
        "Organizando nossos valores em uma tabela, temos:\n",
        "\n",
        "| **CLASSES** | VP | VN | FP | FN |\n",
        "| ------- | :--: | :-----: | :---: | :---: | \n",
        "| Maçã | 70 | 1191 | 30 | 20 |\n",
        "| Laranja | 67 | 1157 | 33 | 54 | \n",
        "| Limão | 55 | 1201 | 45 | 10 | \n",
        "| Manga | 1000 | 265 | 11 | 35 |\n",
        "\n",
        "* Sensibilidade\n",
        "* Especificidade\n",
        "* Precisão\n",
        "* Medida F1 \n",
        "* Acurácia\n",
        "* Coeficiente de Matthews\n",
        "* AUC\n",
        "\n",
        "Como você resolveria o problema dessa base de dados observando as métricas de avaliação?\n"
      ],
      "metadata": {
        "id": "_vlnIs69VcTL"
      }
    },
    {
      "cell_type": "code",
      "source": [
        "#Criando uma classe Fruta com os parâmetros\n",
        "#Verdadeiro Positivo, Verdadeiro Negativo, Falso Positivo, Falso Negativo\n",
        "\n",
        "class Fruta:\n",
        "  def __init__(self, vp, vn, fp, fn):\n",
        "    self.vp = vp\n",
        "    self.vn = vn\n",
        "    self.fp = fp\n",
        "    self.fn = fn\n",
        "\n",
        "#Inicializando os objetos com seus valores \n",
        "maca = Fruta(70,1191,30,20)\n",
        "laranja = Fruta(67,1157,33,54)\n",
        "limao = Fruta(55,1201,45,10)\n",
        "manga = Fruta(1000,265,11,35)"
      ],
      "metadata": {
        "id": "VxTWQfmrbHhE"
      },
      "execution_count": null,
      "outputs": []
    },
    {
      "cell_type": "markdown",
      "source": [
        "### Métricas de Desempenho:"
      ],
      "metadata": {
        "id": "wHEaLSaB6PG2"
      }
    },
    {
      "cell_type": "markdown",
      "source": [
        "#### Sensibilidade:\n",
        "\n",
        "<img src=\"https://latex.codecogs.com/svg.image?sens(\\hat{f})&space;=&space;rev(\\hat{f})&space;=&space;TVP(\\hat{f})&space;=&space;\\frac{VP}{VP&plus;FN}\" title=\"https://latex.codecogs.com/svg.image?sens(\\hat{f}) = rev(\\hat{f}) = TVP(\\hat{f}) = \\frac{VP}{VP+FN}\" />\n"
      ],
      "metadata": {
        "id": "rJVs4pvxZWLL"
      }
    },
    {
      "cell_type": "code",
      "source": [
        "#Função para calcular a sensibilidade\n",
        "def sens(VP, FN):\n",
        "  sensibilidade = (VP/(VP+FN))\n",
        "  return sensibilidade\n"
      ],
      "metadata": {
        "id": "KRkDWB1HabvK"
      },
      "execution_count": null,
      "outputs": []
    },
    {
      "cell_type": "code",
      "source": [
        "#Sensibilidade de Maçã, Laranja, Limão e Manga respectivamente.\n",
        "sens_maca = sens(maca.vp, maca.fn)\n",
        "sens_laranja = sens(laranja.vp, laranja.fn)\n",
        "sens_limao = sens(limao.vp, limao.fn)\n",
        "sens_manga = sens(manga.vp, manga.fn)\n",
        "\n",
        "#Printando as sensibilidades:\n",
        "print('A sensibilidade de maçã:{:.2f}'.format(sens_maca))\n",
        "print('A sensibilidade de laranja:{:.2f}'.format(sens_laranja))\n",
        "print('A sensibilidade de limão:{:.2f}'.format(sens_limao))\n",
        "print('A sensibilidade de manga:{:.2f}'.format(sens_manga))\n",
        "\n",
        "#Printando a média de Sensibilidade:\n",
        "sens_media = (sens_maca + sens_laranja + sens_limao + sens_manga ) / 4\n",
        "print('\\nA média de sensibilidade da Matriz de Confusão é:{:.2f}\\n'.format(sens_media))"
      ],
      "metadata": {
        "id": "7VTt2tODdHHX"
      },
      "execution_count": null,
      "outputs": []
    },
    {
      "cell_type": "markdown",
      "source": [
        "#### Especificidade: \n",
        "\n",
        "<img src=\"https://latex.codecogs.com/svg.image?esp(\\hat{f})&space;=&space;\\frac{VN}{VN&plus;FP}&space;=&space;1-TFP(\\hat{f})\" title=\"https://latex.codecogs.com/svg.image?esp(\\hat{f}) = \\frac{VN}{VN+FP} = 1-TFP(\\hat{f})\" />"
      ],
      "metadata": {
        "id": "G0WUKsavZdGj"
      }
    },
    {
      "cell_type": "code",
      "source": [
        "#Função para calcular a especificidade\n",
        "def esp(VN, FP):\n",
        "  especificidade = VN/(VN+FP)\n",
        "  return especificidade"
      ],
      "metadata": {
        "id": "2yqdO9gPhRT2"
      },
      "execution_count": null,
      "outputs": []
    },
    {
      "cell_type": "code",
      "source": [
        "#Especificidade de Maçã, Laranja, Limão e Manga respectivamente.\n",
        "espec_maca = esp(maca.vn, maca.fp)\n",
        "espec_laranja = esp(laranja.vn, laranja.fp)\n",
        "espec_limao = esp(limao.vn, limao.fp)\n",
        "espec_manga = esp(manga.vn, manga.fp)\n",
        "\n",
        "#Printando as especificidades\n",
        "print('A especificidade de maçã:{:.2f}'.format(espec_maca))\n",
        "print('A especificidade de laranja:{:.2f}'.format(espec_laranja))\n",
        "print('A especificidade de limão:{:.2f}'.format(espec_limao))\n",
        "print('A especificidade de manga:{:.2f}'.format(espec_manga))\n",
        "\n",
        "#Printando a média de especificidade:\n",
        "esp_media = (espec_maca + espec_laranja + espec_limao + espec_manga ) / 4\n",
        "print('\\nA média de especificidade da Matriz de Confusão é:{:.2f}\\n'.format(esp_media))"
      ],
      "metadata": {
        "id": "IBC90GC6h2LM"
      },
      "execution_count": null,
      "outputs": []
    },
    {
      "cell_type": "markdown",
      "source": [
        "#### Precisão:\n",
        "\n",
        "<img src=\"https://latex.codecogs.com/svg.image?prec(\\hat{f})&space;=&space;\\frac{VP}{VP&plus;FP}\" title=\"https://latex.codecogs.com/svg.image?prec(\\hat{f}) = \\frac{VP}{VP+FP}\" />\n"
      ],
      "metadata": {
        "id": "zV2-u3djZi5y"
      }
    },
    {
      "cell_type": "code",
      "source": [
        "#Função para calcular a precisão\n",
        "def prec(VP, FP):\n",
        "  precisao = VP/(VP+FP)\n",
        "  return precisao"
      ],
      "metadata": {
        "id": "3n86Z_6ckeAT"
      },
      "execution_count": null,
      "outputs": []
    },
    {
      "cell_type": "code",
      "source": [
        "#Precisão de Maçã, Laranja, Limão e Manga respectivamente.\n",
        "prec_maca = prec(maca.vp, maca.fp)\n",
        "prec_laranja = prec(laranja.vp, laranja.fp)\n",
        "prec_limao = prec(limao.vp, limao.fp)\n",
        "prec_manga = prec(manga.vp, manga.fp)\n",
        "\n",
        "#Printando as precisões:\n",
        "print('A precisão de maçã:{:.2f}'.format(prec_maca))\n",
        "print('A precisão de laranja:{:.2f}'.format(prec_laranja))\n",
        "print('A precisão de limão:{:.2f}'.format(prec_limao))\n",
        "print('A precisão de manga:{:.2f}'.format(prec_manga))\n",
        "\n",
        "#Printando a média de precisão:\n",
        "prec_media = (prec_maca + prec_laranja + prec_limao + prec_manga ) / 4\n",
        "print('\\nA média de precisão da Matriz de Confusão é:{:.2f}\\n'.format(prec_media))"
      ],
      "metadata": {
        "id": "BDfSjCKTkpp5"
      },
      "execution_count": null,
      "outputs": []
    },
    {
      "cell_type": "markdown",
      "source": [
        "#### Medida-F1:\n",
        "\n",
        "<img src=\"https://latex.codecogs.com/svg.image?F&space;=&space;2&space;\\cdot&space;\\frac{prec&space;\\cdot&space;sens}{prec&space;&plus;&space;sens}\" title=\"https://latex.codecogs.com/svg.image?F = 2 \\cdot \\frac{prec \\cdot sens}{prec + sens}\" />"
      ],
      "metadata": {
        "id": "K_4FmJ9NZmdO"
      }
    },
    {
      "cell_type": "code",
      "source": [
        "#Função para calcular a medida-F:\n",
        "def medf(PREC, SENS):\n",
        "  medidaF = 2*((PREC*SENS)/(PREC+SENS))\n",
        "  return medidaF"
      ],
      "metadata": {
        "id": "j3kzHfHhlhAG"
      },
      "execution_count": null,
      "outputs": []
    },
    {
      "cell_type": "code",
      "source": [
        "#Medida-F de Maçã, Laranja, Limão e Manga respectivamente.\n",
        "med_maca = medf(prec_maca, sens_maca)\n",
        "med_laranja = medf(prec_laranja, sens_laranja)\n",
        "med_limao = medf(prec_limao, sens_limao)\n",
        "med_manga = medf(prec_manga, sens_manga)\n",
        "\n",
        "#Printando as precisões:\n",
        "print('A Medida-F1 de maçã:{:.2f}'.format(med_maca))\n",
        "print('A Medida-F1 de laranja:{:.2f}'.format(med_laranja))\n",
        "print('A Medida-F1 de limão:{:.2f}'.format(med_limao))\n",
        "print('A Medida-F1 de manga:{:.2f}'.format(med_manga))\n",
        "\n",
        "#Printando a média de Medida-F1:\n",
        "med_media = (med_maca + med_laranja + med_limao + med_manga ) / 4\n",
        "print('\\nA média de Medida-F1 da Matriz de Confusão é:{:.2f}\\n'.format(med_media))"
      ],
      "metadata": {
        "id": "KU4kS2ELm2NT"
      },
      "execution_count": null,
      "outputs": []
    },
    {
      "cell_type": "markdown",
      "source": [
        "#### Acurácia Total:\n",
        "\n",
        "<img src=\"https://latex.codecogs.com/svg.image?ac(\\hat{f})&space;=&space;\\frac{VP&plus;VN}{n}\" title=\"https://latex.codecogs.com/svg.image?ac(\\hat{f}) = \\frac{VP+VN}{n}\" />"
      ],
      "metadata": {
        "id": "_KhNrBg6ZqSk"
      }
    },
    {
      "cell_type": "code",
      "source": [
        "#Função para calcular a medida-F:\n",
        "def ac(VP, VN, FP, FN):\n",
        "  acuracia = (VP+VN)/(VP+VN+FP+FN)\n",
        "  return acuracia"
      ],
      "metadata": {
        "id": "2_IcjB48pPfQ"
      },
      "execution_count": null,
      "outputs": []
    },
    {
      "cell_type": "code",
      "source": [
        "#Acurácia total de Maçã, Laranja, Limão e Manga respectivamente.\n",
        "act_maca = ac(maca.vp, maca.vn, maca.fp, maca.fn)\n",
        "act_laranja = ac(laranja.vp, laranja.vn, laranja.fp, laranja.fn)\n",
        "act_limao = ac(limao.vp, limao.vn, limao.fp, limao.fn)\n",
        "act_manga = ac(manga.vp, manga.vn, manga.fp, manga.fn)\n",
        "\n",
        "#Printando as acurácias:\n",
        "print('A acurácia total de maçã:{:.2f}'.format(act_maca))\n",
        "print('A acurácia total de laranja:{:.2f}'.format(act_laranja))\n",
        "print('A acurácia total de limão:{:.2f}'.format(act_limao))\n",
        "print('A acurácia total de manga:{:.2f}'.format(act_manga))\n",
        "\n",
        "#Printando a média de Acurácia total:\n",
        "act_media = (act_maca + act_laranja + act_limao + act_manga ) / 4\n",
        "print('\\nA média de Acurácia Total da Matriz de Confusão é:{:.2f}\\n'.format(act_media))"
      ],
      "metadata": {
        "id": "UdFVs8gNq-8m"
      },
      "execution_count": null,
      "outputs": []
    },
    {
      "cell_type": "markdown",
      "source": [
        "#### Coeficiente Matthews:\n",
        "\n",
        "<img src=\"https://latex.codecogs.com/svg.image?phi&space;=&space;\\frac{(VP\\cdot&space;VN&space;-&space;FP\\cdot&space;FN)}{\\sqrt{(VP&plus;FP)\\cdot&space;(VP&plus;FN)\\cdot&space;(VN&plus;FP)\\cdot&space;(VN&plus;FN)}}&space;\" title=\"https://latex.codecogs.com/svg.image?phi = \\frac{(VP\\cdot VN - FP\\cdot FN)}{\\sqrt{(VP+FP)\\cdot (VP+FN)\\cdot (VN+FP)\\cdot (VN+FN)}} \" />\n"
      ],
      "metadata": {
        "id": "RKQ0pE8JZs4R"
      }
    },
    {
      "cell_type": "code",
      "source": [
        "#Função para calcular o Coeficiente Matthews:\n",
        "import math\n",
        "def matthews(VP, VN, FP, FN):\n",
        "  phi = ((VP*VN)-(FP*FN)) / math.sqrt(((VP+FP)*(VP+FN)*(VN+FP)*(VN+FN)))\n",
        "  return phi"
      ],
      "metadata": {
        "id": "LnWNnyHTNkos"
      },
      "execution_count": null,
      "outputs": []
    },
    {
      "cell_type": "code",
      "source": [
        "#Coeficiente Matthews de Maçã, Laranja, Limão e Manga respectivamente.\n",
        "matthews_maca = matthews(maca.vp, maca.vn, maca.fp, maca.fn)\n",
        "matthews_laranja = matthews(laranja.vp, laranja.vn, laranja.fp, laranja.fn)\n",
        "matthews_limao = matthews(limao.vp, limao.vn, limao.fp, limao.fn)\n",
        "matthews_manga = matthews(manga.vp, manga.vn, manga.fp, manga.fn)\n",
        "\n",
        "#Printando a média de Coeficiente Matthews:\n",
        "phi = (matthews_maca + matthews_laranja + matthews_limao + matthews_manga ) / 4\n",
        "print('\\nO Coeficiente Matthews da Matriz de Confusão é:{:.2f}\\n'.format(phi))"
      ],
      "metadata": {
        "id": "IHAlz_fbQVHk"
      },
      "execution_count": null,
      "outputs": []
    },
    {
      "cell_type": "markdown",
      "source": [
        "#### AUC:"
      ],
      "metadata": {
        "id": "FF50rNAlp-ZW"
      }
    },
    {
      "cell_type": "code",
      "source": [
        "import numpy as np\n",
        "\n",
        "def auc(SENS, ESPEC):\n",
        "  tvp = SENS\n",
        "  tfp = (1-ESPEC)\n",
        "\n",
        "  x = np.array([0, tvp, 1])\n",
        "  y = np.array([0, tfp, 1])\n",
        "\n",
        "  auc = np.trapz(x, y)\n",
        "  return auc"
      ],
      "metadata": {
        "id": "AFAkgCABqle_"
      },
      "execution_count": null,
      "outputs": []
    },
    {
      "cell_type": "code",
      "source": [
        "#Printando a média de Coeficiente Matthews:\n",
        "AUC = auc(sens_media, esp_media)\n",
        "print('\\nO AUC da Matriz de Confusão é:{:.2f}\\n'.format(AUC))"
      ],
      "metadata": {
        "id": "cwfXeR7TsjWR"
      },
      "execution_count": null,
      "outputs": []
    },
    {
      "cell_type": "markdown",
      "source": [
        "#### Conclusão:"
      ],
      "metadata": {
        "id": "ic2Cdd4VU6oX"
      }
    },
    {
      "cell_type": "markdown",
      "source": [
        "* Sensibilidade = 0.79\n",
        "* Especificidade = 0.97\n",
        "* Precisão = 0.73\n",
        "* Medida F1 = 0.75\n",
        "* Acurácia = 0.95\n",
        "* Coeficiente de Matthews = 0.71\n",
        "* AUC = 0.88"
      ],
      "metadata": {
        "id": "u2LfMUdLVB2Z"
      }
    },
    {
      "cell_type": "markdown",
      "source": [
        "Para melhorar as métricas de avaliação, é necessário melhorar a fase de pré-processamento do banco de dados, portanto, executar uma limpeza na base de dados e re-treinar o modelo de classificação."
      ],
      "metadata": {
        "id": "CJpZ4TKOeKnS"
      }
    },
    {
      "cell_type": "markdown",
      "source": [
        "## Questão Extra: "
      ],
      "metadata": {
        "id": "Pl-D2wFGZpwJ"
      }
    },
    {
      "cell_type": "markdown",
      "source": [
        "Elabore uma pergunta e responda sobre \"Preconceito e Inteligência Artificial\", refletindo aspectos importantes do método que uma pessoa engenheiro de dados/cientista de dados deve conhecer e se preocupar garantindo ética nos modelos criados."
      ],
      "metadata": {
        "id": "ckFlZsMYdLlj"
      }
    },
    {
      "cell_type": "code",
      "source": [
        ""
      ],
      "metadata": {
        "id": "QKUvjpyFwNFa"
      },
      "execution_count": null,
      "outputs": []
    }
  ]
}