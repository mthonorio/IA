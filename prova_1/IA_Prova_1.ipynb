{
  "nbformat": 4,
  "nbformat_minor": 0,
  "metadata": {
    "colab": {
      "name": "IA-Prova-1.ipynb",
      "provenance": [],
      "collapsed_sections": [
        "Z8s1h4_R9p8J",
        "9rcbGUHV9yzz"
      ],
      "authorship_tag": "ABX9TyOiO+doN+6DZqeYS3+92KqO",
      "include_colab_link": true
    },
    "kernelspec": {
      "name": "python3",
      "display_name": "Python 3"
    },
    "language_info": {
      "name": "python"
    }
  },
  "cells": [
    {
      "cell_type": "markdown",
      "metadata": {
        "id": "view-in-github",
        "colab_type": "text"
      },
      "source": [
        "<a href=\"https://colab.research.google.com/github/mthonorio/IA/blob/main/prova_1/IA_Prova_1.ipynb\" target=\"_parent\"><img src=\"https://colab.research.google.com/assets/colab-badge.svg\" alt=\"Open In Colab\"/></a>"
      ]
    },
    {
      "cell_type": "markdown",
      "source": [
        "# 1º Prova de Inteligência Artificial 2021.2\n",
        "#### **Aluno:** Matheus B. Honório\n",
        "#### **Matrícula:** 20190097098"
      ],
      "metadata": {
        "id": "oLrH5XfRL-2q"
      }
    },
    {
      "cell_type": "markdown",
      "source": [
        "## Questão 1:"
      ],
      "metadata": {
        "id": "Z8s1h4_R9p8J"
      }
    },
    {
      "cell_type": "markdown",
      "source": [
        "**(1 Ponto)** Para cada um dos agentes a seguir, desenvolva uma descrição completando a tabela abaixo sobre o ambiente de tarefas de cada um. \n",
        "\n",
        "(a) Agente comentarista de jogo. \n",
        "\n",
        "(b) Agente sugestor de vinho.\n",
        "\n",
        "(c) Agente treinador de time (como de basquete).\n",
        "\n",
        "*Obs:* Para o preenchimento da tabela abaixo foi escolhido como esporte dos itens **a** e **c** o basquete.\n",
        "\n",
        "| Agente | Medida de desempenho | Ambiente | Atuadores | Sensores |\n",
        "| :----: | :------------------ | :------- | :-------- | :------- |\n",
        "| a | Deve falar sobre a pontuação e movimento dos jogadores <br/> e das torcidas | Quadra, Times, Pontuação e Arbitragem | Microfone e Caixas de Som | Câmeras, Placar e Movimento |\n",
        "| b | Deve falar qual o melhor vinho para o evento proposto,<br/> seus principais detalhes e preços | Restaurantes, Vinícolas, Vinhos e <br/> Eventos de amostra | Monitor e Caixa de Som | Câmera, Odômetro e Microfone |\n",
        "| c | Maximizar as estratégias e treinamento do time por completo e <br/> individualmente, imprimir exercícios e estatísticas dos jogadores | Quadra e Conjunto de jogadores | Monitor, Impressora e Caixa de Som | Câmera, Odômetro e Microfone |\n",
        " "
      ],
      "metadata": {
        "id": "SPvyt5zWLx2l"
      }
    },
    {
      "cell_type": "markdown",
      "source": [
        "## Questão 2:"
      ],
      "metadata": {
        "id": "9rcbGUHV9yzz"
      }
    },
    {
      "cell_type": "markdown",
      "source": [
        "**(2 Pontos)** Diferencie os 4 tipos de aprendizado de máquina. Para tanto, escolha uma base de dados do Kaggle e explique como aplicar os 4 métodos nessa mesma base."
      ],
      "metadata": {
        "id": "miuP8g13SFzC"
      }
    },
    {
      "cell_type": "markdown",
      "source": [
        "A base escolhida para a questão foi a [TMDB 5000 Movies Dataset](https://www.kaggle.com/datasets/tmdb/tmdb-movie-metadata). <br/>\n",
        "*Atualizada no dia 15/04/2022.*"
      ],
      "metadata": {
        "id": "liTzm76AuGj8"
      }
    },
    {
      "cell_type": "markdown",
      "source": [
        "### Aprendizagem supervisionada\n"
      ],
      "metadata": {
        "id": "SjmNKZ0IxLA8"
      }
    },
    {
      "cell_type": "markdown",
      "source": [
        "O algoritmo de aprendizado (indutor) recebe um conjunto de exemplos de treinamento no qual os rótulos das classes são conhecidos para construir um classificador que possa determinar corretamente a classe de novos exemplos ainda não rotulados. Portanto, aplicando o método de aprendizagem supervisionada na nossa base de dados abordando como objetivo principal um modelo de **classificação** de gêneros de filmes de forma que ao submeter uma descrição e seu título é possível obter os seus gêneros."
      ],
      "metadata": {
        "id": "3quhN_Crqz6G"
      }
    },
    {
      "cell_type": "markdown",
      "source": [
        "### Aprendizagem não supervisionada"
      ],
      "metadata": {
        "id": "UmDnufXaPNMN"
      }
    },
    {
      "cell_type": "markdown",
      "source": [
        "O método de aprendizagem não supervisionada busca analisar e induzir os exemplos fornecidos determinando se alguns deles podem ser agrupados de alguma maneira, formando agrupamentos ou clusters, ou seja, em nossa base de dados ao submetermos os filmes da TMDB, o algoritmo separará os filmes e agrupá-los em gêneros ou outra categoria. "
      ],
      "metadata": {
        "id": "hyeukBZHq_LN"
      }
    },
    {
      "cell_type": "markdown",
      "source": [
        "### Aprendizagem semi-supervisionada"
      ],
      "metadata": {
        "id": "-0CuXaVFPRSL"
      }
    },
    {
      "cell_type": "markdown",
      "source": [
        "O método de aprendizagem semi-supervisionada é o treinamento de classificadores quando uma grande de exemplos não rotulados está disponível acompanhado de um pequeno conjunto de exemplos rotulados. Portanto, em nossa base de dados poucos dados são conhecidos e uma grande parte desconhecida, podemos utilizar o aprendizado para classificar, por exemplo, classificação dos filmes utilizando semelhanças observáveis pela descrição, título ou direção."
      ],
      "metadata": {
        "id": "1euRCzzlwm4J"
      }
    },
    {
      "cell_type": "markdown",
      "source": [
        "### Aprendizagem por reforço"
      ],
      "metadata": {
        "id": "_WPLhlcNPdEV"
      }
    },
    {
      "cell_type": "markdown",
      "source": [
        "A aprendizagem por reforço trata de situações onde um agente aprende por tentativa e erro ao atuar sobre um ambiente dinâmico, ou seja, no nosso caso através da tentativa e erro a IA pode rotular a classificação etária do filme através de seu gênero devido ao diretor do título, descrição e gênero."
      ],
      "metadata": {
        "id": "5zEMKmmV3Jct"
      }
    },
    {
      "cell_type": "markdown",
      "source": [
        "## Questão 3:"
      ],
      "metadata": {
        "id": "Ti-tQ_it99LU"
      }
    },
    {
      "cell_type": "markdown",
      "source": [
        "**(5 Pontos)** Em um Jupyter Notebook (link do collab, GitHub ou arquivo), utilize o método K vizinhos mais próximos na base escolhida na questão anterior para um contexto SUPERVISIONADO e para classificação:\n",
        "\n",
        "1. Aplique processos de pré-processamento e os necessários para execução do método K-NN.\n",
        "2. Aplique correlação ou PCA e selecione um número menor de atributos com esses métodos e justifique sua decisão.\n",
        "3. Escolha 5 valores de K e mostre os resultados (escolha 3 métricas de avaliação e mostre a matriz de confusão) e explique os resultados encontrados.\n",
        "4. Escolha 2 métricas de similaridade (diferentes distâncias ou outras métricas - correlação, por exemplo) para definir o(s) vizinho(s) mais próximos e explique os resultados encontrados.\n",
        "5. Melhor K e melhor distância e testar com o conjunto de atributos do item 2.\n"
      ],
      "metadata": {
        "id": "DRuQ2qqXUJuM"
      }
    },
    {
      "cell_type": "code",
      "source": [
        "#bibliotecas necessárias para ler/manipular/visualizar dados\n",
        "import pandas as pd\n",
        "import numpy as np\n",
        "import seaborn as sns\n",
        "import matplotlib.pyplot as plt\n",
        "\n",
        "#bibliotecas para criar o modelo de ML\n",
        "from sklearn import preprocessing\n",
        "from sklearn import utils\n",
        "from sklearn.neighbors import KNeighborsClassifier\n",
        "from sklearn.model_selection import train_test_split\n",
        "from sklearn.preprocessing import StandardScaler\n",
        "from sklearn.metrics import accuracy_score\n",
        "from sklearn.decomposition import PCA\n",
        "from sklearn import metrics\n",
        "from sklearn.metrics import confusion_matrix"
      ],
      "metadata": {
        "id": "UFA3y4hrSLCM"
      },
      "execution_count": 134,
      "outputs": []
    },
    {
      "cell_type": "code",
      "source": [
        "# Lendo arquivo e visualizando \n",
        "movies = pd.read_csv('tmdb_5000_movies.csv')\n",
        "movies = movies.dropna()\n",
        "\n",
        "movies.head()[:2]"
      ],
      "metadata": {
        "colab": {
          "base_uri": "https://localhost:8080/",
          "height": 350
        },
        "id": "us2AFhj8uYQY",
        "outputId": "bf735d39-b42e-4407-f15f-91eb9b9f97c1"
      },
      "execution_count": 133,
      "outputs": [
        {
          "output_type": "execute_result",
          "data": {
            "text/plain": [
              "      budget                                             genres  \\\n",
              "0  237000000  [{\"id\": 28, \"name\": \"Action\"}, {\"id\": 12, \"nam...   \n",
              "1  300000000  [{\"id\": 12, \"name\": \"Adventure\"}, {\"id\": 14, \"...   \n",
              "\n",
              "                                       homepage     id  \\\n",
              "0                   http://www.avatarmovie.com/  19995   \n",
              "1  http://disney.go.com/disneypictures/pirates/    285   \n",
              "\n",
              "                                            keywords original_language  \\\n",
              "0  [{\"id\": 1463, \"name\": \"culture clash\"}, {\"id\":...                en   \n",
              "1  [{\"id\": 270, \"name\": \"ocean\"}, {\"id\": 726, \"na...                en   \n",
              "\n",
              "                             original_title  \\\n",
              "0                                    Avatar   \n",
              "1  Pirates of the Caribbean: At World's End   \n",
              "\n",
              "                                            overview  popularity  \\\n",
              "0  In the 22nd century, a paraplegic Marine is di...  150.437577   \n",
              "1  Captain Barbossa, long believed to be dead, ha...  139.082615   \n",
              "\n",
              "                                production_companies  \\\n",
              "0  [{\"name\": \"Ingenious Film Partners\", \"id\": 289...   \n",
              "1  [{\"name\": \"Walt Disney Pictures\", \"id\": 2}, {\"...   \n",
              "\n",
              "                                production_countries release_date     revenue  \\\n",
              "0  [{\"iso_3166_1\": \"US\", \"name\": \"United States o...   2009-12-10  2787965087   \n",
              "1  [{\"iso_3166_1\": \"US\", \"name\": \"United States o...   2007-05-19   961000000   \n",
              "\n",
              "   runtime                                   spoken_languages    status  \\\n",
              "0    162.0  [{\"iso_639_1\": \"en\", \"name\": \"English\"}, {\"iso...  Released   \n",
              "1    169.0           [{\"iso_639_1\": \"en\", \"name\": \"English\"}]  Released   \n",
              "\n",
              "                                          tagline  \\\n",
              "0                     Enter the World of Pandora.   \n",
              "1  At the end of the world, the adventure begins.   \n",
              "\n",
              "                                      title  vote_average  vote_count  \n",
              "0                                    Avatar           7.2       11800  \n",
              "1  Pirates of the Caribbean: At World's End           6.9        4500  "
            ],
            "text/html": [
              "\n",
              "  <div id=\"df-4fd6143b-7c15-485f-b7f5-96bb89d44ebe\">\n",
              "    <div class=\"colab-df-container\">\n",
              "      <div>\n",
              "<style scoped>\n",
              "    .dataframe tbody tr th:only-of-type {\n",
              "        vertical-align: middle;\n",
              "    }\n",
              "\n",
              "    .dataframe tbody tr th {\n",
              "        vertical-align: top;\n",
              "    }\n",
              "\n",
              "    .dataframe thead th {\n",
              "        text-align: right;\n",
              "    }\n",
              "</style>\n",
              "<table border=\"1\" class=\"dataframe\">\n",
              "  <thead>\n",
              "    <tr style=\"text-align: right;\">\n",
              "      <th></th>\n",
              "      <th>budget</th>\n",
              "      <th>genres</th>\n",
              "      <th>homepage</th>\n",
              "      <th>id</th>\n",
              "      <th>keywords</th>\n",
              "      <th>original_language</th>\n",
              "      <th>original_title</th>\n",
              "      <th>overview</th>\n",
              "      <th>popularity</th>\n",
              "      <th>production_companies</th>\n",
              "      <th>production_countries</th>\n",
              "      <th>release_date</th>\n",
              "      <th>revenue</th>\n",
              "      <th>runtime</th>\n",
              "      <th>spoken_languages</th>\n",
              "      <th>status</th>\n",
              "      <th>tagline</th>\n",
              "      <th>title</th>\n",
              "      <th>vote_average</th>\n",
              "      <th>vote_count</th>\n",
              "    </tr>\n",
              "  </thead>\n",
              "  <tbody>\n",
              "    <tr>\n",
              "      <th>0</th>\n",
              "      <td>237000000</td>\n",
              "      <td>[{\"id\": 28, \"name\": \"Action\"}, {\"id\": 12, \"nam...</td>\n",
              "      <td>http://www.avatarmovie.com/</td>\n",
              "      <td>19995</td>\n",
              "      <td>[{\"id\": 1463, \"name\": \"culture clash\"}, {\"id\":...</td>\n",
              "      <td>en</td>\n",
              "      <td>Avatar</td>\n",
              "      <td>In the 22nd century, a paraplegic Marine is di...</td>\n",
              "      <td>150.437577</td>\n",
              "      <td>[{\"name\": \"Ingenious Film Partners\", \"id\": 289...</td>\n",
              "      <td>[{\"iso_3166_1\": \"US\", \"name\": \"United States o...</td>\n",
              "      <td>2009-12-10</td>\n",
              "      <td>2787965087</td>\n",
              "      <td>162.0</td>\n",
              "      <td>[{\"iso_639_1\": \"en\", \"name\": \"English\"}, {\"iso...</td>\n",
              "      <td>Released</td>\n",
              "      <td>Enter the World of Pandora.</td>\n",
              "      <td>Avatar</td>\n",
              "      <td>7.2</td>\n",
              "      <td>11800</td>\n",
              "    </tr>\n",
              "    <tr>\n",
              "      <th>1</th>\n",
              "      <td>300000000</td>\n",
              "      <td>[{\"id\": 12, \"name\": \"Adventure\"}, {\"id\": 14, \"...</td>\n",
              "      <td>http://disney.go.com/disneypictures/pirates/</td>\n",
              "      <td>285</td>\n",
              "      <td>[{\"id\": 270, \"name\": \"ocean\"}, {\"id\": 726, \"na...</td>\n",
              "      <td>en</td>\n",
              "      <td>Pirates of the Caribbean: At World's End</td>\n",
              "      <td>Captain Barbossa, long believed to be dead, ha...</td>\n",
              "      <td>139.082615</td>\n",
              "      <td>[{\"name\": \"Walt Disney Pictures\", \"id\": 2}, {\"...</td>\n",
              "      <td>[{\"iso_3166_1\": \"US\", \"name\": \"United States o...</td>\n",
              "      <td>2007-05-19</td>\n",
              "      <td>961000000</td>\n",
              "      <td>169.0</td>\n",
              "      <td>[{\"iso_639_1\": \"en\", \"name\": \"English\"}]</td>\n",
              "      <td>Released</td>\n",
              "      <td>At the end of the world, the adventure begins.</td>\n",
              "      <td>Pirates of the Caribbean: At World's End</td>\n",
              "      <td>6.9</td>\n",
              "      <td>4500</td>\n",
              "    </tr>\n",
              "  </tbody>\n",
              "</table>\n",
              "</div>\n",
              "      <button class=\"colab-df-convert\" onclick=\"convertToInteractive('df-4fd6143b-7c15-485f-b7f5-96bb89d44ebe')\"\n",
              "              title=\"Convert this dataframe to an interactive table.\"\n",
              "              style=\"display:none;\">\n",
              "        \n",
              "  <svg xmlns=\"http://www.w3.org/2000/svg\" height=\"24px\"viewBox=\"0 0 24 24\"\n",
              "       width=\"24px\">\n",
              "    <path d=\"M0 0h24v24H0V0z\" fill=\"none\"/>\n",
              "    <path d=\"M18.56 5.44l.94 2.06.94-2.06 2.06-.94-2.06-.94-.94-2.06-.94 2.06-2.06.94zm-11 1L8.5 8.5l.94-2.06 2.06-.94-2.06-.94L8.5 2.5l-.94 2.06-2.06.94zm10 10l.94 2.06.94-2.06 2.06-.94-2.06-.94-.94-2.06-.94 2.06-2.06.94z\"/><path d=\"M17.41 7.96l-1.37-1.37c-.4-.4-.92-.59-1.43-.59-.52 0-1.04.2-1.43.59L10.3 9.45l-7.72 7.72c-.78.78-.78 2.05 0 2.83L4 21.41c.39.39.9.59 1.41.59.51 0 1.02-.2 1.41-.59l7.78-7.78 2.81-2.81c.8-.78.8-2.07 0-2.86zM5.41 20L4 18.59l7.72-7.72 1.47 1.35L5.41 20z\"/>\n",
              "  </svg>\n",
              "      </button>\n",
              "      \n",
              "  <style>\n",
              "    .colab-df-container {\n",
              "      display:flex;\n",
              "      flex-wrap:wrap;\n",
              "      gap: 12px;\n",
              "    }\n",
              "\n",
              "    .colab-df-convert {\n",
              "      background-color: #E8F0FE;\n",
              "      border: none;\n",
              "      border-radius: 50%;\n",
              "      cursor: pointer;\n",
              "      display: none;\n",
              "      fill: #1967D2;\n",
              "      height: 32px;\n",
              "      padding: 0 0 0 0;\n",
              "      width: 32px;\n",
              "    }\n",
              "\n",
              "    .colab-df-convert:hover {\n",
              "      background-color: #E2EBFA;\n",
              "      box-shadow: 0px 1px 2px rgba(60, 64, 67, 0.3), 0px 1px 3px 1px rgba(60, 64, 67, 0.15);\n",
              "      fill: #174EA6;\n",
              "    }\n",
              "\n",
              "    [theme=dark] .colab-df-convert {\n",
              "      background-color: #3B4455;\n",
              "      fill: #D2E3FC;\n",
              "    }\n",
              "\n",
              "    [theme=dark] .colab-df-convert:hover {\n",
              "      background-color: #434B5C;\n",
              "      box-shadow: 0px 1px 3px 1px rgba(0, 0, 0, 0.15);\n",
              "      filter: drop-shadow(0px 1px 2px rgba(0, 0, 0, 0.3));\n",
              "      fill: #FFFFFF;\n",
              "    }\n",
              "  </style>\n",
              "\n",
              "      <script>\n",
              "        const buttonEl =\n",
              "          document.querySelector('#df-4fd6143b-7c15-485f-b7f5-96bb89d44ebe button.colab-df-convert');\n",
              "        buttonEl.style.display =\n",
              "          google.colab.kernel.accessAllowed ? 'block' : 'none';\n",
              "\n",
              "        async function convertToInteractive(key) {\n",
              "          const element = document.querySelector('#df-4fd6143b-7c15-485f-b7f5-96bb89d44ebe');\n",
              "          const dataTable =\n",
              "            await google.colab.kernel.invokeFunction('convertToInteractive',\n",
              "                                                     [key], {});\n",
              "          if (!dataTable) return;\n",
              "\n",
              "          const docLinkHtml = 'Like what you see? Visit the ' +\n",
              "            '<a target=\"_blank\" href=https://colab.research.google.com/notebooks/data_table.ipynb>data table notebook</a>'\n",
              "            + ' to learn more about interactive tables.';\n",
              "          element.innerHTML = '';\n",
              "          dataTable['output_type'] = 'display_data';\n",
              "          await google.colab.output.renderOutput(dataTable, element);\n",
              "          const docLink = document.createElement('div');\n",
              "          docLink.innerHTML = docLinkHtml;\n",
              "          element.appendChild(docLink);\n",
              "        }\n",
              "      </script>\n",
              "    </div>\n",
              "  </div>\n",
              "  "
            ]
          },
          "metadata": {},
          "execution_count": 133
        }
      ]
    },
    {
      "cell_type": "code",
      "source": [
        "movies.describe()"
      ],
      "metadata": {
        "colab": {
          "base_uri": "https://localhost:8080/",
          "height": 300
        },
        "id": "on9ZLq-9A1y1",
        "outputId": "ac4d6024-c321-4e7c-ebe1-b7e980b26062"
      },
      "execution_count": 42,
      "outputs": [
        {
          "output_type": "execute_result",
          "data": {
            "text/plain": [
              "             budget             id   popularity       revenue      runtime  \\\n",
              "count  4.803000e+03    4803.000000  4803.000000  4.803000e+03  4801.000000   \n",
              "mean   2.904504e+07   57165.484281    21.492301  8.226064e+07   106.875859   \n",
              "std    4.072239e+07   88694.614033    31.816650  1.628571e+08    22.611935   \n",
              "min    0.000000e+00       5.000000     0.000000  0.000000e+00     0.000000   \n",
              "25%    7.900000e+05    9014.500000     4.668070  0.000000e+00    94.000000   \n",
              "50%    1.500000e+07   14629.000000    12.921594  1.917000e+07   103.000000   \n",
              "75%    4.000000e+07   58610.500000    28.313505  9.291719e+07   118.000000   \n",
              "max    3.800000e+08  459488.000000   875.581305  2.787965e+09   338.000000   \n",
              "\n",
              "       vote_average    vote_count  \n",
              "count   4803.000000   4803.000000  \n",
              "mean       6.092172    690.217989  \n",
              "std        1.194612   1234.585891  \n",
              "min        0.000000      0.000000  \n",
              "25%        5.600000     54.000000  \n",
              "50%        6.200000    235.000000  \n",
              "75%        6.800000    737.000000  \n",
              "max       10.000000  13752.000000  "
            ],
            "text/html": [
              "\n",
              "  <div id=\"df-324eeb8f-7bf4-40aa-a137-a45c386eca59\">\n",
              "    <div class=\"colab-df-container\">\n",
              "      <div>\n",
              "<style scoped>\n",
              "    .dataframe tbody tr th:only-of-type {\n",
              "        vertical-align: middle;\n",
              "    }\n",
              "\n",
              "    .dataframe tbody tr th {\n",
              "        vertical-align: top;\n",
              "    }\n",
              "\n",
              "    .dataframe thead th {\n",
              "        text-align: right;\n",
              "    }\n",
              "</style>\n",
              "<table border=\"1\" class=\"dataframe\">\n",
              "  <thead>\n",
              "    <tr style=\"text-align: right;\">\n",
              "      <th></th>\n",
              "      <th>budget</th>\n",
              "      <th>id</th>\n",
              "      <th>popularity</th>\n",
              "      <th>revenue</th>\n",
              "      <th>runtime</th>\n",
              "      <th>vote_average</th>\n",
              "      <th>vote_count</th>\n",
              "    </tr>\n",
              "  </thead>\n",
              "  <tbody>\n",
              "    <tr>\n",
              "      <th>count</th>\n",
              "      <td>4.803000e+03</td>\n",
              "      <td>4803.000000</td>\n",
              "      <td>4803.000000</td>\n",
              "      <td>4.803000e+03</td>\n",
              "      <td>4801.000000</td>\n",
              "      <td>4803.000000</td>\n",
              "      <td>4803.000000</td>\n",
              "    </tr>\n",
              "    <tr>\n",
              "      <th>mean</th>\n",
              "      <td>2.904504e+07</td>\n",
              "      <td>57165.484281</td>\n",
              "      <td>21.492301</td>\n",
              "      <td>8.226064e+07</td>\n",
              "      <td>106.875859</td>\n",
              "      <td>6.092172</td>\n",
              "      <td>690.217989</td>\n",
              "    </tr>\n",
              "    <tr>\n",
              "      <th>std</th>\n",
              "      <td>4.072239e+07</td>\n",
              "      <td>88694.614033</td>\n",
              "      <td>31.816650</td>\n",
              "      <td>1.628571e+08</td>\n",
              "      <td>22.611935</td>\n",
              "      <td>1.194612</td>\n",
              "      <td>1234.585891</td>\n",
              "    </tr>\n",
              "    <tr>\n",
              "      <th>min</th>\n",
              "      <td>0.000000e+00</td>\n",
              "      <td>5.000000</td>\n",
              "      <td>0.000000</td>\n",
              "      <td>0.000000e+00</td>\n",
              "      <td>0.000000</td>\n",
              "      <td>0.000000</td>\n",
              "      <td>0.000000</td>\n",
              "    </tr>\n",
              "    <tr>\n",
              "      <th>25%</th>\n",
              "      <td>7.900000e+05</td>\n",
              "      <td>9014.500000</td>\n",
              "      <td>4.668070</td>\n",
              "      <td>0.000000e+00</td>\n",
              "      <td>94.000000</td>\n",
              "      <td>5.600000</td>\n",
              "      <td>54.000000</td>\n",
              "    </tr>\n",
              "    <tr>\n",
              "      <th>50%</th>\n",
              "      <td>1.500000e+07</td>\n",
              "      <td>14629.000000</td>\n",
              "      <td>12.921594</td>\n",
              "      <td>1.917000e+07</td>\n",
              "      <td>103.000000</td>\n",
              "      <td>6.200000</td>\n",
              "      <td>235.000000</td>\n",
              "    </tr>\n",
              "    <tr>\n",
              "      <th>75%</th>\n",
              "      <td>4.000000e+07</td>\n",
              "      <td>58610.500000</td>\n",
              "      <td>28.313505</td>\n",
              "      <td>9.291719e+07</td>\n",
              "      <td>118.000000</td>\n",
              "      <td>6.800000</td>\n",
              "      <td>737.000000</td>\n",
              "    </tr>\n",
              "    <tr>\n",
              "      <th>max</th>\n",
              "      <td>3.800000e+08</td>\n",
              "      <td>459488.000000</td>\n",
              "      <td>875.581305</td>\n",
              "      <td>2.787965e+09</td>\n",
              "      <td>338.000000</td>\n",
              "      <td>10.000000</td>\n",
              "      <td>13752.000000</td>\n",
              "    </tr>\n",
              "  </tbody>\n",
              "</table>\n",
              "</div>\n",
              "      <button class=\"colab-df-convert\" onclick=\"convertToInteractive('df-324eeb8f-7bf4-40aa-a137-a45c386eca59')\"\n",
              "              title=\"Convert this dataframe to an interactive table.\"\n",
              "              style=\"display:none;\">\n",
              "        \n",
              "  <svg xmlns=\"http://www.w3.org/2000/svg\" height=\"24px\"viewBox=\"0 0 24 24\"\n",
              "       width=\"24px\">\n",
              "    <path d=\"M0 0h24v24H0V0z\" fill=\"none\"/>\n",
              "    <path d=\"M18.56 5.44l.94 2.06.94-2.06 2.06-.94-2.06-.94-.94-2.06-.94 2.06-2.06.94zm-11 1L8.5 8.5l.94-2.06 2.06-.94-2.06-.94L8.5 2.5l-.94 2.06-2.06.94zm10 10l.94 2.06.94-2.06 2.06-.94-2.06-.94-.94-2.06-.94 2.06-2.06.94z\"/><path d=\"M17.41 7.96l-1.37-1.37c-.4-.4-.92-.59-1.43-.59-.52 0-1.04.2-1.43.59L10.3 9.45l-7.72 7.72c-.78.78-.78 2.05 0 2.83L4 21.41c.39.39.9.59 1.41.59.51 0 1.02-.2 1.41-.59l7.78-7.78 2.81-2.81c.8-.78.8-2.07 0-2.86zM5.41 20L4 18.59l7.72-7.72 1.47 1.35L5.41 20z\"/>\n",
              "  </svg>\n",
              "      </button>\n",
              "      \n",
              "  <style>\n",
              "    .colab-df-container {\n",
              "      display:flex;\n",
              "      flex-wrap:wrap;\n",
              "      gap: 12px;\n",
              "    }\n",
              "\n",
              "    .colab-df-convert {\n",
              "      background-color: #E8F0FE;\n",
              "      border: none;\n",
              "      border-radius: 50%;\n",
              "      cursor: pointer;\n",
              "      display: none;\n",
              "      fill: #1967D2;\n",
              "      height: 32px;\n",
              "      padding: 0 0 0 0;\n",
              "      width: 32px;\n",
              "    }\n",
              "\n",
              "    .colab-df-convert:hover {\n",
              "      background-color: #E2EBFA;\n",
              "      box-shadow: 0px 1px 2px rgba(60, 64, 67, 0.3), 0px 1px 3px 1px rgba(60, 64, 67, 0.15);\n",
              "      fill: #174EA6;\n",
              "    }\n",
              "\n",
              "    [theme=dark] .colab-df-convert {\n",
              "      background-color: #3B4455;\n",
              "      fill: #D2E3FC;\n",
              "    }\n",
              "\n",
              "    [theme=dark] .colab-df-convert:hover {\n",
              "      background-color: #434B5C;\n",
              "      box-shadow: 0px 1px 3px 1px rgba(0, 0, 0, 0.15);\n",
              "      filter: drop-shadow(0px 1px 2px rgba(0, 0, 0, 0.3));\n",
              "      fill: #FFFFFF;\n",
              "    }\n",
              "  </style>\n",
              "\n",
              "      <script>\n",
              "        const buttonEl =\n",
              "          document.querySelector('#df-324eeb8f-7bf4-40aa-a137-a45c386eca59 button.colab-df-convert');\n",
              "        buttonEl.style.display =\n",
              "          google.colab.kernel.accessAllowed ? 'block' : 'none';\n",
              "\n",
              "        async function convertToInteractive(key) {\n",
              "          const element = document.querySelector('#df-324eeb8f-7bf4-40aa-a137-a45c386eca59');\n",
              "          const dataTable =\n",
              "            await google.colab.kernel.invokeFunction('convertToInteractive',\n",
              "                                                     [key], {});\n",
              "          if (!dataTable) return;\n",
              "\n",
              "          const docLinkHtml = 'Like what you see? Visit the ' +\n",
              "            '<a target=\"_blank\" href=https://colab.research.google.com/notebooks/data_table.ipynb>data table notebook</a>'\n",
              "            + ' to learn more about interactive tables.';\n",
              "          element.innerHTML = '';\n",
              "          dataTable['output_type'] = 'display_data';\n",
              "          await google.colab.output.renderOutput(dataTable, element);\n",
              "          const docLink = document.createElement('div');\n",
              "          docLink.innerHTML = docLinkHtml;\n",
              "          element.appendChild(docLink);\n",
              "        }\n",
              "      </script>\n",
              "    </div>\n",
              "  </div>\n",
              "  "
            ]
          },
          "metadata": {},
          "execution_count": 42
        }
      ]
    },
    {
      "cell_type": "code",
      "source": [
        "movies.mean()"
      ],
      "metadata": {
        "colab": {
          "base_uri": "https://localhost:8080/"
        },
        "id": "2ZuvJrNZlmxm",
        "outputId": "797ab471-cbcb-4414-b502-6038b5f9c887"
      },
      "execution_count": 66,
      "outputs": [
        {
          "output_type": "execute_result",
          "data": {
            "text/plain": [
              "budget          4.589534e+07\n",
              "id              6.549855e+04\n",
              "popularity      3.574928e+01\n",
              "revenue         1.550083e+08\n",
              "runtime         1.086577e+02\n",
              "vote_average    6.272873e+00\n",
              "vote_count      1.323557e+03\n",
              "dtype: float64"
            ]
          },
          "metadata": {},
          "execution_count": 66
        }
      ]
    },
    {
      "cell_type": "code",
      "source": [
        "movies['genres']"
      ],
      "metadata": {
        "colab": {
          "base_uri": "https://localhost:8080/"
        },
        "id": "BzG3AbNfZKd6",
        "outputId": "d5a8fb8b-1071-4884-ead4-4d6773205954"
      },
      "execution_count": 45,
      "outputs": [
        {
          "output_type": "execute_result",
          "data": {
            "text/plain": [
              "0       [{\"id\": 28, \"name\": \"Action\"}, {\"id\": 12, \"nam...\n",
              "1       [{\"id\": 12, \"name\": \"Adventure\"}, {\"id\": 14, \"...\n",
              "2       [{\"id\": 28, \"name\": \"Action\"}, {\"id\": 12, \"nam...\n",
              "3       [{\"id\": 28, \"name\": \"Action\"}, {\"id\": 80, \"nam...\n",
              "4       [{\"id\": 28, \"name\": \"Action\"}, {\"id\": 12, \"nam...\n",
              "                              ...                        \n",
              "4798    [{\"id\": 28, \"name\": \"Action\"}, {\"id\": 80, \"nam...\n",
              "4799    [{\"id\": 35, \"name\": \"Comedy\"}, {\"id\": 10749, \"...\n",
              "4800    [{\"id\": 35, \"name\": \"Comedy\"}, {\"id\": 18, \"nam...\n",
              "4801                                                   []\n",
              "4802                  [{\"id\": 99, \"name\": \"Documentary\"}]\n",
              "Name: genres, Length: 4803, dtype: object"
            ]
          },
          "metadata": {},
          "execution_count": 45
        }
      ]
    },
    {
      "cell_type": "code",
      "source": [
        "data=pd.DataFrame(movies)\n",
        "data.head()[:2]"
      ],
      "metadata": {
        "colab": {
          "base_uri": "https://localhost:8080/",
          "height": 350
        },
        "id": "3VwvZ7Pnaw_t",
        "outputId": "1f8e59ff-3a0b-4036-c7d3-3a6039879a25"
      },
      "execution_count": 46,
      "outputs": [
        {
          "output_type": "execute_result",
          "data": {
            "text/plain": [
              "      budget                                             genres  \\\n",
              "0  237000000  [{\"id\": 28, \"name\": \"Action\"}, {\"id\": 12, \"nam...   \n",
              "1  300000000  [{\"id\": 12, \"name\": \"Adventure\"}, {\"id\": 14, \"...   \n",
              "\n",
              "                                       homepage     id  \\\n",
              "0                   http://www.avatarmovie.com/  19995   \n",
              "1  http://disney.go.com/disneypictures/pirates/    285   \n",
              "\n",
              "                                            keywords original_language  \\\n",
              "0  [{\"id\": 1463, \"name\": \"culture clash\"}, {\"id\":...                en   \n",
              "1  [{\"id\": 270, \"name\": \"ocean\"}, {\"id\": 726, \"na...                en   \n",
              "\n",
              "                             original_title  \\\n",
              "0                                    Avatar   \n",
              "1  Pirates of the Caribbean: At World's End   \n",
              "\n",
              "                                            overview  popularity  \\\n",
              "0  In the 22nd century, a paraplegic Marine is di...  150.437577   \n",
              "1  Captain Barbossa, long believed to be dead, ha...  139.082615   \n",
              "\n",
              "                                production_companies  \\\n",
              "0  [{\"name\": \"Ingenious Film Partners\", \"id\": 289...   \n",
              "1  [{\"name\": \"Walt Disney Pictures\", \"id\": 2}, {\"...   \n",
              "\n",
              "                                production_countries release_date     revenue  \\\n",
              "0  [{\"iso_3166_1\": \"US\", \"name\": \"United States o...   2009-12-10  2787965087   \n",
              "1  [{\"iso_3166_1\": \"US\", \"name\": \"United States o...   2007-05-19   961000000   \n",
              "\n",
              "   runtime                                   spoken_languages    status  \\\n",
              "0    162.0  [{\"iso_639_1\": \"en\", \"name\": \"English\"}, {\"iso...  Released   \n",
              "1    169.0           [{\"iso_639_1\": \"en\", \"name\": \"English\"}]  Released   \n",
              "\n",
              "                                          tagline  \\\n",
              "0                     Enter the World of Pandora.   \n",
              "1  At the end of the world, the adventure begins.   \n",
              "\n",
              "                                      title  vote_average  vote_count  \n",
              "0                                    Avatar           7.2       11800  \n",
              "1  Pirates of the Caribbean: At World's End           6.9        4500  "
            ],
            "text/html": [
              "\n",
              "  <div id=\"df-2ed27bf8-3bc2-4c4a-8f6e-c66f30625991\">\n",
              "    <div class=\"colab-df-container\">\n",
              "      <div>\n",
              "<style scoped>\n",
              "    .dataframe tbody tr th:only-of-type {\n",
              "        vertical-align: middle;\n",
              "    }\n",
              "\n",
              "    .dataframe tbody tr th {\n",
              "        vertical-align: top;\n",
              "    }\n",
              "\n",
              "    .dataframe thead th {\n",
              "        text-align: right;\n",
              "    }\n",
              "</style>\n",
              "<table border=\"1\" class=\"dataframe\">\n",
              "  <thead>\n",
              "    <tr style=\"text-align: right;\">\n",
              "      <th></th>\n",
              "      <th>budget</th>\n",
              "      <th>genres</th>\n",
              "      <th>homepage</th>\n",
              "      <th>id</th>\n",
              "      <th>keywords</th>\n",
              "      <th>original_language</th>\n",
              "      <th>original_title</th>\n",
              "      <th>overview</th>\n",
              "      <th>popularity</th>\n",
              "      <th>production_companies</th>\n",
              "      <th>production_countries</th>\n",
              "      <th>release_date</th>\n",
              "      <th>revenue</th>\n",
              "      <th>runtime</th>\n",
              "      <th>spoken_languages</th>\n",
              "      <th>status</th>\n",
              "      <th>tagline</th>\n",
              "      <th>title</th>\n",
              "      <th>vote_average</th>\n",
              "      <th>vote_count</th>\n",
              "    </tr>\n",
              "  </thead>\n",
              "  <tbody>\n",
              "    <tr>\n",
              "      <th>0</th>\n",
              "      <td>237000000</td>\n",
              "      <td>[{\"id\": 28, \"name\": \"Action\"}, {\"id\": 12, \"nam...</td>\n",
              "      <td>http://www.avatarmovie.com/</td>\n",
              "      <td>19995</td>\n",
              "      <td>[{\"id\": 1463, \"name\": \"culture clash\"}, {\"id\":...</td>\n",
              "      <td>en</td>\n",
              "      <td>Avatar</td>\n",
              "      <td>In the 22nd century, a paraplegic Marine is di...</td>\n",
              "      <td>150.437577</td>\n",
              "      <td>[{\"name\": \"Ingenious Film Partners\", \"id\": 289...</td>\n",
              "      <td>[{\"iso_3166_1\": \"US\", \"name\": \"United States o...</td>\n",
              "      <td>2009-12-10</td>\n",
              "      <td>2787965087</td>\n",
              "      <td>162.0</td>\n",
              "      <td>[{\"iso_639_1\": \"en\", \"name\": \"English\"}, {\"iso...</td>\n",
              "      <td>Released</td>\n",
              "      <td>Enter the World of Pandora.</td>\n",
              "      <td>Avatar</td>\n",
              "      <td>7.2</td>\n",
              "      <td>11800</td>\n",
              "    </tr>\n",
              "    <tr>\n",
              "      <th>1</th>\n",
              "      <td>300000000</td>\n",
              "      <td>[{\"id\": 12, \"name\": \"Adventure\"}, {\"id\": 14, \"...</td>\n",
              "      <td>http://disney.go.com/disneypictures/pirates/</td>\n",
              "      <td>285</td>\n",
              "      <td>[{\"id\": 270, \"name\": \"ocean\"}, {\"id\": 726, \"na...</td>\n",
              "      <td>en</td>\n",
              "      <td>Pirates of the Caribbean: At World's End</td>\n",
              "      <td>Captain Barbossa, long believed to be dead, ha...</td>\n",
              "      <td>139.082615</td>\n",
              "      <td>[{\"name\": \"Walt Disney Pictures\", \"id\": 2}, {\"...</td>\n",
              "      <td>[{\"iso_3166_1\": \"US\", \"name\": \"United States o...</td>\n",
              "      <td>2007-05-19</td>\n",
              "      <td>961000000</td>\n",
              "      <td>169.0</td>\n",
              "      <td>[{\"iso_639_1\": \"en\", \"name\": \"English\"}]</td>\n",
              "      <td>Released</td>\n",
              "      <td>At the end of the world, the adventure begins.</td>\n",
              "      <td>Pirates of the Caribbean: At World's End</td>\n",
              "      <td>6.9</td>\n",
              "      <td>4500</td>\n",
              "    </tr>\n",
              "  </tbody>\n",
              "</table>\n",
              "</div>\n",
              "      <button class=\"colab-df-convert\" onclick=\"convertToInteractive('df-2ed27bf8-3bc2-4c4a-8f6e-c66f30625991')\"\n",
              "              title=\"Convert this dataframe to an interactive table.\"\n",
              "              style=\"display:none;\">\n",
              "        \n",
              "  <svg xmlns=\"http://www.w3.org/2000/svg\" height=\"24px\"viewBox=\"0 0 24 24\"\n",
              "       width=\"24px\">\n",
              "    <path d=\"M0 0h24v24H0V0z\" fill=\"none\"/>\n",
              "    <path d=\"M18.56 5.44l.94 2.06.94-2.06 2.06-.94-2.06-.94-.94-2.06-.94 2.06-2.06.94zm-11 1L8.5 8.5l.94-2.06 2.06-.94-2.06-.94L8.5 2.5l-.94 2.06-2.06.94zm10 10l.94 2.06.94-2.06 2.06-.94-2.06-.94-.94-2.06-.94 2.06-2.06.94z\"/><path d=\"M17.41 7.96l-1.37-1.37c-.4-.4-.92-.59-1.43-.59-.52 0-1.04.2-1.43.59L10.3 9.45l-7.72 7.72c-.78.78-.78 2.05 0 2.83L4 21.41c.39.39.9.59 1.41.59.51 0 1.02-.2 1.41-.59l7.78-7.78 2.81-2.81c.8-.78.8-2.07 0-2.86zM5.41 20L4 18.59l7.72-7.72 1.47 1.35L5.41 20z\"/>\n",
              "  </svg>\n",
              "      </button>\n",
              "      \n",
              "  <style>\n",
              "    .colab-df-container {\n",
              "      display:flex;\n",
              "      flex-wrap:wrap;\n",
              "      gap: 12px;\n",
              "    }\n",
              "\n",
              "    .colab-df-convert {\n",
              "      background-color: #E8F0FE;\n",
              "      border: none;\n",
              "      border-radius: 50%;\n",
              "      cursor: pointer;\n",
              "      display: none;\n",
              "      fill: #1967D2;\n",
              "      height: 32px;\n",
              "      padding: 0 0 0 0;\n",
              "      width: 32px;\n",
              "    }\n",
              "\n",
              "    .colab-df-convert:hover {\n",
              "      background-color: #E2EBFA;\n",
              "      box-shadow: 0px 1px 2px rgba(60, 64, 67, 0.3), 0px 1px 3px 1px rgba(60, 64, 67, 0.15);\n",
              "      fill: #174EA6;\n",
              "    }\n",
              "\n",
              "    [theme=dark] .colab-df-convert {\n",
              "      background-color: #3B4455;\n",
              "      fill: #D2E3FC;\n",
              "    }\n",
              "\n",
              "    [theme=dark] .colab-df-convert:hover {\n",
              "      background-color: #434B5C;\n",
              "      box-shadow: 0px 1px 3px 1px rgba(0, 0, 0, 0.15);\n",
              "      filter: drop-shadow(0px 1px 2px rgba(0, 0, 0, 0.3));\n",
              "      fill: #FFFFFF;\n",
              "    }\n",
              "  </style>\n",
              "\n",
              "      <script>\n",
              "        const buttonEl =\n",
              "          document.querySelector('#df-2ed27bf8-3bc2-4c4a-8f6e-c66f30625991 button.colab-df-convert');\n",
              "        buttonEl.style.display =\n",
              "          google.colab.kernel.accessAllowed ? 'block' : 'none';\n",
              "\n",
              "        async function convertToInteractive(key) {\n",
              "          const element = document.querySelector('#df-2ed27bf8-3bc2-4c4a-8f6e-c66f30625991');\n",
              "          const dataTable =\n",
              "            await google.colab.kernel.invokeFunction('convertToInteractive',\n",
              "                                                     [key], {});\n",
              "          if (!dataTable) return;\n",
              "\n",
              "          const docLinkHtml = 'Like what you see? Visit the ' +\n",
              "            '<a target=\"_blank\" href=https://colab.research.google.com/notebooks/data_table.ipynb>data table notebook</a>'\n",
              "            + ' to learn more about interactive tables.';\n",
              "          element.innerHTML = '';\n",
              "          dataTable['output_type'] = 'display_data';\n",
              "          await google.colab.output.renderOutput(dataTable, element);\n",
              "          const docLink = document.createElement('div');\n",
              "          docLink.innerHTML = docLinkHtml;\n",
              "          element.appendChild(docLink);\n",
              "        }\n",
              "      </script>\n",
              "    </div>\n",
              "  </div>\n",
              "  "
            ]
          },
          "metadata": {},
          "execution_count": 46
        }
      ]
    },
    {
      "cell_type": "code",
      "source": [
        "X = movies[['popularity', 'revenue', 'runtime', 'vote_count']]\n",
        "Y = movies[['vote_average']]"
      ],
      "metadata": {
        "id": "68DhimiEk8fc"
      },
      "execution_count": 114,
      "outputs": []
    },
    {
      "cell_type": "code",
      "source": [
        "X_train, X_test, y_train, y_test = train_test_split(X, np.ravel(Y), random_state = 100)"
      ],
      "metadata": {
        "id": "9tuUzdfpncIp"
      },
      "execution_count": 116,
      "outputs": []
    },
    {
      "cell_type": "code",
      "source": [
        "clf = KNeighborsClassifier(p=2, n_neighbors=4, weights = 'distance', algorithm = 'auto')"
      ],
      "metadata": {
        "id": "W07px5ucnpGz"
      },
      "execution_count": 117,
      "outputs": []
    },
    {
      "cell_type": "code",
      "source": [
        "X_train = X_train.drop_duplicates()"
      ],
      "metadata": {
        "id": "0nJhIx4toA8G"
      },
      "execution_count": 128,
      "outputs": []
    },
    {
      "cell_type": "code",
      "source": [
        "lab_enc = preprocessing.LabelEncoder()\n",
        "encoded = lab_enc.fit_transform(y_train)"
      ],
      "metadata": {
        "id": "sNeCaDQ51m62"
      },
      "execution_count": 129,
      "outputs": []
    },
    {
      "cell_type": "code",
      "source": [
        "clf.fit(X_train, encoded)"
      ],
      "metadata": {
        "colab": {
          "base_uri": "https://localhost:8080/"
        },
        "id": "HbFja4HZoLA9",
        "outputId": "3502dc9a-89ad-4141-b271-ca2297fb9fb9"
      },
      "execution_count": 130,
      "outputs": [
        {
          "output_type": "execute_result",
          "data": {
            "text/plain": [
              "KNeighborsClassifier(n_neighbors=4, weights='distance')"
            ]
          },
          "metadata": {},
          "execution_count": 130
        }
      ]
    },
    {
      "cell_type": "code",
      "source": [
        "predic = clf.predict(X_test)\n",
        "print(predic)"
      ],
      "metadata": {
        "colab": {
          "base_uri": "https://localhost:8080/"
        },
        "id": "SJUOnfla2tU1",
        "outputId": "dd2ecad1-601d-4b98-b7b3-4cc8fbaaef86"
      },
      "execution_count": 131,
      "outputs": [
        {
          "output_type": "stream",
          "name": "stdout",
          "text": [
            "[33 36 42 20 37 27 30 38  9 15 17 39 27 27 28 37  6 40 49 31 24 23 30 29\n",
            " 22 23 45 33 32 45 30  0 10 15 26 35 35 29 33 28 26 36 30 36 28 39 16 33\n",
            "  8 28 29 25 31 28 34 33 26 36 27  0 29 26 10 31 45 31 24 27 36 42 28 24\n",
            " 10 22 28 32 40 25 21 14 43 32 18 30  6 25 32 32 42 39 27 26 24 41 28 47\n",
            " 37 36 40 24  4 21 38 29 30 23 31 33 35 39 37 30 27 50 46 18 26 27 25 34\n",
            " 41 30 19 47 14 43 14 28 29 25 49 29 46 45 29 35 43 33 48 41 22 39 31 41\n",
            " 24 26 45 34 35 13 49 42 17 30 26 43 28 41 28 36 15 27 35 45 45 36 33 41\n",
            " 44 26 21 30 21 39 30 31 42 39 42 44 28 45 40 15 35 31 31 29 32 30 22 37\n",
            " 31 36 30 32 36 32 36 30 37 28 27 34 25 28 35  2 34 34 30 39 33 29 31 46\n",
            " 38 36 32  8  6 37 44 34 31 38 30 31 37 41 20 36 40 37 36 33 39 37 38 26\n",
            " 50 34 32 38 35 37 26 37 17 31 27 24 40 27 52 27 34 39 37 39 20 30 42 30\n",
            " 28 13 48 28 13 25 28 30 32 34 34 42 41 29 29 24 40 38 27 31 33 31 22 22\n",
            " 29 32 35 25 38 21 29 40 41 39 31 25 23 29 20 33 30 28 30 30 25 43 37 37\n",
            " 31  6 28 26 41 20 35 34 30 29 24 25 43 25 34 36 24 25 36 26 10 27 36 34\n",
            " 33 25 49 38 35 21 26 27 25 38 26 38 38 36 10 35 31 33 20 38 47 28 29 36\n",
            " 33 31  0 41 33 38 36 37 32 31 19 33 35 39]\n"
          ]
        }
      ]
    },
    {
      "cell_type": "code",
      "source": [
        "from sklearn.metrics import accuracy_score\n",
        "lab_enc = preprocessing.LabelEncoder()\n",
        "y_test = lab_enc.fit_transform(y_test)\n",
        "\n",
        "print(accuracy_score(y_test, predic))"
      ],
      "metadata": {
        "colab": {
          "base_uri": "https://localhost:8080/"
        },
        "id": "eioC5yB1241c",
        "outputId": "aa3aab35-680e-44c3-b3c1-130babfd5ee5"
      },
      "execution_count": 132,
      "outputs": [
        {
          "output_type": "stream",
          "name": "stdout",
          "text": [
            "0.045454545454545456\n"
          ]
        }
      ]
    },
    {
      "cell_type": "code",
      "source": [
        "X_data=data.dtypes[data.dtypes!='object'].index\n",
        "X_train=data[X_data]\n",
        "X_train.head()[:2]"
      ],
      "metadata": {
        "colab": {
          "base_uri": "https://localhost:8080/",
          "height": 112
        },
        "id": "HhkjMIDGbVUm",
        "outputId": "9cc5a4c0-f8db-405d-b15b-08101ab1511b"
      },
      "execution_count": 47,
      "outputs": [
        {
          "output_type": "execute_result",
          "data": {
            "text/plain": [
              "      budget     id  popularity     revenue  runtime  vote_average  vote_count\n",
              "0  237000000  19995  150.437577  2787965087    162.0           7.2       11800\n",
              "1  300000000    285  139.082615   961000000    169.0           6.9        4500"
            ],
            "text/html": [
              "\n",
              "  <div id=\"df-29bfba88-a552-4362-967d-07dcf17e0abe\">\n",
              "    <div class=\"colab-df-container\">\n",
              "      <div>\n",
              "<style scoped>\n",
              "    .dataframe tbody tr th:only-of-type {\n",
              "        vertical-align: middle;\n",
              "    }\n",
              "\n",
              "    .dataframe tbody tr th {\n",
              "        vertical-align: top;\n",
              "    }\n",
              "\n",
              "    .dataframe thead th {\n",
              "        text-align: right;\n",
              "    }\n",
              "</style>\n",
              "<table border=\"1\" class=\"dataframe\">\n",
              "  <thead>\n",
              "    <tr style=\"text-align: right;\">\n",
              "      <th></th>\n",
              "      <th>budget</th>\n",
              "      <th>id</th>\n",
              "      <th>popularity</th>\n",
              "      <th>revenue</th>\n",
              "      <th>runtime</th>\n",
              "      <th>vote_average</th>\n",
              "      <th>vote_count</th>\n",
              "    </tr>\n",
              "  </thead>\n",
              "  <tbody>\n",
              "    <tr>\n",
              "      <th>0</th>\n",
              "      <td>237000000</td>\n",
              "      <td>19995</td>\n",
              "      <td>150.437577</td>\n",
              "      <td>2787965087</td>\n",
              "      <td>162.0</td>\n",
              "      <td>7.2</td>\n",
              "      <td>11800</td>\n",
              "    </tr>\n",
              "    <tr>\n",
              "      <th>1</th>\n",
              "      <td>300000000</td>\n",
              "      <td>285</td>\n",
              "      <td>139.082615</td>\n",
              "      <td>961000000</td>\n",
              "      <td>169.0</td>\n",
              "      <td>6.9</td>\n",
              "      <td>4500</td>\n",
              "    </tr>\n",
              "  </tbody>\n",
              "</table>\n",
              "</div>\n",
              "      <button class=\"colab-df-convert\" onclick=\"convertToInteractive('df-29bfba88-a552-4362-967d-07dcf17e0abe')\"\n",
              "              title=\"Convert this dataframe to an interactive table.\"\n",
              "              style=\"display:none;\">\n",
              "        \n",
              "  <svg xmlns=\"http://www.w3.org/2000/svg\" height=\"24px\"viewBox=\"0 0 24 24\"\n",
              "       width=\"24px\">\n",
              "    <path d=\"M0 0h24v24H0V0z\" fill=\"none\"/>\n",
              "    <path d=\"M18.56 5.44l.94 2.06.94-2.06 2.06-.94-2.06-.94-.94-2.06-.94 2.06-2.06.94zm-11 1L8.5 8.5l.94-2.06 2.06-.94-2.06-.94L8.5 2.5l-.94 2.06-2.06.94zm10 10l.94 2.06.94-2.06 2.06-.94-2.06-.94-.94-2.06-.94 2.06-2.06.94z\"/><path d=\"M17.41 7.96l-1.37-1.37c-.4-.4-.92-.59-1.43-.59-.52 0-1.04.2-1.43.59L10.3 9.45l-7.72 7.72c-.78.78-.78 2.05 0 2.83L4 21.41c.39.39.9.59 1.41.59.51 0 1.02-.2 1.41-.59l7.78-7.78 2.81-2.81c.8-.78.8-2.07 0-2.86zM5.41 20L4 18.59l7.72-7.72 1.47 1.35L5.41 20z\"/>\n",
              "  </svg>\n",
              "      </button>\n",
              "      \n",
              "  <style>\n",
              "    .colab-df-container {\n",
              "      display:flex;\n",
              "      flex-wrap:wrap;\n",
              "      gap: 12px;\n",
              "    }\n",
              "\n",
              "    .colab-df-convert {\n",
              "      background-color: #E8F0FE;\n",
              "      border: none;\n",
              "      border-radius: 50%;\n",
              "      cursor: pointer;\n",
              "      display: none;\n",
              "      fill: #1967D2;\n",
              "      height: 32px;\n",
              "      padding: 0 0 0 0;\n",
              "      width: 32px;\n",
              "    }\n",
              "\n",
              "    .colab-df-convert:hover {\n",
              "      background-color: #E2EBFA;\n",
              "      box-shadow: 0px 1px 2px rgba(60, 64, 67, 0.3), 0px 1px 3px 1px rgba(60, 64, 67, 0.15);\n",
              "      fill: #174EA6;\n",
              "    }\n",
              "\n",
              "    [theme=dark] .colab-df-convert {\n",
              "      background-color: #3B4455;\n",
              "      fill: #D2E3FC;\n",
              "    }\n",
              "\n",
              "    [theme=dark] .colab-df-convert:hover {\n",
              "      background-color: #434B5C;\n",
              "      box-shadow: 0px 1px 3px 1px rgba(0, 0, 0, 0.15);\n",
              "      filter: drop-shadow(0px 1px 2px rgba(0, 0, 0, 0.3));\n",
              "      fill: #FFFFFF;\n",
              "    }\n",
              "  </style>\n",
              "\n",
              "      <script>\n",
              "        const buttonEl =\n",
              "          document.querySelector('#df-29bfba88-a552-4362-967d-07dcf17e0abe button.colab-df-convert');\n",
              "        buttonEl.style.display =\n",
              "          google.colab.kernel.accessAllowed ? 'block' : 'none';\n",
              "\n",
              "        async function convertToInteractive(key) {\n",
              "          const element = document.querySelector('#df-29bfba88-a552-4362-967d-07dcf17e0abe');\n",
              "          const dataTable =\n",
              "            await google.colab.kernel.invokeFunction('convertToInteractive',\n",
              "                                                     [key], {});\n",
              "          if (!dataTable) return;\n",
              "\n",
              "          const docLinkHtml = 'Like what you see? Visit the ' +\n",
              "            '<a target=\"_blank\" href=https://colab.research.google.com/notebooks/data_table.ipynb>data table notebook</a>'\n",
              "            + ' to learn more about interactive tables.';\n",
              "          element.innerHTML = '';\n",
              "          dataTable['output_type'] = 'display_data';\n",
              "          await google.colab.output.renderOutput(dataTable, element);\n",
              "          const docLink = document.createElement('div');\n",
              "          docLink.innerHTML = docLinkHtml;\n",
              "          element.appendChild(docLink);\n",
              "        }\n",
              "      </script>\n",
              "    </div>\n",
              "  </div>\n",
              "  "
            ]
          },
          "metadata": {},
          "execution_count": 47
        }
      ]
    },
    {
      "cell_type": "code",
      "source": [
        "X_train.describe()"
      ],
      "metadata": {
        "colab": {
          "base_uri": "https://localhost:8080/",
          "height": 300
        },
        "id": "m1ONH6Ohbbz6",
        "outputId": "aa3e9b0d-bae9-4db9-b177-c81b5447dc3d"
      },
      "execution_count": 48,
      "outputs": [
        {
          "output_type": "execute_result",
          "data": {
            "text/plain": [
              "             budget             id   popularity       revenue      runtime  \\\n",
              "count  4.803000e+03    4803.000000  4803.000000  4.803000e+03  4801.000000   \n",
              "mean   2.904504e+07   57165.484281    21.492301  8.226064e+07   106.875859   \n",
              "std    4.072239e+07   88694.614033    31.816650  1.628571e+08    22.611935   \n",
              "min    0.000000e+00       5.000000     0.000000  0.000000e+00     0.000000   \n",
              "25%    7.900000e+05    9014.500000     4.668070  0.000000e+00    94.000000   \n",
              "50%    1.500000e+07   14629.000000    12.921594  1.917000e+07   103.000000   \n",
              "75%    4.000000e+07   58610.500000    28.313505  9.291719e+07   118.000000   \n",
              "max    3.800000e+08  459488.000000   875.581305  2.787965e+09   338.000000   \n",
              "\n",
              "       vote_average    vote_count  \n",
              "count   4803.000000   4803.000000  \n",
              "mean       6.092172    690.217989  \n",
              "std        1.194612   1234.585891  \n",
              "min        0.000000      0.000000  \n",
              "25%        5.600000     54.000000  \n",
              "50%        6.200000    235.000000  \n",
              "75%        6.800000    737.000000  \n",
              "max       10.000000  13752.000000  "
            ],
            "text/html": [
              "\n",
              "  <div id=\"df-bded5555-9e16-40b5-9274-8ba6afc60b3b\">\n",
              "    <div class=\"colab-df-container\">\n",
              "      <div>\n",
              "<style scoped>\n",
              "    .dataframe tbody tr th:only-of-type {\n",
              "        vertical-align: middle;\n",
              "    }\n",
              "\n",
              "    .dataframe tbody tr th {\n",
              "        vertical-align: top;\n",
              "    }\n",
              "\n",
              "    .dataframe thead th {\n",
              "        text-align: right;\n",
              "    }\n",
              "</style>\n",
              "<table border=\"1\" class=\"dataframe\">\n",
              "  <thead>\n",
              "    <tr style=\"text-align: right;\">\n",
              "      <th></th>\n",
              "      <th>budget</th>\n",
              "      <th>id</th>\n",
              "      <th>popularity</th>\n",
              "      <th>revenue</th>\n",
              "      <th>runtime</th>\n",
              "      <th>vote_average</th>\n",
              "      <th>vote_count</th>\n",
              "    </tr>\n",
              "  </thead>\n",
              "  <tbody>\n",
              "    <tr>\n",
              "      <th>count</th>\n",
              "      <td>4.803000e+03</td>\n",
              "      <td>4803.000000</td>\n",
              "      <td>4803.000000</td>\n",
              "      <td>4.803000e+03</td>\n",
              "      <td>4801.000000</td>\n",
              "      <td>4803.000000</td>\n",
              "      <td>4803.000000</td>\n",
              "    </tr>\n",
              "    <tr>\n",
              "      <th>mean</th>\n",
              "      <td>2.904504e+07</td>\n",
              "      <td>57165.484281</td>\n",
              "      <td>21.492301</td>\n",
              "      <td>8.226064e+07</td>\n",
              "      <td>106.875859</td>\n",
              "      <td>6.092172</td>\n",
              "      <td>690.217989</td>\n",
              "    </tr>\n",
              "    <tr>\n",
              "      <th>std</th>\n",
              "      <td>4.072239e+07</td>\n",
              "      <td>88694.614033</td>\n",
              "      <td>31.816650</td>\n",
              "      <td>1.628571e+08</td>\n",
              "      <td>22.611935</td>\n",
              "      <td>1.194612</td>\n",
              "      <td>1234.585891</td>\n",
              "    </tr>\n",
              "    <tr>\n",
              "      <th>min</th>\n",
              "      <td>0.000000e+00</td>\n",
              "      <td>5.000000</td>\n",
              "      <td>0.000000</td>\n",
              "      <td>0.000000e+00</td>\n",
              "      <td>0.000000</td>\n",
              "      <td>0.000000</td>\n",
              "      <td>0.000000</td>\n",
              "    </tr>\n",
              "    <tr>\n",
              "      <th>25%</th>\n",
              "      <td>7.900000e+05</td>\n",
              "      <td>9014.500000</td>\n",
              "      <td>4.668070</td>\n",
              "      <td>0.000000e+00</td>\n",
              "      <td>94.000000</td>\n",
              "      <td>5.600000</td>\n",
              "      <td>54.000000</td>\n",
              "    </tr>\n",
              "    <tr>\n",
              "      <th>50%</th>\n",
              "      <td>1.500000e+07</td>\n",
              "      <td>14629.000000</td>\n",
              "      <td>12.921594</td>\n",
              "      <td>1.917000e+07</td>\n",
              "      <td>103.000000</td>\n",
              "      <td>6.200000</td>\n",
              "      <td>235.000000</td>\n",
              "    </tr>\n",
              "    <tr>\n",
              "      <th>75%</th>\n",
              "      <td>4.000000e+07</td>\n",
              "      <td>58610.500000</td>\n",
              "      <td>28.313505</td>\n",
              "      <td>9.291719e+07</td>\n",
              "      <td>118.000000</td>\n",
              "      <td>6.800000</td>\n",
              "      <td>737.000000</td>\n",
              "    </tr>\n",
              "    <tr>\n",
              "      <th>max</th>\n",
              "      <td>3.800000e+08</td>\n",
              "      <td>459488.000000</td>\n",
              "      <td>875.581305</td>\n",
              "      <td>2.787965e+09</td>\n",
              "      <td>338.000000</td>\n",
              "      <td>10.000000</td>\n",
              "      <td>13752.000000</td>\n",
              "    </tr>\n",
              "  </tbody>\n",
              "</table>\n",
              "</div>\n",
              "      <button class=\"colab-df-convert\" onclick=\"convertToInteractive('df-bded5555-9e16-40b5-9274-8ba6afc60b3b')\"\n",
              "              title=\"Convert this dataframe to an interactive table.\"\n",
              "              style=\"display:none;\">\n",
              "        \n",
              "  <svg xmlns=\"http://www.w3.org/2000/svg\" height=\"24px\"viewBox=\"0 0 24 24\"\n",
              "       width=\"24px\">\n",
              "    <path d=\"M0 0h24v24H0V0z\" fill=\"none\"/>\n",
              "    <path d=\"M18.56 5.44l.94 2.06.94-2.06 2.06-.94-2.06-.94-.94-2.06-.94 2.06-2.06.94zm-11 1L8.5 8.5l.94-2.06 2.06-.94-2.06-.94L8.5 2.5l-.94 2.06-2.06.94zm10 10l.94 2.06.94-2.06 2.06-.94-2.06-.94-.94-2.06-.94 2.06-2.06.94z\"/><path d=\"M17.41 7.96l-1.37-1.37c-.4-.4-.92-.59-1.43-.59-.52 0-1.04.2-1.43.59L10.3 9.45l-7.72 7.72c-.78.78-.78 2.05 0 2.83L4 21.41c.39.39.9.59 1.41.59.51 0 1.02-.2 1.41-.59l7.78-7.78 2.81-2.81c.8-.78.8-2.07 0-2.86zM5.41 20L4 18.59l7.72-7.72 1.47 1.35L5.41 20z\"/>\n",
              "  </svg>\n",
              "      </button>\n",
              "      \n",
              "  <style>\n",
              "    .colab-df-container {\n",
              "      display:flex;\n",
              "      flex-wrap:wrap;\n",
              "      gap: 12px;\n",
              "    }\n",
              "\n",
              "    .colab-df-convert {\n",
              "      background-color: #E8F0FE;\n",
              "      border: none;\n",
              "      border-radius: 50%;\n",
              "      cursor: pointer;\n",
              "      display: none;\n",
              "      fill: #1967D2;\n",
              "      height: 32px;\n",
              "      padding: 0 0 0 0;\n",
              "      width: 32px;\n",
              "    }\n",
              "\n",
              "    .colab-df-convert:hover {\n",
              "      background-color: #E2EBFA;\n",
              "      box-shadow: 0px 1px 2px rgba(60, 64, 67, 0.3), 0px 1px 3px 1px rgba(60, 64, 67, 0.15);\n",
              "      fill: #174EA6;\n",
              "    }\n",
              "\n",
              "    [theme=dark] .colab-df-convert {\n",
              "      background-color: #3B4455;\n",
              "      fill: #D2E3FC;\n",
              "    }\n",
              "\n",
              "    [theme=dark] .colab-df-convert:hover {\n",
              "      background-color: #434B5C;\n",
              "      box-shadow: 0px 1px 3px 1px rgba(0, 0, 0, 0.15);\n",
              "      filter: drop-shadow(0px 1px 2px rgba(0, 0, 0, 0.3));\n",
              "      fill: #FFFFFF;\n",
              "    }\n",
              "  </style>\n",
              "\n",
              "      <script>\n",
              "        const buttonEl =\n",
              "          document.querySelector('#df-bded5555-9e16-40b5-9274-8ba6afc60b3b button.colab-df-convert');\n",
              "        buttonEl.style.display =\n",
              "          google.colab.kernel.accessAllowed ? 'block' : 'none';\n",
              "\n",
              "        async function convertToInteractive(key) {\n",
              "          const element = document.querySelector('#df-bded5555-9e16-40b5-9274-8ba6afc60b3b');\n",
              "          const dataTable =\n",
              "            await google.colab.kernel.invokeFunction('convertToInteractive',\n",
              "                                                     [key], {});\n",
              "          if (!dataTable) return;\n",
              "\n",
              "          const docLinkHtml = 'Like what you see? Visit the ' +\n",
              "            '<a target=\"_blank\" href=https://colab.research.google.com/notebooks/data_table.ipynb>data table notebook</a>'\n",
              "            + ' to learn more about interactive tables.';\n",
              "          element.innerHTML = '';\n",
              "          dataTable['output_type'] = 'display_data';\n",
              "          await google.colab.output.renderOutput(dataTable, element);\n",
              "          const docLink = document.createElement('div');\n",
              "          docLink.innerHTML = docLinkHtml;\n",
              "          element.appendChild(docLink);\n",
              "        }\n",
              "      </script>\n",
              "    </div>\n",
              "  </div>\n",
              "  "
            ]
          },
          "metadata": {},
          "execution_count": 48
        }
      ]
    },
    {
      "cell_type": "code",
      "source": [
        "# Finding all the columns with NULL values\n",
        "\n",
        "np.sum(X_train.isnull())"
      ],
      "metadata": {
        "colab": {
          "base_uri": "https://localhost:8080/"
        },
        "id": "Y3inDd5YbexI",
        "outputId": "a4dfdbc7-d015-482c-d2f2-70316b5eb541"
      },
      "execution_count": 49,
      "outputs": [
        {
          "output_type": "execute_result",
          "data": {
            "text/plain": [
              "budget          0\n",
              "id              0\n",
              "popularity      0\n",
              "revenue         0\n",
              "runtime         2\n",
              "vote_average    0\n",
              "vote_count      0\n",
              "dtype: int64"
            ]
          },
          "metadata": {},
          "execution_count": 49
        }
      ]
    },
    {
      "cell_type": "code",
      "source": [
        "# Filling all Null values\n",
        "X_train=X_train.fillna(0)\n",
        "columns=X_train.columns.tolist()\n",
        "y=X_train['vote_average']\n",
        "X_train.drop(['vote_average'],axis=1,inplace=True)\n",
        "X_train.head()[:2]"
      ],
      "metadata": {
        "colab": {
          "base_uri": "https://localhost:8080/",
          "height": 112
        },
        "id": "Ba3r1FqYbh_K",
        "outputId": "8b5d09f1-bf6e-4ac1-9db1-36c6655e7576"
      },
      "execution_count": 50,
      "outputs": [
        {
          "output_type": "execute_result",
          "data": {
            "text/plain": [
              "      budget     id  popularity     revenue  runtime  vote_count\n",
              "0  237000000  19995  150.437577  2787965087    162.0       11800\n",
              "1  300000000    285  139.082615   961000000    169.0        4500"
            ],
            "text/html": [
              "\n",
              "  <div id=\"df-33ab6377-16ca-4444-91ed-85b8f6bb7e19\">\n",
              "    <div class=\"colab-df-container\">\n",
              "      <div>\n",
              "<style scoped>\n",
              "    .dataframe tbody tr th:only-of-type {\n",
              "        vertical-align: middle;\n",
              "    }\n",
              "\n",
              "    .dataframe tbody tr th {\n",
              "        vertical-align: top;\n",
              "    }\n",
              "\n",
              "    .dataframe thead th {\n",
              "        text-align: right;\n",
              "    }\n",
              "</style>\n",
              "<table border=\"1\" class=\"dataframe\">\n",
              "  <thead>\n",
              "    <tr style=\"text-align: right;\">\n",
              "      <th></th>\n",
              "      <th>budget</th>\n",
              "      <th>id</th>\n",
              "      <th>popularity</th>\n",
              "      <th>revenue</th>\n",
              "      <th>runtime</th>\n",
              "      <th>vote_count</th>\n",
              "    </tr>\n",
              "  </thead>\n",
              "  <tbody>\n",
              "    <tr>\n",
              "      <th>0</th>\n",
              "      <td>237000000</td>\n",
              "      <td>19995</td>\n",
              "      <td>150.437577</td>\n",
              "      <td>2787965087</td>\n",
              "      <td>162.0</td>\n",
              "      <td>11800</td>\n",
              "    </tr>\n",
              "    <tr>\n",
              "      <th>1</th>\n",
              "      <td>300000000</td>\n",
              "      <td>285</td>\n",
              "      <td>139.082615</td>\n",
              "      <td>961000000</td>\n",
              "      <td>169.0</td>\n",
              "      <td>4500</td>\n",
              "    </tr>\n",
              "  </tbody>\n",
              "</table>\n",
              "</div>\n",
              "      <button class=\"colab-df-convert\" onclick=\"convertToInteractive('df-33ab6377-16ca-4444-91ed-85b8f6bb7e19')\"\n",
              "              title=\"Convert this dataframe to an interactive table.\"\n",
              "              style=\"display:none;\">\n",
              "        \n",
              "  <svg xmlns=\"http://www.w3.org/2000/svg\" height=\"24px\"viewBox=\"0 0 24 24\"\n",
              "       width=\"24px\">\n",
              "    <path d=\"M0 0h24v24H0V0z\" fill=\"none\"/>\n",
              "    <path d=\"M18.56 5.44l.94 2.06.94-2.06 2.06-.94-2.06-.94-.94-2.06-.94 2.06-2.06.94zm-11 1L8.5 8.5l.94-2.06 2.06-.94-2.06-.94L8.5 2.5l-.94 2.06-2.06.94zm10 10l.94 2.06.94-2.06 2.06-.94-2.06-.94-.94-2.06-.94 2.06-2.06.94z\"/><path d=\"M17.41 7.96l-1.37-1.37c-.4-.4-.92-.59-1.43-.59-.52 0-1.04.2-1.43.59L10.3 9.45l-7.72 7.72c-.78.78-.78 2.05 0 2.83L4 21.41c.39.39.9.59 1.41.59.51 0 1.02-.2 1.41-.59l7.78-7.78 2.81-2.81c.8-.78.8-2.07 0-2.86zM5.41 20L4 18.59l7.72-7.72 1.47 1.35L5.41 20z\"/>\n",
              "  </svg>\n",
              "      </button>\n",
              "      \n",
              "  <style>\n",
              "    .colab-df-container {\n",
              "      display:flex;\n",
              "      flex-wrap:wrap;\n",
              "      gap: 12px;\n",
              "    }\n",
              "\n",
              "    .colab-df-convert {\n",
              "      background-color: #E8F0FE;\n",
              "      border: none;\n",
              "      border-radius: 50%;\n",
              "      cursor: pointer;\n",
              "      display: none;\n",
              "      fill: #1967D2;\n",
              "      height: 32px;\n",
              "      padding: 0 0 0 0;\n",
              "      width: 32px;\n",
              "    }\n",
              "\n",
              "    .colab-df-convert:hover {\n",
              "      background-color: #E2EBFA;\n",
              "      box-shadow: 0px 1px 2px rgba(60, 64, 67, 0.3), 0px 1px 3px 1px rgba(60, 64, 67, 0.15);\n",
              "      fill: #174EA6;\n",
              "    }\n",
              "\n",
              "    [theme=dark] .colab-df-convert {\n",
              "      background-color: #3B4455;\n",
              "      fill: #D2E3FC;\n",
              "    }\n",
              "\n",
              "    [theme=dark] .colab-df-convert:hover {\n",
              "      background-color: #434B5C;\n",
              "      box-shadow: 0px 1px 3px 1px rgba(0, 0, 0, 0.15);\n",
              "      filter: drop-shadow(0px 1px 2px rgba(0, 0, 0, 0.3));\n",
              "      fill: #FFFFFF;\n",
              "    }\n",
              "  </style>\n",
              "\n",
              "      <script>\n",
              "        const buttonEl =\n",
              "          document.querySelector('#df-33ab6377-16ca-4444-91ed-85b8f6bb7e19 button.colab-df-convert');\n",
              "        buttonEl.style.display =\n",
              "          google.colab.kernel.accessAllowed ? 'block' : 'none';\n",
              "\n",
              "        async function convertToInteractive(key) {\n",
              "          const element = document.querySelector('#df-33ab6377-16ca-4444-91ed-85b8f6bb7e19');\n",
              "          const dataTable =\n",
              "            await google.colab.kernel.invokeFunction('convertToInteractive',\n",
              "                                                     [key], {});\n",
              "          if (!dataTable) return;\n",
              "\n",
              "          const docLinkHtml = 'Like what you see? Visit the ' +\n",
              "            '<a target=\"_blank\" href=https://colab.research.google.com/notebooks/data_table.ipynb>data table notebook</a>'\n",
              "            + ' to learn more about interactive tables.';\n",
              "          element.innerHTML = '';\n",
              "          dataTable['output_type'] = 'display_data';\n",
              "          await google.colab.output.renderOutput(dataTable, element);\n",
              "          const docLink = document.createElement('div');\n",
              "          docLink.innerHTML = docLinkHtml;\n",
              "          element.appendChild(docLink);\n",
              "        }\n",
              "      </script>\n",
              "    </div>\n",
              "  </div>\n",
              "  "
            ]
          },
          "metadata": {},
          "execution_count": 50
        }
      ]
    },
    {
      "cell_type": "code",
      "source": [
        "# GETTING Correllation matrix\n",
        "corr_mat=X_train.corr(method='pearson')\n",
        "plt.figure(figsize=(20,10))\n",
        "sns.heatmap(corr_mat,vmax=1,square=True,annot=True,cmap='cubehelix')"
      ],
      "metadata": {
        "colab": {
          "base_uri": "https://localhost:8080/",
          "height": 650
        },
        "id": "Cjp5QxQQdJzm",
        "outputId": "6301aedc-e2e1-41ae-de4c-193ffd3d4c31"
      },
      "execution_count": 51,
      "outputs": [
        {
          "output_type": "execute_result",
          "data": {
            "text/plain": [
              "<matplotlib.axes._subplots.AxesSubplot at 0x7f1bac55a390>"
            ]
          },
          "metadata": {},
          "execution_count": 51
        },
        {
          "output_type": "display_data",
          "data": {
            "text/plain": [
              "<Figure size 1440x720 with 2 Axes>"
            ],
            "image/png": "[encoded data removed]"
          },
          "metadata": {}
        }
      ]
    },
    {
      "cell_type": "code",
      "source": [
        "X_Train=X_train.values\n",
        "X_Train=np.asarray(X_Train)\n",
        "\n",
        "# Finding normalised array of X_Train\n",
        "X_std=StandardScaler().fit_transform(X_Train)"
      ],
      "metadata": {
        "id": "OsWA1RpidQB0"
      },
      "execution_count": 52,
      "outputs": []
    },
    {
      "cell_type": "code",
      "source": [
        "from sklearn.decomposition import PCA\n",
        "pca = PCA().fit(X_std)\n",
        "plt.plot(np.cumsum(pca.explained_variance_ratio_))\n",
        "plt.xlim(0,7,1)\n",
        "plt.xlabel('Number of components')\n",
        "plt.ylabel('Cumulative explained variance')"
      ],
      "metadata": {
        "colab": {
          "base_uri": "https://localhost:8080/",
          "height": 331
        },
        "id": "EDPASreFdob0",
        "outputId": "ed9ea205-27db-4d88-806a-b0289c826891"
      },
      "execution_count": 53,
      "outputs": [
        {
          "output_type": "execute_result",
          "data": {
            "text/plain": [
              "Text(0, 0.5, 'Cumulative explained variance')"
            ]
          },
          "metadata": {},
          "execution_count": 53
        },
        {
          "output_type": "display_data",
          "data": {
            "text/plain": [
              "<Figure size 432x288 with 1 Axes>"
            ],
            "image/png": "[encoded data removed]"
          },
          "metadata": {}
        }
      ]
    },
    {
      "cell_type": "markdown",
      "source": [
        "Como 4 componentes podem explicar mais de 90% da variância, escolhemos o número de componentes como 4"
      ],
      "metadata": {
        "id": "M0m_h61nd9bR"
      }
    },
    {
      "cell_type": "code",
      "source": [
        "sklearn_pca=PCA(n_components=5)\n",
        "X_Train=sklearn_pca.fit_transform(X_std)\n",
        "\n",
        "sns.set(style='darkgrid')\n",
        "f, ax = plt.subplots(figsize=(8, 8))\n",
        "# ax.set_aspect('equal')\n",
        "ax = sns.kdeplot(X_Train[:,0], X_Train[:,1], cmap=\"Greens\",\n",
        "          shade=True, shade_lowest=False)\n",
        "ax = sns.kdeplot(X_Train[:,1], X_Train[:,2], cmap=\"Reds\",\n",
        "          shade=True, shade_lowest=False)\n",
        "ax = sns.kdeplot(X_Train[:,2], X_Train[:,3], cmap=\"Blues\",\n",
        "          shade=True, shade_lowest=False)\n",
        "red = sns.color_palette(\"Reds\")[-2]\n",
        "blue = sns.color_palette(\"Blues\")[-2]\n",
        "green = sns.color_palette(\"Greens\")[-2]\n",
        "ax.text(0.5, 0.5, \"2nd and 3rd Projection\", size=12, color=blue)\n",
        "ax.text(-4, 0.0, \"1st and 3rd Projection\", size=12, color=red)\n",
        "ax.text(2, 0, \"1st and 2nd Projection\", size=12, color=green)\n",
        "plt.xlim(-6,5)\n",
        "plt.ylim(-2,2)"
      ],
      "metadata": {
        "colab": {
          "base_uri": "https://localhost:8080/",
          "height": 539
        },
        "id": "1GKZAMandq9I",
        "outputId": "126af1aa-70f9-4ebe-9e25-2bfd1f64dc86"
      },
      "execution_count": 54,
      "outputs": [
        {
          "output_type": "execute_result",
          "data": {
            "text/plain": [
              "(-2.0, 2.0)"
            ]
          },
          "metadata": {},
          "execution_count": 54
        },
        {
          "output_type": "display_data",
          "data": {
            "text/plain": [
              "<Figure size 576x576 with 1 Axes>"
            ],
            "image/png": "[encoded data removed]"
          },
          "metadata": {}
        }
      ]
    },
    {
      "cell_type": "code",
      "source": [
        "number_of_samples = len(y)\n",
        "np.random.seed(0)\n",
        "random_indices = np.random.permutation(number_of_samples)\n",
        "num_training_samples = int(number_of_samples*0.75)\n",
        "x_train = X_Train[random_indices[:num_training_samples]]\n",
        "y_train=y[random_indices[:num_training_samples]]\n",
        "x_test=X_Train[random_indices[num_training_samples:]]\n",
        "y_test=y[random_indices[num_training_samples:]]\n",
        "y_Train=list(y_train)"
      ],
      "metadata": {
        "id": "9pXn4Q86eh5i"
      },
      "execution_count": 55,
      "outputs": []
    },
    {
      "cell_type": "code",
      "source": [
        "model=linear_model.Ridge()\n",
        "model.fit(x_train,y_train)\n",
        "y_predict=model.predict(x_train)\n",
        "\n",
        "error=0\n",
        "for i in range(len(y_Train)):\n",
        "    error+=(abs(y_Train[i]-y_predict[i])/y_Train[i])\n",
        "train_error_ridge=error/len(y_Train)*100\n",
        "print(\"Train error = \"'{}'.format(train_error_ridge)+\" percent in Ridge Regression\")\n",
        "\n",
        "Y_test=model.predict(x_test)\n",
        "y_Predict=list(y_test)\n",
        "\n",
        "error=0\n",
        "for i in range(len(y_test)):\n",
        "    error+=(abs(y_Predict[i]-Y_test[i])/y_Predict[i])\n",
        "test_error_ridge=error/len(Y_test)*100\n",
        "print(\"Test error = \"'{}'.format(test_error_ridge)+\" percent in Ridge Regression\")"
      ],
      "metadata": {
        "colab": {
          "base_uri": "https://localhost:8080/"
        },
        "id": "u_DwKRqIgx9d",
        "outputId": "b6974325-9eb5-496e-8ba9-aed0b32505a0"
      },
      "execution_count": 57,
      "outputs": [
        {
          "output_type": "stream",
          "name": "stdout",
          "text": [
            "Train error = inf percent in Ridge Regression\n",
            "Test error = inf percent in Ridge Regression\n"
          ]
        }
      ]
    },
    {
      "cell_type": "markdown",
      "source": [
        "Começo do KNN"
      ],
      "metadata": {
        "id": "D3vSe69Tek4c"
      }
    },
    {
      "cell_type": "code",
      "source": [
        "from sklearn import neighbors\n",
        "from sklearn import linear_model\n",
        "%matplotlib inline\n",
        "\n",
        "n_neighbors=4\n",
        "knn=neighbors.KNeighborsRegressor(n_neighbors,weights='uniform')\n",
        "knn.fit(x_train,y_train)\n",
        "y1_knn=knn.predict(x_train)\n",
        "y1_knn=list(y1_knn)\n",
        "\n",
        "error=0\n",
        "for i in range(len(y_train)):\n",
        "    error+=(abs(y1_knn[i]-y_Train[i])/y_Train[i])\n",
        "train_error_knn=error/len(y_Train)*100\n",
        "print(\"Train error = \"+'{}'.format(train_error_knn)+\" percent\"+\" in Knn algorithm\")\n",
        "\n",
        "y2_knn=knn.predict(x_test)\n",
        "y2_knn=list(y2_knn)\n",
        "error=0\n",
        "for i in range(len(y_test)):\n",
        "    error+=(abs(y2_knn[i]-Y_test[i])/Y_test[i])\n",
        "test_error_knn=error/len(Y_test)*100\n",
        "print(\"Test error = \"'{}'.format(test_error_knn)+\" percent\"+\" in knn algorithm\")"
      ],
      "metadata": {
        "colab": {
          "base_uri": "https://localhost:8080/"
        },
        "id": "XIHQf4zfeoz3",
        "outputId": "cd8f4f27-bc43-47b8-f086-6ea1d57df0cb"
      },
      "execution_count": 58,
      "outputs": [
        {
          "output_type": "stream",
          "name": "stdout",
          "text": [
            "Train error = inf percent in Knn algorithm\n",
            "Test error = 7.356017949099171 percent in knn algorithm\n"
          ]
        }
      ]
    },
    {
      "cell_type": "code",
      "source": [
        "plt.rcParams['figure.figsize'] = (6.0, 6.0)\n",
        "preds = pd.DataFrame({\"preds\":knn.predict(x_train), \"true\":y_train})\n",
        "preds[\"residuals\"] = preds[\"true\"] - preds[\"preds\"]\n",
        "preds.plot(x = \"preds\", y = \"residuals\",kind = \"scatter\")\n",
        "plt.title(\"Residual plot in Knn\")"
      ],
      "metadata": {
        "colab": {
          "base_uri": "https://localhost:8080/",
          "height": 466
        },
        "id": "ElQHPEViiZdo",
        "outputId": "1fefa427-dc24-4427-e3ce-5c5aa5ff994c"
      },
      "execution_count": 60,
      "outputs": [
        {
          "output_type": "stream",
          "name": "stderr",
          "text": [
            "*c* argument looks like a single numeric RGB or RGBA sequence, which should be avoided as value-mapping will have precedence in case its length matches with *x* & *y*.  Please use the *color* keyword-argument or provide a 2-D array with a single row if you intend to specify the same RGB or RGBA value for all points.\n"
          ]
        },
        {
          "output_type": "execute_result",
          "data": {
            "text/plain": [
              "Text(0.5, 1.0, 'Residual plot in Knn')"
            ]
          },
          "metadata": {},
          "execution_count": 60
        },
        {
          "output_type": "display_data",
          "data": {
            "text/plain": [
              "<Figure size 432x432 with 1 Axes>"
            ],
            "image/png": "[encoded data removed]"
          },
          "metadata": {
            "needs_background": "light"
          }
        }
      ]
    },
    {
      "cell_type": "code",
      "source": [
        "#Trabalhando com a coluna de gêneros\n",
        "movies['genres'] = movies['genres'].str.strip('[]').str.replace(' ','').str.replace(\"'\",'')\n",
        "movies['genres'] = movies['genres'].str.split(',')"
      ],
      "metadata": {
        "id": "Gi1OQ_cxDe6D"
      },
      "execution_count": 135,
      "outputs": []
    },
    {
      "cell_type": "code",
      "source": [
        "# Plotando os gêneros mais utilizados na base\n",
        "plt.subplots(figsize=(12,10))\n",
        "list1 = []\n",
        "for i in movies['genres']:\n",
        "    list1.extend(i)\n",
        "ax = pd.Series(list1).value_counts()[:10].sort_values(ascending=True).plot.barh(width=0.9,color=sns.color_palette('hls',10))\n",
        "for i, v in enumerate(pd.Series(list1).value_counts()[:10].sort_values(ascending=True).values): \n",
        "    ax.text(.8, i, v,fontsize=12,color='white',weight='bold')\n",
        "plt.title('Top Genres')\n",
        "plt.show()"
      ],
      "metadata": {
        "colab": {
          "base_uri": "https://localhost:8080/",
          "height": 610
        },
        "id": "vBFvTSRNDmjE",
        "outputId": "e07971dc-be9f-4c93-ae75-074a44070873"
      },
      "execution_count": 136,
      "outputs": [
        {
          "output_type": "display_data",
          "data": {
            "text/plain": [
              "<Figure size 864x720 with 1 Axes>"
            ],
            "image/png": "[encoded data removed]"
          },
          "metadata": {
            "needs_background": "light"
          }
        }
      ]
    },
    {
      "cell_type": "code",
      "source": [
        "for i,j in zip(movies['genres'],movies.index):\n",
        "    list2=[]\n",
        "    list2=i\n",
        "    list2.sort()\n",
        "    movies.loc[j,'genres']=str(list2)\n",
        "movies['genres'] = movies['genres'].str.strip('[]').str.replace(' ','').str.replace(\"'\",'')\n",
        "movies['genres'] = movies['genres'].str.split(',')"
      ],
      "metadata": {
        "id": "xRBSTg6uDvfe"
      },
      "execution_count": null,
      "outputs": []
    },
    {
      "cell_type": "code",
      "source": [
        "genreList = []\n",
        "for index, row in movies.iterrows():\n",
        "    genres = row[\"genres\"]\n",
        "    \n",
        "    for genre in genres:\n",
        "        if genre not in genreList:\n",
        "            genreList.append(genre)\n",
        "genreList[:10] #now we have a list with unique genres"
      ],
      "metadata": {
        "id": "kb02Y7SpEJXK"
      },
      "execution_count": null,
      "outputs": []
    },
    {
      "cell_type": "code",
      "source": [
        "def binary(genre_list):\n",
        "    binaryList = []\n",
        "    \n",
        "    for genre in genreList:\n",
        "        if genre in genre_list:\n",
        "            binaryList.append(1)\n",
        "        else:\n",
        "            binaryList.append(0)\n",
        "    \n",
        "    return binaryList"
      ],
      "metadata": {
        "id": "tkXwPwBgERay"
      },
      "execution_count": null,
      "outputs": []
    },
    {
      "cell_type": "code",
      "source": [
        "movies['genres_bin'] = movies['genres'].apply(lambda x: binary(x))\n",
        "movies['genres_bin'].head()"
      ],
      "metadata": {
        "id": "MUxFr1ucEZVf"
      },
      "execution_count": null,
      "outputs": []
    },
    {
      "cell_type": "markdown",
      "source": [
        "Trabalhando com colunas de Cast"
      ],
      "metadata": {
        "id": "hsk--HJHErFF"
      }
    },
    {
      "cell_type": "code",
      "source": [
        "movies['cast'] = movies['cast'].str.strip('[]').str.replace(' ','').str.replace(\"'\",'').str.replace('\"','')\n",
        "movies['cast'] = movies['cast'].str.split(',')"
      ],
      "metadata": {
        "id": "tndL3nflE1-t"
      },
      "execution_count": null,
      "outputs": []
    },
    {
      "cell_type": "code",
      "source": [
        "plt.subplots(figsize=(12,10))\n",
        "list1=[]\n",
        "for i in movies['cast']:\n",
        "    list1.extend(i)\n",
        "ax=pd.Series(list1).value_counts()[:15].sort_values(ascending=True).plot.barh(width=0.9,color=sns.color_palette('muted',40))\n",
        "for i, v in enumerate(pd.Series(list1).value_counts()[:15].sort_values(ascending=True).values): \n",
        "    ax.text(.8, i, v,fontsize=10,color='white',weight='bold')\n",
        "plt.title('Actors with highest appearance')\n",
        "plt.show()"
      ],
      "metadata": {
        "id": "_zorQVq8E58R"
      },
      "execution_count": null,
      "outputs": []
    },
    {
      "cell_type": "code",
      "source": [
        "for i,j in zip(movies['cast'],movies.index):\n",
        "    list2 = []\n",
        "    list2 = i[:4]\n",
        "    movies.loc[j,'cast'] = str(list2)\n",
        "\n",
        "movies['cast'] = movies['cast'].str.strip('[]').str.replace(' ','').str.replace(\"'\",'')\n",
        "movies['cast'] = movies['cast'].str.split(',')\n",
        "\n",
        "for i,j in zip(movies['cast'],movies.index):\n",
        "    list2 = []\n",
        "    list2 = i\n",
        "    list2.sort()\n",
        "    movies.loc[j,'cast'] = str(list2)\n",
        "\n",
        "movies['cast']=movies['cast'].str.strip('[]').str.replace(' ','').str.replace(\"'\",'')"
      ],
      "metadata": {
        "id": "URVpnuO7E8Hg"
      },
      "execution_count": null,
      "outputs": []
    },
    {
      "cell_type": "code",
      "source": [
        "castList = []\n",
        "for index, row in movies.iterrows():\n",
        "    cast = row[\"cast\"]\n",
        "    \n",
        "    for i in cast:\n",
        "        if i not in castList:\n",
        "            castList.append(i)"
      ],
      "metadata": {
        "id": "UcfnH2NqFWW8"
      },
      "execution_count": null,
      "outputs": []
    },
    {
      "cell_type": "code",
      "source": [
        "def binary(cast_list):\n",
        "    binaryList = []\n",
        "    \n",
        "    for genre in castList:\n",
        "        if genre in cast_list:\n",
        "            binaryList.append(1)\n",
        "        else:\n",
        "            binaryList.append(0)\n",
        "    \n",
        "    return binaryList"
      ],
      "metadata": {
        "id": "ej64QGYgFeHj"
      },
      "execution_count": null,
      "outputs": []
    },
    {
      "cell_type": "code",
      "source": [
        ""
      ],
      "metadata": {
        "id": "1JXC49pGFfc-"
      },
      "execution_count": null,
      "outputs": []
    },
    {
      "cell_type": "code",
      "source": [
        "#mostra a coluna e o seu tipo\n",
        "#filmes.info()"
      ],
      "metadata": {
        "id": "Xhm3uJu9dqC1"
      },
      "execution_count": null,
      "outputs": []
    },
    {
      "cell_type": "code",
      "source": [
        "#filmes.describe()"
      ],
      "metadata": {
        "id": "FkuOB3iA8pdx"
      },
      "execution_count": null,
      "outputs": []
    },
    {
      "cell_type": "code",
      "source": [
        "#filmes.describe(include=['object'])"
      ],
      "metadata": {
        "id": "1aeWEBxf89-X"
      },
      "execution_count": null,
      "outputs": []
    },
    {
      "cell_type": "code",
      "source": [
        "#Utilizando boxplot para visualizar nossos outliars\n",
        "#plt.boxplot(filmes['release_year'])\n",
        "\n",
        "#plt.title('Ano de lançamento')\n",
        "#plt.xlabel('a')\n",
        "#plt.ylabel('b')"
      ],
      "metadata": {
        "id": "cQJNDTcBF-DE"
      },
      "execution_count": null,
      "outputs": []
    },
    {
      "cell_type": "markdown",
      "source": [
        "## Questão 4:"
      ],
      "metadata": {
        "id": "KXcAhzYQ-CMZ"
      }
    },
    {
      "cell_type": "markdown",
      "source": [
        "**(2 Pontos)** Considerando a matriz de confusão abaixo, quais são os valores das métricas listadas abaixo?\n",
        "\n",
        "Obs: **Classe verdadeira - Coluna | Classe predita - Linha**\n",
        "\n",
        "| **CLASSES** | Maçã | Laranja | Limão | Manga |\n",
        "| ------- | :--: | :-----: | :---: | :---: |\n",
        "| Maçã | 70 | 20 | 5 | 5 |\n",
        "| Laranja | 10 | 67 | 3 | 20 | \n",
        "| Limão | 5 | 30 | 55 | 10 | \n",
        "| Manga | 5 | 4 | 2 | 1000 |\n",
        "\n",
        "Maçã:\n",
        "\n",
        "| **CLASSES** | Maçã | Laranja | Limão | Manga |\n",
        "| ------- | :--: | :-----: | :---: | :---: | \n",
        "| Maçã | VP | FP | FP | FP |\n",
        "| Laranja | FN | VN | VN | VN |\n",
        "| Limão | FN | VN | VN | VN |\n",
        "| Manga | FN | VN | VN | VN |\n",
        "\n",
        "Laranja:\n",
        "\n",
        "| **CLASSES** | Maçã | Laranja | Limão | Manga |\n",
        "| ------- | :--: | :-----: | :---: | :---: | \n",
        "| Maçã | VN | FN | VN | VN |\n",
        "| Laranja | FP | VP | FP | FP |\n",
        "| Limão | VN | FN | VN | VN |\n",
        "| Manga | VN | FN | VN | VN |\n",
        "\n",
        "Limão:\n",
        "\n",
        "| **CLASSES** | Maçã | Laranja | Limão | Manga |\n",
        "| ------- | :--: | :-----: | :---: | :---: | \n",
        "| Maçã | VN | VN | FN | VN |\n",
        "| Laranja | VN | VN| FN | VN |\n",
        "| Limão | FP | FP | VP | FP |\n",
        "| Manga | VN | VN | FN | VN |\n",
        "\n",
        "Manga:\n",
        "\n",
        "| **CLASSES** | Maçã | Laranja | Limão | Manga |\n",
        "| ------- | :--: | :-----: | :---: | :---: | \n",
        "| Maçã | VN | VN | VN | FN |\n",
        "| Laranja | VN | VN | VN | FN |\n",
        "| Limão | VN | VN | VN | FN |\n",
        "| Manga | FP | FP | FP | VP |\n",
        "\n",
        "Organizando nossos valores em uma tabela, temos:\n",
        "\n",
        "| **CLASSES** | VP | VN | FP | FN |\n",
        "| ------- | :--: | :-----: | :---: | :---: | \n",
        "| Maçã | 70 | 1191 | 30 | 20 |\n",
        "| Laranja | 67 | 1157 | 33 | 54 | \n",
        "| Limão | 55 | 1201 | 45 | 10 | \n",
        "| Manga | 1000 | 265 | 11 | 35 |\n",
        "\n",
        "* Sensibilidade\n",
        "* Especificidade\n",
        "* Precisão\n",
        "* Medida F1 \n",
        "* Acurácia\n",
        "* Coeficiente de Matthews\n",
        "* AUC\n",
        "\n",
        "Como você resolveria o problema dessa base de dados observando as métricas de avaliação?\n"
      ],
      "metadata": {
        "id": "_vlnIs69VcTL"
      }
    },
    {
      "cell_type": "code",
      "source": [
        "#Criando uma classe Fruta com os parâmetros\n",
        "#Verdadeiro Positivo, Verdadeiro Negativo, Falso Positivo, Falso Negativo\n",
        "\n",
        "class Fruta:\n",
        "  def __init__(self, vp, vn, fp, fn):\n",
        "    self.vp = vp\n",
        "    self.vn = vn\n",
        "    self.fp = fp\n",
        "    self.fn = fn\n",
        "\n",
        "#Inicializando os objetos com seus valores \n",
        "maca = Fruta(70,1191,30,20)\n",
        "laranja = Fruta(67,1157,33,54)\n",
        "limao = Fruta(55,1201,45,10)\n",
        "manga = Fruta(1000,265,11,35)"
      ],
      "metadata": {
        "id": "VxTWQfmrbHhE"
      },
      "execution_count": 73,
      "outputs": []
    },
    {
      "cell_type": "markdown",
      "source": [
        "### Métricas de Desempenho:"
      ],
      "metadata": {
        "id": "wHEaLSaB6PG2"
      }
    },
    {
      "cell_type": "markdown",
      "source": [
        "#### Sensibilidade:\n",
        "\n",
        "<img src=\"https://latex.codecogs.com/svg.image?sens(\\hat{f})&space;=&space;rev(\\hat{f})&space;=&space;TVP(\\hat{f})&space;=&space;\\frac{VP}{VP&plus;FN}\" title=\"https://latex.codecogs.com/svg.image?sens(\\hat{f}) = rev(\\hat{f}) = TVP(\\hat{f}) = \\frac{VP}{VP+FN}\" />\n"
      ],
      "metadata": {
        "id": "rJVs4pvxZWLL"
      }
    },
    {
      "cell_type": "code",
      "source": [
        "#Função para calcular a sensibilidade\n",
        "def sens(VP, FN):\n",
        "  sensibilidade = (VP/(VP+FN))\n",
        "  return sensibilidade\n"
      ],
      "metadata": {
        "id": "KRkDWB1HabvK"
      },
      "execution_count": 74,
      "outputs": []
    },
    {
      "cell_type": "code",
      "source": [
        "#Sensibilidade de Maçã, Laranja, Limão e Manga respectivamente.\n",
        "sens_maca = sens(maca.vp, maca.fn)\n",
        "sens_laranja = sens(laranja.vp, laranja.fn)\n",
        "sens_limao = sens(limao.vp, limao.fn)\n",
        "sens_manga = sens(manga.vp, manga.fn)\n",
        "\n",
        "#Printando as sensibilidades:\n",
        "print('A sensibilidade de maçã:{:.2f}'.format(sens_maca))\n",
        "print('A sensibilidade de laranja:{:.2f}'.format(sens_laranja))\n",
        "print('A sensibilidade de limão:{:.2f}'.format(sens_limao))\n",
        "print('A sensibilidade de manga:{:.2f}'.format(sens_manga))\n",
        "\n",
        "#Printando a média de Sensibilidade:\n",
        "sens_media = (sens_maca + sens_laranja + sens_limao + sens_manga ) / 4\n",
        "print('\\nA média de sensibilidade da Matriz de Confusão é:{:.2f}\\n'.format(sens_media))"
      ],
      "metadata": {
        "colab": {
          "base_uri": "https://localhost:8080/"
        },
        "id": "7VTt2tODdHHX",
        "outputId": "1a85adec-03ca-4c74-f63b-41798633309f"
      },
      "execution_count": 75,
      "outputs": [
        {
          "output_type": "stream",
          "name": "stdout",
          "text": [
            "A sensibilidade de maçã:0.78\n",
            "A sensibilidade de laranja:0.55\n",
            "A sensibilidade de limão:0.85\n",
            "A sensibilidade de manga:0.97\n",
            "\n",
            "A média de sensibilidade da Matriz de Confusão é:0.79\n",
            "\n"
          ]
        }
      ]
    },
    {
      "cell_type": "markdown",
      "source": [
        "#### Especificidade: \n",
        "\n",
        "<img src=\"https://latex.codecogs.com/svg.image?esp(\\hat{f})&space;=&space;\\frac{VN}{VN&plus;FP}&space;=&space;1-TFP(\\hat{f})\" title=\"https://latex.codecogs.com/svg.image?esp(\\hat{f}) = \\frac{VN}{VN+FP} = 1-TFP(\\hat{f})\" />"
      ],
      "metadata": {
        "id": "G0WUKsavZdGj"
      }
    },
    {
      "cell_type": "code",
      "source": [
        "#Função para calcular a especificidade\n",
        "def esp(VN, FP):\n",
        "  especificidade = VN/(VN+FP)\n",
        "  return especificidade"
      ],
      "metadata": {
        "id": "2yqdO9gPhRT2"
      },
      "execution_count": 76,
      "outputs": []
    },
    {
      "cell_type": "code",
      "source": [
        "#Especificidade de Maçã, Laranja, Limão e Manga respectivamente.\n",
        "espec_maca = esp(maca.vn, maca.fp)\n",
        "espec_laranja = esp(laranja.vn, laranja.fp)\n",
        "espec_limao = esp(limao.vn, limao.fp)\n",
        "espec_manga = esp(manga.vn, manga.fp)\n",
        "\n",
        "#Printando as especificidades\n",
        "print('A especificidade de maçã:{:.2f}'.format(espec_maca))\n",
        "print('A especificidade de laranja:{:.2f}'.format(espec_laranja))\n",
        "print('A especificidade de limão:{:.2f}'.format(espec_limao))\n",
        "print('A especificidade de manga:{:.2f}'.format(espec_manga))\n",
        "\n",
        "#Printando a média de especificidade:\n",
        "esp_media = (espec_maca + espec_laranja + espec_limao + espec_manga ) / 4\n",
        "print('\\nA média de especificidade da Matriz de Confusão é:{:.2f}\\n'.format(esp_media))"
      ],
      "metadata": {
        "id": "IBC90GC6h2LM",
        "colab": {
          "base_uri": "https://localhost:8080/"
        },
        "outputId": "a979784e-e64e-4053-ac0b-8807a18c24b4"
      },
      "execution_count": 77,
      "outputs": [
        {
          "output_type": "stream",
          "name": "stdout",
          "text": [
            "A especificidade de maçã:0.98\n",
            "A especificidade de laranja:0.97\n",
            "A especificidade de limão:0.96\n",
            "A especificidade de manga:0.96\n",
            "\n",
            "A média de especificidade da Matriz de Confusão é:0.97\n",
            "\n"
          ]
        }
      ]
    },
    {
      "cell_type": "markdown",
      "source": [
        "#### Precisão:\n",
        "\n",
        "<img src=\"https://latex.codecogs.com/svg.image?prec(\\hat{f})&space;=&space;\\frac{VP}{VP&plus;FP}\" title=\"https://latex.codecogs.com/svg.image?prec(\\hat{f}) = \\frac{VP}{VP+FP}\" />\n"
      ],
      "metadata": {
        "id": "zV2-u3djZi5y"
      }
    },
    {
      "cell_type": "code",
      "source": [
        "#Função para calcular a precisão\n",
        "def prec(VP, FP):\n",
        "  precisao = VP/(VP+FP)\n",
        "  return precisao"
      ],
      "metadata": {
        "id": "3n86Z_6ckeAT"
      },
      "execution_count": null,
      "outputs": []
    },
    {
      "cell_type": "code",
      "source": [
        "#Precisão de Maçã, Laranja, Limão e Manga respectivamente.\n",
        "prec_maca = prec(maca.vp, maca.fp)\n",
        "prec_laranja = prec(laranja.vp, laranja.fp)\n",
        "prec_limao = prec(limao.vp, limao.fp)\n",
        "prec_manga = prec(manga.vp, manga.fp)\n",
        "\n",
        "#Printando as precisões:\n",
        "print('A precisão de maçã:{:.2f}'.format(prec_maca))\n",
        "print('A precisão de laranja:{:.2f}'.format(prec_laranja))\n",
        "print('A precisão de limão:{:.2f}'.format(prec_limao))\n",
        "print('A precisão de manga:{:.2f}'.format(prec_manga))\n",
        "\n",
        "#Printando a média de precisão:\n",
        "prec_media = (prec_maca + prec_laranja + prec_limao + prec_manga ) / 4\n",
        "print('\\nA média de precisão da Matriz de Confusão é:{:.2f}\\n'.format(prec_media))"
      ],
      "metadata": {
        "id": "BDfSjCKTkpp5"
      },
      "execution_count": null,
      "outputs": []
    },
    {
      "cell_type": "markdown",
      "source": [
        "#### Medida-F1:\n",
        "\n",
        "<img src=\"https://latex.codecogs.com/svg.image?F&space;=&space;2&space;\\cdot&space;\\frac{prec&space;\\cdot&space;sens}{prec&space;&plus;&space;sens}\" title=\"https://latex.codecogs.com/svg.image?F = 2 \\cdot \\frac{prec \\cdot sens}{prec + sens}\" />"
      ],
      "metadata": {
        "id": "K_4FmJ9NZmdO"
      }
    },
    {
      "cell_type": "code",
      "source": [
        "#Função para calcular a medida-F:\n",
        "def medf(PREC, SENS):\n",
        "  medidaF = 2*((PREC*SENS)/(PREC+SENS))\n",
        "  return medidaF"
      ],
      "metadata": {
        "id": "j3kzHfHhlhAG"
      },
      "execution_count": null,
      "outputs": []
    },
    {
      "cell_type": "code",
      "source": [
        "#Medida-F de Maçã, Laranja, Limão e Manga respectivamente.\n",
        "med_maca = medf(prec_maca, sens_maca)\n",
        "med_laranja = medf(prec_laranja, sens_laranja)\n",
        "med_limao = medf(prec_limao, sens_limao)\n",
        "med_manga = medf(prec_manga, sens_manga)\n",
        "\n",
        "#Printando as precisões:\n",
        "print('A Medida-F1 de maçã:{:.2f}'.format(med_maca))\n",
        "print('A Medida-F1 de laranja:{:.2f}'.format(med_laranja))\n",
        "print('A Medida-F1 de limão:{:.2f}'.format(med_limao))\n",
        "print('A Medida-F1 de manga:{:.2f}'.format(med_manga))\n",
        "\n",
        "#Printando a média de Medida-F1:\n",
        "med_media = (med_maca + med_laranja + med_limao + med_manga ) / 4\n",
        "print('\\nA média de Medida-F1 da Matriz de Confusão é:{:.2f}\\n'.format(med_media))"
      ],
      "metadata": {
        "id": "KU4kS2ELm2NT"
      },
      "execution_count": null,
      "outputs": []
    },
    {
      "cell_type": "markdown",
      "source": [
        "#### Acurácia Total:\n",
        "\n",
        "<img src=\"https://latex.codecogs.com/svg.image?ac(\\hat{f})&space;=&space;\\frac{VP&plus;VN}{n}\" title=\"https://latex.codecogs.com/svg.image?ac(\\hat{f}) = \\frac{VP+VN}{n}\" />"
      ],
      "metadata": {
        "id": "_KhNrBg6ZqSk"
      }
    },
    {
      "cell_type": "code",
      "source": [
        "#Função para calcular a medida-F:\n",
        "def ac(VP, VN, FP, FN):\n",
        "  acuracia = (VP+VN)/(VP+VN+FP+FN)\n",
        "  return acuracia"
      ],
      "metadata": {
        "id": "2_IcjB48pPfQ"
      },
      "execution_count": null,
      "outputs": []
    },
    {
      "cell_type": "code",
      "source": [
        "#Acurácia total de Maçã, Laranja, Limão e Manga respectivamente.\n",
        "act_maca = ac(maca.vp, maca.vn, maca.fp, maca.fn)\n",
        "act_laranja = ac(laranja.vp, laranja.vn, laranja.fp, laranja.fn)\n",
        "act_limao = ac(limao.vp, limao.vn, limao.fp, limao.fn)\n",
        "act_manga = ac(manga.vp, manga.vn, manga.fp, manga.fn)\n",
        "\n",
        "#Printando as acurácias:\n",
        "print('A acurácia total de maçã:{:.2f}'.format(act_maca))\n",
        "print('A acurácia total de laranja:{:.2f}'.format(act_laranja))\n",
        "print('A acurácia total de limão:{:.2f}'.format(act_limao))\n",
        "print('A acurácia total de manga:{:.2f}'.format(act_manga))\n",
        "\n",
        "#Printando a média de Acurácia total:\n",
        "act_media = (act_maca + act_laranja + act_limao + act_manga ) / 4\n",
        "print('\\nA média de Acurácia Total da Matriz de Confusão é:{:.2f}\\n'.format(act_media))"
      ],
      "metadata": {
        "id": "UdFVs8gNq-8m"
      },
      "execution_count": null,
      "outputs": []
    },
    {
      "cell_type": "markdown",
      "source": [
        "#### Coeficiente Matthews:\n",
        "\n",
        "<img src=\"https://latex.codecogs.com/svg.image?phi&space;=&space;\\frac{(VP\\cdot&space;VN&space;-&space;FP\\cdot&space;FN)}{\\sqrt{(VP&plus;FP)\\cdot&space;(VP&plus;FN)\\cdot&space;(VN&plus;FP)\\cdot&space;(VN&plus;FN)}}&space;\" title=\"https://latex.codecogs.com/svg.image?phi = \\frac{(VP\\cdot VN - FP\\cdot FN)}{\\sqrt{(VP+FP)\\cdot (VP+FN)\\cdot (VN+FP)\\cdot (VN+FN)}} \" />\n"
      ],
      "metadata": {
        "id": "RKQ0pE8JZs4R"
      }
    },
    {
      "cell_type": "code",
      "source": [
        "#Função para calcular o Coeficiente Matthews:\n",
        "import math\n",
        "def matthews(VP, VN, FP, FN):\n",
        "  phi = ((VP*VN)-(FP*FN)) / math.sqrt(((VP+FP)*(VP+FN)*(VN+FP)*(VN+FN)))\n",
        "  return phi"
      ],
      "metadata": {
        "id": "LnWNnyHTNkos"
      },
      "execution_count": 81,
      "outputs": []
    },
    {
      "cell_type": "code",
      "source": [
        "#Coeficiente Matthews de Maçã, Laranja, Limão e Manga respectivamente.\n",
        "matthews_maca = matthews(maca.vp, maca.vn, maca.fp, maca.fn)\n",
        "matthews_laranja = matthews(laranja.vp, laranja.vn, laranja.fp, laranja.fn)\n",
        "matthews_limao = matthews(limao.vp, limao.vn, limao.fp, limao.fn)\n",
        "matthews_manga = matthews(manga.vp, manga.vn, manga.fp, manga.fn)\n",
        "\n",
        "#Printando a média de Coeficiente Matthews:\n",
        "phi = (matthews_maca + matthews_laranja + matthews_limao + matthews_manga ) / 4\n",
        "print('\\nO Coeficiente Matthews da Matriz de Confusão é:{:.2f}\\n'.format(phi))"
      ],
      "metadata": {
        "id": "IHAlz_fbQVHk",
        "colab": {
          "base_uri": "https://localhost:8080/"
        },
        "outputId": "e4a70327-5491-4d9b-819f-bd61efea4741"
      },
      "execution_count": 83,
      "outputs": [
        {
          "output_type": "stream",
          "name": "stdout",
          "text": [
            "\n",
            "O Coeficiente Matthews da Matriz de Confusão é:0.71\n",
            "\n"
          ]
        }
      ]
    },
    {
      "cell_type": "markdown",
      "source": [
        "#### AUC:"
      ],
      "metadata": {
        "id": "FF50rNAlp-ZW"
      }
    },
    {
      "cell_type": "code",
      "source": [
        "import numpy as np\n",
        "\n",
        "def auc(SENS, ESPEC):\n",
        "  tvp = SENS\n",
        "  tfp = (1-ESPEC)\n",
        "\n",
        "  x = np.array([0, tvp, 1])\n",
        "  y = np.array([0, tfp, 1])\n",
        "\n",
        "  auc = np.trapz(x, y)\n",
        "  return auc"
      ],
      "metadata": {
        "id": "AFAkgCABqle_"
      },
      "execution_count": 79,
      "outputs": []
    },
    {
      "cell_type": "code",
      "source": [
        "#Printando a média de Coeficiente Matthews:\n",
        "AUC = auc(sens_media, esp_media)\n",
        "print('\\nO AUC da Matriz de Confusão é:{:.2f}\\n'.format(AUC))"
      ],
      "metadata": {
        "colab": {
          "base_uri": "https://localhost:8080/"
        },
        "id": "cwfXeR7TsjWR",
        "outputId": "270f40c2-e919-426c-c81d-2c89615ee880"
      },
      "execution_count": 80,
      "outputs": [
        {
          "output_type": "stream",
          "name": "stdout",
          "text": [
            "\n",
            "O AUC da Matriz de Confusão é:0.88\n",
            "\n"
          ]
        }
      ]
    },
    {
      "cell_type": "markdown",
      "source": [
        "#### Conclusão:"
      ],
      "metadata": {
        "id": "ic2Cdd4VU6oX"
      }
    },
    {
      "cell_type": "markdown",
      "source": [
        "* Sensibilidade = 0.79\n",
        "* Especificidade = 0.97\n",
        "* Precisão = 0.73\n",
        "* Medida F1 = 0.75\n",
        "* Acurácia = 0.95\n",
        "* Coeficiente de Matthews = 0.71\n",
        "* AUC = 0.88"
      ],
      "metadata": {
        "id": "u2LfMUdLVB2Z"
      }
    },
    {
      "cell_type": "markdown",
      "source": [
        "Para melhorar as métricas de avaliação, é necessário melhorar a fase de pré-processamento do banco de dados, portanto, executar uma limpeza na base de dados e re-treinar o modelo de classificação."
      ],
      "metadata": {
        "id": "CJpZ4TKOeKnS"
      }
    },
    {
      "cell_type": "markdown",
      "source": [
        "## Questão Extra: "
      ],
      "metadata": {
        "id": "Pl-D2wFGZpwJ"
      }
    },
    {
      "cell_type": "markdown",
      "source": [
        "Elabore uma pergunta e responda sobre \"Preconceito e Inteligência Artificial\", refletindo aspectos importantes do método que uma pessoa engenheiro de dados/cientista de dados deve conhecer e se preocupar garantindo ética nos modelos criados."
      ],
      "metadata": {
        "id": "ckFlZsMYdLlj"
      }
    },
    {
      "cell_type": "code",
      "source": [
        ""
      ],
      "metadata": {
        "id": "QKUvjpyFwNFa"
      },
      "execution_count": null,
      "outputs": []
    }
  ]
}